{
 "cells": [
  {
   "cell_type": "markdown",
   "id": "1dfc904d-e5fb-4952-9436-c43b1ebce182",
   "metadata": {},
   "source": [
    "### QUESTIONS\n",
    "1. Create a variable called few_number and assign a range of numbers between 25 to 106 using the range function\n",
    "   * Print the list of the range\n",
    "   * Count the total number of elements in the variable few_number\n",
    "   * Retrieve the last number in the list\n",
    "   * Sort the elements in descending order.\n",
    "   * After sorting the elements, retrieve the last elemensts in the list\n",
    "\n",
    "2. Create an empty list called data_engineers\n",
    "   * Add all the names of everyone in the data engineering hub group to the empty list\n",
    "   * Sort the list in ascending order after adding everyone\n",
    "   * Replace the last element with the name Caleb\n",
    "   * Retrieve 3 elements that follows each other starting with the first index (Expected to use index slicing) and assign the output to a variable called subset_names.\n",
    "   * Print the the total elements in subset_names.\n",
    "\n",
    "3. Create a variable called price and assign a value 100 to it.\n",
    "   * Print tha value of the price with a meaningful statement using F-string interpolation or formatting.\n",
    "   * Create any 2 random strings, and assign them to their corresponding variables.\n",
    "   * Concatenate both strings together and assign the output to another variable called concatenated_strings.\n",
    "   * Print the new variable concatenated_strings.\n",
    "   * Print the total character in the variable concatenated_strings."
   ]
  },
  {
   "cell_type": "code",
   "execution_count": 1,
   "id": "1b53df67-495b-480c-bd2b-c60568e90cde",
   "metadata": {},
   "outputs": [],
   "source": [
    "# createa variable called few_number\n",
    "few_number = list(range(25, 106))"
   ]
  },
  {
   "cell_type": "code",
   "execution_count": 2,
   "id": "88b0528b-7cd6-4603-98e6-7117681d670e",
   "metadata": {},
   "outputs": [
    {
     "name": "stdout",
     "output_type": "stream",
     "text": [
      "[25, 26, 27, 28, 29, 30, 31, 32, 33, 34, 35, 36, 37, 38, 39, 40, 41, 42, 43, 44, 45, 46, 47, 48, 49, 50, 51, 52, 53, 54, 55, 56, 57, 58, 59, 60, 61, 62, 63, 64, 65, 66, 67, 68, 69, 70, 71, 72, 73, 74, 75, 76, 77, 78, 79, 80, 81, 82, 83, 84, 85, 86, 87, 88, 89, 90, 91, 92, 93, 94, 95, 96, 97, 98, 99, 100, 101, 102, 103, 104, 105]\n"
     ]
    }
   ],
   "source": [
    "# print all the elements in the list\n",
    "print(few_number)"
   ]
  },
  {
   "cell_type": "code",
   "execution_count": 3,
   "id": "cfbf29f7-3620-49c5-b537-5874952af601",
   "metadata": {},
   "outputs": [
    {
     "name": "stdout",
     "output_type": "stream",
     "text": [
      "81\n"
     ]
    }
   ],
   "source": [
    "# count all the elements in the list\n",
    "print(len(few_number))"
   ]
  },
  {
   "cell_type": "code",
   "execution_count": 4,
   "id": "7de1b163-e3b5-4fb8-bdc1-aef6c3a8bed5",
   "metadata": {},
   "outputs": [
    {
     "data": {
      "text/plain": [
       "105"
      ]
     },
     "execution_count": 4,
     "metadata": {},
     "output_type": "execute_result"
    }
   ],
   "source": [
    "# retrieve the last element in the list\n",
    "few_number[-1]"
   ]
  },
  {
   "cell_type": "code",
   "execution_count": 5,
   "id": "3fd0ac3f-1f85-4b83-9e17-9d5011175dff",
   "metadata": {},
   "outputs": [],
   "source": [
    "# sort the elements in the list in descending order\n",
    "sorted_list = sorted(few_number, reverse = True)"
   ]
  },
  {
   "cell_type": "code",
   "execution_count": 6,
   "id": "d30d2678-4424-4a12-a05a-8e206d971b69",
   "metadata": {},
   "outputs": [
    {
     "name": "stdout",
     "output_type": "stream",
     "text": [
      "[105, 104, 103, 102, 101, 100, 99, 98, 97, 96, 95, 94, 93, 92, 91, 90, 89, 88, 87, 86, 85, 84, 83, 82, 81, 80, 79, 78, 77, 76, 75, 74, 73, 72, 71, 70, 69, 68, 67, 66, 65, 64, 63, 62, 61, 60, 59, 58, 57, 56, 55, 54, 53, 52, 51, 50, 49, 48, 47, 46, 45, 44, 43, 42, 41, 40, 39, 38, 37, 36, 35, 34, 33, 32, 31, 30, 29, 28, 27, 26, 25]\n"
     ]
    }
   ],
   "source": [
    "print(sorted_list)"
   ]
  },
  {
   "cell_type": "code",
   "execution_count": 7,
   "id": "dd483f51-4da2-4587-aace-45b938862007",
   "metadata": {},
   "outputs": [
    {
     "name": "stdout",
     "output_type": "stream",
     "text": [
      "25\n"
     ]
    }
   ],
   "source": [
    "# retrieve the last element from the sorted list\n",
    "print(sorted_list[-1])"
   ]
  },
  {
   "cell_type": "raw",
   "id": "f5557e8b-3965-42e3-8920-53b63047ea56",
   "metadata": {},
   "source": [
    "QUESTION 2"
   ]
  },
  {
   "cell_type": "code",
   "execution_count": 8,
   "id": "189e7c9f-7716-4ac2-91ab-ad7df4f39e06",
   "metadata": {},
   "outputs": [],
   "source": [
    "# create an empty list called data_engineers\n",
    "data_engineers = []"
   ]
  },
  {
   "cell_type": "code",
   "execution_count": 9,
   "id": "bfa4604e-adaf-410a-be06-89c5b107b288",
   "metadata": {},
   "outputs": [],
   "source": [
    "# list containg everyone on the data engineering hub group\n",
    "everyone = [\"chichi\", \"mayor\", \"esther\", \"segun\", \"joachim\", \"chukwujekwu\", \"amanda\", \"yinka\", \"paul\"]"
   ]
  },
  {
   "cell_type": "code",
   "execution_count": 10,
   "id": "5ee5774f-2844-4865-85b1-8dbaa617dd07",
   "metadata": {},
   "outputs": [
    {
     "name": "stdout",
     "output_type": "stream",
     "text": [
      "['chichi', 'mayor', 'esther', 'segun', 'joachim', 'chukwujekwu', 'amanda', 'yinka', 'paul']\n"
     ]
    }
   ],
   "source": [
    "# ieterate through the list appending each names in the empty list\n",
    "for name in everyone:\n",
    "    data_engineers.append(name)\n",
    "\n",
    "print(data_engineers)"
   ]
  },
  {
   "cell_type": "code",
   "execution_count": 11,
   "id": "c22025b6-dec5-40c8-954d-3bb847cad034",
   "metadata": {},
   "outputs": [
    {
     "name": "stdout",
     "output_type": "stream",
     "text": [
      "['amanda', 'chichi', 'chukwujekwu', 'esther', 'joachim', 'mayor', 'paul', 'segun', 'yinka']\n"
     ]
    }
   ],
   "source": [
    "# sort the newly filled list in ascending order\n",
    "\n",
    "sorted_data_hub = sorted(data_engineers)\n",
    "print(sorted_data_hub)"
   ]
  },
  {
   "cell_type": "code",
   "execution_count": 12,
   "id": "a43b09a9-71ec-46bd-8d88-75ef7f96bf6a",
   "metadata": {},
   "outputs": [],
   "source": [
    "# Replace the last element with caleb\n",
    "sorted_data_hub[-1] = \"caleb\""
   ]
  },
  {
   "cell_type": "code",
   "execution_count": 13,
   "id": "836fe894-b038-4de0-8599-a302666ad43e",
   "metadata": {},
   "outputs": [
    {
     "name": "stdout",
     "output_type": "stream",
     "text": [
      "['amanda', 'chichi', 'chukwujekwu', 'esther', 'joachim', 'mayor', 'paul', 'segun', 'caleb']\n"
     ]
    }
   ],
   "source": [
    "print(sorted_data_hub)"
   ]
  },
  {
   "cell_type": "code",
   "execution_count": 15,
   "id": "e4837800-c189-44dc-b4d3-5f4a4a033d7f",
   "metadata": {},
   "outputs": [],
   "source": [
    "# retrieve 3 elements that follows each other from the first index\n",
    "subset_names = sorted_data_hub[:3]"
   ]
  },
  {
   "cell_type": "code",
   "execution_count": 16,
   "id": "ac774ffd-23bb-4168-9d98-09934b9f0796",
   "metadata": {},
   "outputs": [
    {
     "name": "stdout",
     "output_type": "stream",
     "text": [
      "['amanda', 'chichi', 'chukwujekwu']\n"
     ]
    }
   ],
   "source": [
    "print(subset_names)"
   ]
  },
  {
   "cell_type": "code",
   "execution_count": 17,
   "id": "34adc4bc-712a-48a8-9ade-353ba8e1e8e8",
   "metadata": {},
   "outputs": [],
   "source": [
    "# Create a variable called price and assign the value 100 to it\n",
    "price = 100"
   ]
  },
  {
   "cell_type": "code",
   "execution_count": 19,
   "id": "f536bed7-0585-456e-8928-06fc4383eb5c",
   "metadata": {},
   "outputs": [
    {
     "name": "stdout",
     "output_type": "stream",
     "text": [
      "The price of a pair of googles is $100.\n"
     ]
    }
   ],
   "source": [
    "# print the value of the price with a meaningful statement using f'string\n",
    "print(f\"The price of a pair of googles is ${price}.\")"
   ]
  },
  {
   "cell_type": "code",
   "execution_count": 21,
   "id": "776bdd5b-ec58-49e0-b2ef-ee8fe9e60355",
   "metadata": {},
   "outputs": [],
   "source": [
    "# assign the color and outfit type to two variables\n",
    "color = \"Blue\"\n",
    "outfit = \"Pants\""
   ]
  },
  {
   "cell_type": "code",
   "execution_count": 22,
   "id": "829e9b07-8d50-4687-b012-79347b83fb49",
   "metadata": {},
   "outputs": [],
   "source": [
    "# concatenate both strings into a variable called concatenated_strings\n",
    "concatenated_strings = color + \" \" + outfit"
   ]
  },
  {
   "cell_type": "code",
   "execution_count": 23,
   "id": "c131778d-7323-4fbe-9bcd-ac48e7bc6e93",
   "metadata": {},
   "outputs": [
    {
     "name": "stdout",
     "output_type": "stream",
     "text": [
      "Blue Pants\n"
     ]
    }
   ],
   "source": [
    "print(concatenated_strings)"
   ]
  },
  {
   "cell_type": "code",
   "execution_count": null,
   "id": "ea578876-ad99-4fd3-93ff-f7ba19bcf9cc",
   "metadata": {},
   "outputs": [],
   "source": []
  }
 ],
 "metadata": {
  "kernelspec": {
   "display_name": "Python 3 (ipykernel)",
   "language": "python",
   "name": "python3"
  },
  "language_info": {
   "codemirror_mode": {
    "name": "ipython",
    "version": 3
   },
   "file_extension": ".py",
   "mimetype": "text/x-python",
   "name": "python",
   "nbconvert_exporter": "python",
   "pygments_lexer": "ipython3",
   "version": "3.12.1"
  }
 },
 "nbformat": 4,
 "nbformat_minor": 5
}
