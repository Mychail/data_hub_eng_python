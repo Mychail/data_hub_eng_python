{
 "cells": [
  {
   "cell_type": "markdown",
   "id": "ca75f745-8435-4ad3-bf07-fed0fc80571b",
   "metadata": {},
   "source": [
    "## QUESTIONS"
   ]
  },
  {
   "cell_type": "markdown",
   "id": "b3d189c6-2578-4101-a8f7-48a11589e75b",
   "metadata": {},
   "source": [
    "1. Create any random Dictionary with 5 items\n",
    "    * retrieve all its keys at the same time\n",
    "    * retrieve all its values at the same time"
   ]
  },
  {
   "cell_type": "code",
   "execution_count": 1,
   "id": "6a51e08a-1643-4802-9797-d8cd8ffbe5e4",
   "metadata": {},
   "outputs": [],
   "source": [
    "isp_user = {\"spectranet\": [\"rand\", \"jekwu\"], \"mtn\": [\"samuel\", \"taiwo\"], \"starlink\": [\"bosun\", \"mayor\", \"segun\"]}"
   ]
  },
  {
   "cell_type": "code",
   "execution_count": 2,
   "id": "1007d99f-1380-4db4-8616-8a5695fecc42",
   "metadata": {},
   "outputs": [
    {
     "name": "stdout",
     "output_type": "stream",
     "text": [
      "dict_keys(['spectranet', 'mtn', 'starlink'])\n"
     ]
    }
   ],
   "source": [
    "# retrieve all the keys\n",
    "print(isp_user.keys())"
   ]
  },
  {
   "cell_type": "code",
   "execution_count": 4,
   "id": "9e73248a-b9c5-48a9-96d8-aec1398a9ebf",
   "metadata": {},
   "outputs": [
    {
     "name": "stdout",
     "output_type": "stream",
     "text": [
      "dict_values([['rand', 'jekwu'], ['samuel', 'taiwo'], ['bosun', 'mayor', 'segun']])\n"
     ]
    }
   ],
   "source": [
    "# retrive all its values at the same time\n",
    "print(isp_user.values())"
   ]
  },
  {
   "cell_type": "markdown",
   "id": "63f3bc4f-c826-4cb3-b9d3-f19cf4900d00",
   "metadata": {},
   "source": [
    "2. Create a random list that contains duplicate elements\n",
    "   * find a way to remove all the duplicates so as to have a unique element in the list."
   ]
  },
  {
   "cell_type": "code",
   "execution_count": 6,
   "id": "ba1d9641-fd74-4513-b1c6-82ea1404a2cb",
   "metadata": {},
   "outputs": [],
   "source": [
    "# create a random list that contains duplicate elements\n",
    "fruits = [\"apple\", \"pine\", \"cherry\", \"grapes\", \"apple\", \"cherry\"]"
   ]
  },
  {
   "cell_type": "code",
   "execution_count": 10,
   "id": "8d5482da-cbcc-4fd9-bbaf-a833b145f374",
   "metadata": {},
   "outputs": [
    {
     "name": "stdout",
     "output_type": "stream",
     "text": [
      "['pine', 'grapes', 'apple', 'cherry']\n"
     ]
    }
   ],
   "source": [
    "# remove all duplicates, leaving only unique elements\n",
    "fruits_new = list(set(fruits))\n",
    "print(fruits_new)"
   ]
  },
  {
   "cell_type": "markdown",
   "id": "7e84eec7-6e64-4ed7-8b4c-edeb71f4261a",
   "metadata": {},
   "source": [
    "3. Create any random tuple with 5 elements in it\n",
    "   * find a way to add 1 element to the tuple\n",
    "   * find a way to remove the first index of the tuple\n",
    "   * find a way to change the second index of the element to another element\n",
    "    "
   ]
  },
  {
   "cell_type": "code",
   "execution_count": 11,
   "id": "a5106a47-05dd-4389-981b-5419fbab5f4c",
   "metadata": {},
   "outputs": [],
   "source": [
    "cars = (\"jaguar\", \"peugeot\", \"benz\", \"toyota\", \"maseratti\")"
   ]
  },
  {
   "cell_type": "code",
   "execution_count": 16,
   "id": "27a48900-87f8-430c-9403-223c3383a0bb",
   "metadata": {},
   "outputs": [],
   "source": [
    "cars_lst = list(cars)"
   ]
  },
  {
   "cell_type": "code",
   "execution_count": 17,
   "id": "4cbbe539-c451-4c9c-8b4b-36e07b7ffb23",
   "metadata": {},
   "outputs": [
    {
     "name": "stdout",
     "output_type": "stream",
     "text": [
      "['jaguar', 'peugeot', 'benz', 'toyota', 'maseratti', 'volvo']\n"
     ]
    }
   ],
   "source": [
    "cars_lst.append(\"volvo\")\n",
    "print(cars_lst)"
   ]
  },
  {
   "cell_type": "code",
   "execution_count": 18,
   "id": "53896b84-e32f-476d-9536-b82d040b5fa1",
   "metadata": {},
   "outputs": [],
   "source": [
    "cars_tuple = tuple(cars_lst)"
   ]
  },
  {
   "cell_type": "code",
   "execution_count": 19,
   "id": "3f43e18f-936b-4105-8e91-49219f7cdb11",
   "metadata": {},
   "outputs": [
    {
     "name": "stdout",
     "output_type": "stream",
     "text": [
      "('jaguar', 'peugeot', 'benz', 'toyota', 'maseratti', 'volvo')\n"
     ]
    }
   ],
   "source": [
    "print(cars_tuple)"
   ]
  },
  {
   "cell_type": "code",
   "execution_count": 29,
   "id": "1730e3cd-19ea-4379-938d-84a214e20cb4",
   "metadata": {},
   "outputs": [],
   "source": [
    "new_list = list(cars_tuple)"
   ]
  },
  {
   "cell_type": "code",
   "execution_count": 30,
   "id": "8930c16e-7400-4ff0-a9db-3ab12e4556eb",
   "metadata": {},
   "outputs": [
    {
     "data": {
      "text/plain": [
       "'jaguar'"
      ]
     },
     "execution_count": 30,
     "metadata": {},
     "output_type": "execute_result"
    }
   ],
   "source": [
    "new_list.pop(0)"
   ]
  },
  {
   "cell_type": "code",
   "execution_count": 31,
   "id": "abde6029-5184-472a-ab5a-fcabc5ae91cd",
   "metadata": {},
   "outputs": [
    {
     "name": "stdout",
     "output_type": "stream",
     "text": [
      "['peugeot', 'benz', 'toyota', 'maseratti', 'volvo']\n"
     ]
    }
   ],
   "source": [
    "print(new_list)"
   ]
  },
  {
   "cell_type": "code",
   "execution_count": 32,
   "id": "489a7a85-e488-4d98-aa64-67eacbc269a3",
   "metadata": {},
   "outputs": [
    {
     "name": "stdout",
     "output_type": "stream",
     "text": [
      "('peugeot', 'benz', 'toyota', 'maseratti', 'volvo')\n"
     ]
    }
   ],
   "source": [
    "cars_popped = tuple(new_list)\n",
    "print(cars_popped)"
   ]
  },
  {
   "cell_type": "code",
   "execution_count": 37,
   "id": "138e1c91-a452-47ea-bfa3-c2daa78e034c",
   "metadata": {},
   "outputs": [
    {
     "name": "stdout",
     "output_type": "stream",
     "text": [
      "['peugeot', 'daewoo', 'toyota', 'maseratti', 'volvo']\n"
     ]
    }
   ],
   "source": [
    "# copy to new list and replace the second index to daewoo\n",
    "lst = new_list.copy()\n",
    "\n",
    "lst[1] = \"daewoo\"\n",
    "print(lst)"
   ]
  },
  {
   "cell_type": "code",
   "execution_count": 36,
   "id": "f5e0a773-8f79-43a5-8524-e23452c233c7",
   "metadata": {},
   "outputs": [
    {
     "name": "stdout",
     "output_type": "stream",
     "text": [
      "('peugeot', 'daewoo', 'toyota', 'maseratti', 'volvo')\n"
     ]
    }
   ],
   "source": [
    "# covert back to tuple\n",
    "cars_tpl = tuple(lst)\n",
    "print(cars_tpl)"
   ]
  },
  {
   "cell_type": "markdown",
   "id": "66b3c54d-abb3-4772-a758-d4621cc7b4df",
   "metadata": {},
   "source": [
    "4. Create a random set with 10 numbers\n",
    "   * convert the set to a list\n",
    "   * count the total element in the list\n",
    "   * divide the result of the count by 2 : **note** make sure the result is an integer, must not use round function"
   ]
  },
  {
   "cell_type": "code",
   "execution_count": 58,
   "id": "9c55e858-f2f0-492b-b087-c8e561ecc1c8",
   "metadata": {},
   "outputs": [],
   "source": [
    "# create a set\n",
    "num = {1, 2, 4, 12, 15, 26, 34, 56, 45, 16}"
   ]
  },
  {
   "cell_type": "code",
   "execution_count": 59,
   "id": "4755276a-f03b-4186-9111-b53c56857ea9",
   "metadata": {},
   "outputs": [
    {
     "name": "stdout",
     "output_type": "stream",
     "text": [
      "<class 'set'>\n"
     ]
    }
   ],
   "source": [
    "print(type(num))"
   ]
  },
  {
   "cell_type": "code",
   "execution_count": 60,
   "id": "8ab79082-4a55-440e-8ce7-410afc4c3f54",
   "metadata": {},
   "outputs": [],
   "source": [
    "# convert to list\n",
    "num_lst = list(num)"
   ]
  },
  {
   "cell_type": "code",
   "execution_count": 61,
   "id": "4892fbc8-e8a1-4b66-9c11-2d983373b7d1",
   "metadata": {},
   "outputs": [
    {
     "name": "stdout",
     "output_type": "stream",
     "text": [
      "[1, 2, 34, 4, 12, 45, 15, 16, 56, 26]\n"
     ]
    }
   ],
   "source": [
    "print(num_lst)"
   ]
  },
  {
   "cell_type": "code",
   "execution_count": 62,
   "id": "44af9a74-1d92-4a3d-a425-c5e2a693f621",
   "metadata": {},
   "outputs": [
    {
     "name": "stdout",
     "output_type": "stream",
     "text": [
      "10\n"
     ]
    }
   ],
   "source": [
    "# count number of elements in the list\n",
    "print(len(num_lst))"
   ]
  },
  {
   "cell_type": "code",
   "execution_count": 63,
   "id": "274c15af-f5d1-4e20-9e89-e5a6eb01e8a6",
   "metadata": {},
   "outputs": [],
   "source": [
    "result = len(num_lst)//2"
   ]
  },
  {
   "cell_type": "code",
   "execution_count": 64,
   "id": "3acd5272-6141-4ff5-b3c9-408deeec8b58",
   "metadata": {},
   "outputs": [
    {
     "name": "stdout",
     "output_type": "stream",
     "text": [
      "5\n"
     ]
    }
   ],
   "source": [
    "print(result)"
   ]
  },
  {
   "cell_type": "code",
   "execution_count": null,
   "id": "b94c1bd9-baa5-4915-b81f-2c8184e2e762",
   "metadata": {},
   "outputs": [],
   "source": []
  },
  {
   "cell_type": "code",
   "execution_count": null,
   "id": "cc89ce14-4938-44a7-8423-20a9fc2f873f",
   "metadata": {},
   "outputs": [],
   "source": []
  }
 ],
 "metadata": {
  "kernelspec": {
   "display_name": "Python 3 (ipykernel)",
   "language": "python",
   "name": "python3"
  },
  "language_info": {
   "codemirror_mode": {
    "name": "ipython",
    "version": 3
   },
   "file_extension": ".py",
   "mimetype": "text/x-python",
   "name": "python",
   "nbconvert_exporter": "python",
   "pygments_lexer": "ipython3",
   "version": "3.12.1"
  }
 },
 "nbformat": 4,
 "nbformat_minor": 5
}
