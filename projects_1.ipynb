{
 "cells": [
  {
   "cell_type": "markdown",
   "id": "51f28acd-0316-4988-95bd-126674e4b94b",
   "metadata": {},
   "source": [
    "## PROJECT 1\n",
    "Build a navigation system that tells any individual the total commute time it will take to get to Lekki from the Lagos International Airport, based on some factors that includes rain and traffic using the below parameters/variables. We dont't need to get any user input, only using the varibales below. "
   ]
  },
  {
   "cell_type": "code",
   "execution_count": 1,
   "id": "71383836-3447-40c9-aaa9-6dc4082791e0",
   "metadata": {},
   "outputs": [
    {
     "name": "stdout",
     "output_type": "stream",
     "text": [
      "The total commute time from MM2  to Lekki will be 60 minutes due to the heavy rains and traffic.\n"
     ]
    }
   ],
   "source": [
    "normal_commute_time = 30\n",
    "is_raining = True\n",
    "is_traffic = True\n",
    "\n",
    "# using the if statements to set the possiblities\n",
    "if is_raining == False and is_traffic == False :\n",
    "    print(f\"The total commute time from MM2  to Lekki will be {normal_commute_time} minutes.\")\n",
    "elif is_raining == True and is_traffic == False :\n",
    "    normal_commute_time += 10\n",
    "    print(f\"The total commute time from MM2  to Lekki will be {normal_commute_time} minutes due to the Rains\")\n",
    "elif is_raining == False and is_traffic == True:\n",
    "    normal_commute_time += 20\n",
    "    print(f\"The total commute time from MM2  to Lekki will be {normal_commute_time} minutes due to the heavy traffic.\")\n",
    "else:\n",
    "    normal_commute_time += 30\n",
    "    print(f\"The total commute time from MM2  to Lekki will be {normal_commute_time} minutes due to the heavy rains and traffic.\")"
   ]
  },
  {
   "cell_type": "markdown",
   "id": "d5a5a831-a31e-4c98-bdf8-7a7f58b7e075",
   "metadata": {},
   "source": [
    "## PROJECT 2\n",
    "Build a loan application system for a Bank in Nigeria that either approves or declines a loan application based on some data about the applicant. The bank only wants to approve any loan application, if the applicant is employed, and their salary is greater than 500,000 naira."
   ]
  },
  {
   "cell_type": "code",
   "execution_count": 11,
   "id": "c1b8e1e7-d2f6-4545-8ada-e4748e123662",
   "metadata": {},
   "outputs": [
    {
     "name": "stdin",
     "output_type": "stream",
     "text": [
      "Enter your first name:  sharon gold\n",
      "Are you currently employed? (yes or no)  no\n",
      "enter your annual salary:  10000000\n"
     ]
    },
    {
     "name": "stdout",
     "output_type": "stream",
     "text": [
      "Please wait, sharon gold, we are verifying your status !!!\n",
      "We are sorry sharon gold, your loan was not approved. you do not meet the requirements.\n"
     ]
    }
   ],
   "source": [
    "import time\n",
    "cust_name = input(\"Enter your first name: \")\n",
    "is_employed = input(\"Are you currently employed? (yes or no) \").lower()\n",
    "\n",
    "# phasing the desired results into a dictionary\n",
    "choice_dict = {\"yes\": True, \"no\": False}\n",
    "is_employed = choice_dict.get(is_employed, None)\n",
    "\n",
    "# using an if statement to check the validity of the details passed\n",
    "if is_employed is None:\n",
    "    print(\"Invalid input. Please enter 'yes' or 'no'.\")\n",
    "else:\n",
    "    salary = float(input(\"enter your annual salary: \"))\n",
    "\n",
    "    salary_threshold = 500000\n",
    "    \n",
    "\n",
    "\n",
    "    print(f\"Please wait, {cust_name}, we are verifying your status !!!\")\n",
    "    \n",
    "    time.sleep(4)\n",
    "    \n",
    "    if is_employed == True and salary > salary_threshold :\n",
    "        print(f\"congratulations {cust_name}, your loan has been approved!!!.\")\n",
    "    else:\n",
    "        print(f\"We are sorry {cust_name}, your loan was not approved. you do not meet the requirements.\")\n",
    "              "
   ]
  },
  {
   "cell_type": "code",
   "execution_count": null,
   "id": "f4086248-e3e2-4dd6-ad50-3798ae7f39aa",
   "metadata": {},
   "outputs": [],
   "source": []
  }
 ],
 "metadata": {
  "kernelspec": {
   "display_name": "Python 3 (ipykernel)",
   "language": "python",
   "name": "python3"
  },
  "language_info": {
   "codemirror_mode": {
    "name": "ipython",
    "version": 3
   },
   "file_extension": ".py",
   "mimetype": "text/x-python",
   "name": "python",
   "nbconvert_exporter": "python",
   "pygments_lexer": "ipython3",
   "version": "3.12.1"
  }
 },
 "nbformat": 4,
 "nbformat_minor": 5
}
