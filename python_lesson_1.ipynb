{
 "cells": [
  {
   "cell_type": "markdown",
   "id": "6acb3ad7",
   "metadata": {},
   "source": [
    "## PYTHON VARIABLE"
   ]
  },
  {
   "cell_type": "code",
   "execution_count": 1,
   "id": "a7f7bd8e",
   "metadata": {},
   "outputs": [],
   "source": [
    "x = 5"
   ]
  },
  {
   "cell_type": "code",
   "execution_count": 2,
   "id": "469833f0",
   "metadata": {},
   "outputs": [],
   "source": [
    "address = '3, olukayode'"
   ]
  },
  {
   "cell_type": "code",
   "execution_count": 3,
   "id": "4bb64568",
   "metadata": {},
   "outputs": [
    {
     "data": {
      "text/plain": [
       "'3, olukayode'"
      ]
     },
     "execution_count": 3,
     "metadata": {},
     "output_type": "execute_result"
    }
   ],
   "source": [
    "address"
   ]
  },
  {
   "cell_type": "markdown",
   "id": "bf6dc453",
   "metadata": {},
   "source": [
    "## Variable Naming Convention\n",
    "- A variable name must start with a letter or the underscore chracter.\n",
    "- A variable name cannot start with a number\n",
    "- A variable name can only contain alpha-numeric chracters and underscores (A-z, 0-9, and _)\n",
    "- Variable names are case-sensitive (age, Age, and AGE are three different variables)"
   ]
  },
  {
   "cell_type": "markdown",
   "id": "d94980db",
   "metadata": {},
   "source": [
    "## PRINT KEYWORD\n",
    "\n",
    "we use print keyword to output value of a variable\n",
    "\n",
    "NOTE:\n",
    "* () is called parentheses\n",
    "* {} is called Curly braces\n",
    "* [] is square brackets"
   ]
  },
  {
   "cell_type": "code",
   "execution_count": 4,
   "id": "23d74029",
   "metadata": {},
   "outputs": [],
   "source": [
    "x = 10"
   ]
  },
  {
   "cell_type": "code",
   "execution_count": 5,
   "id": "861fb57b",
   "metadata": {},
   "outputs": [
    {
     "name": "stdout",
     "output_type": "stream",
     "text": [
      "10\n"
     ]
    }
   ],
   "source": [
    "print(x)"
   ]
  },
  {
   "cell_type": "code",
   "execution_count": 6,
   "id": "4ab8e6a4",
   "metadata": {},
   "outputs": [
    {
     "name": "stdout",
     "output_type": "stream",
     "text": [
      "3, olukayode\n"
     ]
    }
   ],
   "source": [
    "print(address)"
   ]
  },
  {
   "cell_type": "code",
   "execution_count": 7,
   "id": "8ce81fdb",
   "metadata": {},
   "outputs": [],
   "source": [
    "is_married = True"
   ]
  },
  {
   "cell_type": "code",
   "execution_count": null,
   "id": "40ce159a",
   "metadata": {},
   "outputs": [],
   "source": []
  }
 ],
 "metadata": {
  "kernelspec": {
   "display_name": "Python 3 (ipykernel)",
   "language": "python",
   "name": "python3"
  },
  "language_info": {
   "codemirror_mode": {
    "name": "ipython",
    "version": 3
   },
   "file_extension": ".py",
   "mimetype": "text/x-python",
   "name": "python",
   "nbconvert_exporter": "python",
   "pygments_lexer": "ipython3",
   "version": "3.11.3"
  }
 },
 "nbformat": 4,
 "nbformat_minor": 5
}
