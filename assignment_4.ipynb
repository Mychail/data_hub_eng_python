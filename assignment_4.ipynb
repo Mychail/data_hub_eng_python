{
 "cells": [
  {
   "cell_type": "markdown",
   "id": "6a05e64d-ebc4-41cc-9513-b8c33a99448f",
   "metadata": {},
   "source": [
    "### QUESTIONS\n",
    "The **Below** nested dictionary contains all of the bucket names we have in the AWS account with the creationDate and the ID of the owner.\n",
    " * Assign the above Nested dictionary to a varible called bucket_list_response\n",
    "Retrieve all of the keys of the nested dictionary above at once\n",
    " * Please retrieve individually the bucket names one by one, example of the bucket is chinyere . NOTE you can't retrieve all at once.\n",
    " * Retrieve the 6 values for the CreationDate Keys\n",
    " * Retrieve the value of the Key server, the answer should be AmazonS3\n",
    " * Retrieve the value of the Key ID, the answer should be\n",
    "    fb454974068284041efc3a1363321d277bb56c0029e7e6017f7cea998c249de\n",
    " * Extract all of the bucket names into "
   ]
  },
  {
   "cell_type": "code",
   "execution_count": 1,
   "id": "31688371-5121-4233-bf59-b2f92b99e4f2",
   "metadata": {},
   "outputs": [],
   "source": [
    "bucket_list_response = {'ResponseMetadata': {'RequestId': 'NC6YGDVEN48S3EFG',\n",
    "  'HostId': '+FJnmTwAwoEfp0jignXRueR6Bc62MwN1aBvK3SAJJ9fH0Y+AAsaSoEyjHyz8ij6QefhFquWb5Yk=',\n",
    "  'HTTPStatusCode': 200,\n",
    "  'HTTPHeaders': {'x-amz-id-2': '+FJnmTwAwoEfp0jignXRueR6Bc62MwN1aBvK3SAJJ9fH0Y+AAsaSoEyjHyz8ij6QefhFquWb5Yk=',\n",
    "   'x-amz-request-id': 'NC6YGDVEN48S3EFG',\n",
    "   'date': 'Wed, 20 Dec 2023 08:42:20 GMT',\n",
    "   'content-type': 'application/xml',\n",
    "   'transfer-encoding': 'chunked',\n",
    "   'server': 'AmazonS3'},\n",
    "  'RetryAttempts': 0},\n",
    " 'Buckets': [{'Name': 'amanda-igwe',\n",
    "   'CreationDate': 'datetime.datetime(2023, 12, 20, 8, 19, 13, tzinfo=tzutc())'},\n",
    "  {'Name': 'chinyere',\n",
    "   'CreationDate': 'datetime.datetime(2023, 12, 20, 8, 17, 54, tzinfo=tzutc())'},\n",
    "  {'Name': 'chukwujekwu-anah',\n",
    "   'CreationDate': 'datetime.datetime(2023, 12, 20, 8, 17, 3, tzinfo=tzutc())'},\n",
    "  {'Name': 'joachim-uche',\n",
    "   'CreationDate': 'datetime.datetime(2023, 12, 20, 8, 15, 53, tzinfo=tzutc())'},\n",
    "  {'Name': 'segun-lawal',\n",
    "   'CreationDate': 'datetime.datetime(2023, 12, 20, 8, 17, 31, tzinfo=tzutc())'},\n",
    "  {'Name': 'yimika',\n",
    "   'CreationDate': 'datetime.datetime(2023, 12, 20, 8, 42, 3, tzinfo=tzutc())'}],\n",
    " 'Owner': {'ID': 'fb45f4974068284041efc3a13b3321d277bb56c0029e7e6017f7cea998c249de'}}"
   ]
  },
  {
   "cell_type": "code",
   "execution_count": 2,
   "id": "a4ffbb62-e8fd-42c6-8abd-d62c2e283a43",
   "metadata": {},
   "outputs": [
    {
     "name": "stdout",
     "output_type": "stream",
     "text": [
      "dict_keys(['ResponseMetadata', 'Buckets', 'Owner'])\n"
     ]
    }
   ],
   "source": [
    "print(bucket_list_response.keys())"
   ]
  },
  {
   "cell_type": "code",
   "execution_count": 3,
   "id": "6635d431-2e3b-4d5c-88e1-1a3d8b60e2de",
   "metadata": {},
   "outputs": [
    {
     "name": "stdout",
     "output_type": "stream",
     "text": [
      "[{'Name': 'amanda-igwe', 'CreationDate': 'datetime.datetime(2023, 12, 20, 8, 19, 13, tzinfo=tzutc())'}, {'Name': 'chinyere', 'CreationDate': 'datetime.datetime(2023, 12, 20, 8, 17, 54, tzinfo=tzutc())'}, {'Name': 'chukwujekwu-anah', 'CreationDate': 'datetime.datetime(2023, 12, 20, 8, 17, 3, tzinfo=tzutc())'}, {'Name': 'joachim-uche', 'CreationDate': 'datetime.datetime(2023, 12, 20, 8, 15, 53, tzinfo=tzutc())'}, {'Name': 'segun-lawal', 'CreationDate': 'datetime.datetime(2023, 12, 20, 8, 17, 31, tzinfo=tzutc())'}, {'Name': 'yimika', 'CreationDate': 'datetime.datetime(2023, 12, 20, 8, 42, 3, tzinfo=tzutc())'}]\n"
     ]
    }
   ],
   "source": [
    "print(bucket_list_response[\"Buckets\"])"
   ]
  },
  {
   "cell_type": "code",
   "execution_count": 4,
   "id": "d1cca5d3-8064-447b-a2e2-198580481e13",
   "metadata": {},
   "outputs": [],
   "source": [
    "# assign the buckets list to the bucket_lst\n",
    "b_lst = bucket_list_response[\"Buckets\"]"
   ]
  },
  {
   "cell_type": "code",
   "execution_count": 5,
   "id": "9ec59182-5fcb-4465-8f44-33e6f92065f9",
   "metadata": {},
   "outputs": [
    {
     "name": "stdout",
     "output_type": "stream",
     "text": [
      "<class 'list'>\n"
     ]
    }
   ],
   "source": [
    "# confirming its type\n",
    "print(type(b_lst))"
   ]
  },
  {
   "cell_type": "code",
   "execution_count": 6,
   "id": "5429ab60-d588-40f4-ac78-5e88f08a75ef",
   "metadata": {},
   "outputs": [
    {
     "name": "stdout",
     "output_type": "stream",
     "text": [
      "6\n"
     ]
    }
   ],
   "source": [
    "# count the number of items in the list\n",
    "print(len(b_lst))"
   ]
  },
  {
   "cell_type": "code",
   "execution_count": 7,
   "id": "1b8f1c54-9c3a-467f-8882-4711bd7b7be0",
   "metadata": {},
   "outputs": [
    {
     "name": "stdout",
     "output_type": "stream",
     "text": [
      "amanda-igwe\n"
     ]
    }
   ],
   "source": [
    "# get the first name\n",
    "fst_name = b_lst[0].get(\"Name\")\n",
    "print(fst_name)"
   ]
  },
  {
   "cell_type": "code",
   "execution_count": 8,
   "id": "7e6b48df-1ea5-46ac-b0a3-28956bbeb807",
   "metadata": {},
   "outputs": [
    {
     "name": "stdout",
     "output_type": "stream",
     "text": [
      "chinyere\n"
     ]
    }
   ],
   "source": [
    "# get the second name\n",
    "scnd_name = b_lst[1].get(\"Name\")\n",
    "print(scnd_name)"
   ]
  },
  {
   "cell_type": "code",
   "execution_count": 9,
   "id": "8c36ed16-8026-480f-8c33-842723a8c75b",
   "metadata": {},
   "outputs": [
    {
     "name": "stdout",
     "output_type": "stream",
     "text": [
      "chukwujekwu-anah\n"
     ]
    }
   ],
   "source": [
    "# get the third name\n",
    "trd_name = b_lst[2].get(\"Name\")\n",
    "print(trd_name)"
   ]
  },
  {
   "cell_type": "code",
   "execution_count": 10,
   "id": "b29106c4-6dd2-4d10-a0d9-342e16dfe5ff",
   "metadata": {},
   "outputs": [
    {
     "name": "stdout",
     "output_type": "stream",
     "text": [
      "joachim-uche\n"
     ]
    }
   ],
   "source": [
    "# get the fourth name\n",
    "frth_name = b_lst[3].get(\"Name\")\n",
    "print(frth_name)"
   ]
  },
  {
   "cell_type": "code",
   "execution_count": 11,
   "id": "e113fc61-48af-413c-8ac2-9d6e0cf60a64",
   "metadata": {},
   "outputs": [
    {
     "name": "stdout",
     "output_type": "stream",
     "text": [
      "segun-lawal\n"
     ]
    }
   ],
   "source": [
    "# get the fifth name\n",
    "fith_name = b_lst[4].get(\"Name\")\n",
    "print(fith_name)"
   ]
  },
  {
   "cell_type": "code",
   "execution_count": 12,
   "id": "616deab1-1554-43d9-9f3d-f63b3570b640",
   "metadata": {},
   "outputs": [
    {
     "name": "stdout",
     "output_type": "stream",
     "text": [
      "yimika\n"
     ]
    }
   ],
   "source": [
    "# get the sixth name\n",
    "sxth_name = b_lst[5].get(\"Name\")\n",
    "print(sxth_name)"
   ]
  },
  {
   "cell_type": "code",
   "execution_count": 13,
   "id": "16bbdbe9-aa84-490d-9633-27e22731d84c",
   "metadata": {},
   "outputs": [
    {
     "name": "stdout",
     "output_type": "stream",
     "text": [
      "18\n"
     ]
    }
   ],
   "source": [
    "# checking the first occurence of the number 2\n",
    "print(b_lst[0].get(\"CreationDate\").index(\"2\"))"
   ]
  },
  {
   "cell_type": "code",
   "execution_count": 14,
   "id": "687dd902-a9ef-414f-8e8a-5021929b2eb0",
   "metadata": {},
   "outputs": [
    {
     "name": "stdout",
     "output_type": "stream",
     "text": [
      "datetime.datetime(2023, 12, 20, 8, 19, 13, tzinfo=tzutc())\n"
     ]
    }
   ],
   "source": [
    "# print the creation date of the first name\n",
    "print(b_lst[0].get(\"CreationDate\"))"
   ]
  },
  {
   "cell_type": "code",
   "execution_count": 15,
   "id": "5915ac0b-8b21-42ba-b6ff-f3077df9d0af",
   "metadata": {},
   "outputs": [
    {
     "name": "stdout",
     "output_type": "stream",
     "text": [
      "datetime.datetime(2023, 12, 20, 8, 17, 54, tzinfo=tzutc())\n"
     ]
    }
   ],
   "source": [
    "# print the creation date of the 2nd name\n",
    "print(b_lst[1].get(\"CreationDate\"))"
   ]
  },
  {
   "cell_type": "code",
   "execution_count": 16,
   "id": "6f1ba147-c61b-4b03-b595-b81551b7c178",
   "metadata": {},
   "outputs": [
    {
     "name": "stdout",
     "output_type": "stream",
     "text": [
      "datetime.datetime(2023, 12, 20, 8, 17, 3, tzinfo=tzutc())\n"
     ]
    }
   ],
   "source": [
    "# print the creation date of the 3rd name\n",
    "print(b_lst[2].get(\"CreationDate\"))"
   ]
  },
  {
   "cell_type": "code",
   "execution_count": 17,
   "id": "67305cd2-4b2e-45d6-bf87-d470c29c1011",
   "metadata": {},
   "outputs": [
    {
     "name": "stdout",
     "output_type": "stream",
     "text": [
      "datetime.datetime(2023, 12, 20, 8, 15, 53, tzinfo=tzutc())\n"
     ]
    }
   ],
   "source": [
    "# print the creation date of the 4th name\n",
    "print(b_lst[3].get(\"CreationDate\"))"
   ]
  },
  {
   "cell_type": "code",
   "execution_count": 18,
   "id": "58e4eebb-5015-4847-8880-b90e3eda0fbf",
   "metadata": {},
   "outputs": [
    {
     "name": "stdout",
     "output_type": "stream",
     "text": [
      "datetime.datetime(2023, 12, 20, 8, 17, 31, tzinfo=tzutc())\n"
     ]
    }
   ],
   "source": [
    "# print the creation date of the 5th name\n",
    "print(b_lst[4].get(\"CreationDate\"))"
   ]
  },
  {
   "cell_type": "code",
   "execution_count": 19,
   "id": "ae25f2e7-0a77-4e88-8c7a-8a195c15206a",
   "metadata": {},
   "outputs": [
    {
     "name": "stdout",
     "output_type": "stream",
     "text": [
      "datetime.datetime(2023, 12, 20, 8, 42, 3, tzinfo=tzutc())\n"
     ]
    }
   ],
   "source": [
    "# print the creation date of the 6th name\n",
    "print(b_lst[5].get(\"CreationDate\"))"
   ]
  },
  {
   "cell_type": "code",
   "execution_count": 20,
   "id": "f30d594e-8e40-48a6-bfb2-309c44e6d066",
   "metadata": {},
   "outputs": [
    {
     "name": "stdout",
     "output_type": "stream",
     "text": [
      "dict_keys(['RequestId', 'HostId', 'HTTPStatusCode', 'HTTPHeaders', 'RetryAttempts'])\n"
     ]
    }
   ],
   "source": [
    "# retrieve the value of the key server, but first we check the keys in the outer dict\n",
    "print(bucket_list_response[\"ResponseMetadata\"].keys())"
   ]
  },
  {
   "cell_type": "code",
   "execution_count": 21,
   "id": "fc622d46-61cf-40f8-a903-7505a512a3c0",
   "metadata": {},
   "outputs": [
    {
     "name": "stdout",
     "output_type": "stream",
     "text": [
      "AmazonS3\n"
     ]
    }
   ],
   "source": [
    "# since its inside the HTTPHeaders dictionary\n",
    "print(bucket_list_response[\"ResponseMetadata\"][\"HTTPHeaders\"].get(\"server\"))"
   ]
  },
  {
   "cell_type": "code",
   "execution_count": 22,
   "id": "23842e2e-9468-4ebb-8626-27abf645bfc5",
   "metadata": {},
   "outputs": [
    {
     "name": "stdout",
     "output_type": "stream",
     "text": [
      "fb45f4974068284041efc3a13b3321d277bb56c0029e7e6017f7cea998c249de\n"
     ]
    }
   ],
   "source": [
    "# Retrieve the value of the key ID\n",
    "print(bucket_list_response[\"Owner\"].get(\"ID\"))"
   ]
  },
  {
   "cell_type": "code",
   "execution_count": 23,
   "id": "4b932790-77aa-4c44-92db-6452a4757bd6",
   "metadata": {},
   "outputs": [
    {
     "data": {
      "text/plain": [
       "[{'Name': 'amanda-igwe',\n",
       "  'CreationDate': 'datetime.datetime(2023, 12, 20, 8, 19, 13, tzinfo=tzutc())'},\n",
       " {'Name': 'chinyere',\n",
       "  'CreationDate': 'datetime.datetime(2023, 12, 20, 8, 17, 54, tzinfo=tzutc())'},\n",
       " {'Name': 'chukwujekwu-anah',\n",
       "  'CreationDate': 'datetime.datetime(2023, 12, 20, 8, 17, 3, tzinfo=tzutc())'},\n",
       " {'Name': 'joachim-uche',\n",
       "  'CreationDate': 'datetime.datetime(2023, 12, 20, 8, 15, 53, tzinfo=tzutc())'},\n",
       " {'Name': 'segun-lawal',\n",
       "  'CreationDate': 'datetime.datetime(2023, 12, 20, 8, 17, 31, tzinfo=tzutc())'},\n",
       " {'Name': 'yimika',\n",
       "  'CreationDate': 'datetime.datetime(2023, 12, 20, 8, 42, 3, tzinfo=tzutc())'}]"
      ]
     },
     "execution_count": 23,
     "metadata": {},
     "output_type": "execute_result"
    }
   ],
   "source": [
    "# checking the bucket list\n",
    "b_lst"
   ]
  },
  {
   "cell_type": "code",
   "execution_count": 24,
   "id": "5db9d844-d87c-4f96-bc3c-b9e7e6a8972b",
   "metadata": {},
   "outputs": [
    {
     "name": "stdout",
     "output_type": "stream",
     "text": [
      "['amanda-igwe', 'chinyere', 'chukwujekwu-anah', 'joachim-uche', 'segun-lawal', 'yimika']\n"
     ]
    }
   ],
   "source": [
    "# first method using the for loop\n",
    "# retrieve all the names into a list\n",
    "names = []\n",
    "for i in b_lst:\n",
    "    names.append(i.get(\"Name\"))\n",
    "print(names)"
   ]
  },
  {
   "cell_type": "code",
   "execution_count": 25,
   "id": "a8b319bf-3e03-4d01-8233-fc3df3fdbdff",
   "metadata": {},
   "outputs": [
    {
     "name": "stdout",
     "output_type": "stream",
     "text": [
      "['amanda-igwe', 'chinyere', 'chukwujekwu-anah', 'joachim-uche', 'segun-lawal', 'yimika']\n"
     ]
    }
   ],
   "source": [
    "# second method\n",
    "student_names = []\n",
    "student_names.append(fst_name)\n",
    "student_names.append(scnd_name)\n",
    "student_names.append(trd_name)\n",
    "student_names.append(frth_name)\n",
    "student_names.append(fith_name)\n",
    "student_names.append(sxth_name)\n",
    "\n",
    "# print the filled list\n",
    "print(student_names)"
   ]
  },
  {
   "cell_type": "code",
   "execution_count": null,
   "id": "0b36fbab-b959-4fb7-8460-c0b49d8bf94e",
   "metadata": {},
   "outputs": [],
   "source": []
  }
 ],
 "metadata": {
  "kernelspec": {
   "display_name": "Python 3 (ipykernel)",
   "language": "python",
   "name": "python3"
  },
  "language_info": {
   "codemirror_mode": {
    "name": "ipython",
    "version": 3
   },
   "file_extension": ".py",
   "mimetype": "text/x-python",
   "name": "python",
   "nbconvert_exporter": "python",
   "pygments_lexer": "ipython3",
   "version": "3.12.1"
  }
 },
 "nbformat": 4,
 "nbformat_minor": 5
}
