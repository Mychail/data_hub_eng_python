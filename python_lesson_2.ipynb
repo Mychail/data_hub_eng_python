{
 "cells": [
  {
   "cell_type": "markdown",
   "id": "93e536f2-4877-477e-a520-f94b92500b94",
   "metadata": {},
   "source": [
    "### PYTHON DATA STRUCTURES\n",
    "\n",
    "There are 4 distinct types of data structures in python :\n",
    "* List\n",
    "* Dictionary\n",
    "* Tuple\n",
    "* Set"
   ]
  },
  {
   "cell_type": "markdown",
   "id": "e6d0cdf9-9d20-4622-8b83-5761306c1e56",
   "metadata": {},
   "source": [
    "#### List"
   ]
  },
  {
   "cell_type": "code",
   "execution_count": 1,
   "id": "0686bef7-7e06-4c15-9311-d9647da145f9",
   "metadata": {},
   "outputs": [],
   "source": [
    "# An example of a list containing student names\n",
    "students = [\"chukwujekwu\", \"amanda\", \"elizabeth\", \"taylor\", \"jack\"]"
   ]
  },
  {
   "cell_type": "code",
   "execution_count": 3,
   "id": "f55fcdeb-52df-4fc5-a4a4-538203ec8d65",
   "metadata": {},
   "outputs": [
    {
     "name": "stdout",
     "output_type": "stream",
     "text": [
      "['chukwujekwu', 'amanda', 'elizabeth', 'taylor', 'jack']\n"
     ]
    }
   ],
   "source": [
    "print(students)"
   ]
  },
  {
   "cell_type": "code",
   "execution_count": 2,
   "id": "adec3257-2a11-4cfb-9daa-db7d2c97b2ca",
   "metadata": {},
   "outputs": [
    {
     "name": "stdout",
     "output_type": "stream",
     "text": [
      "<class 'list'>\n"
     ]
    }
   ],
   "source": [
    "print(type(students))"
   ]
  },
  {
   "cell_type": "code",
   "execution_count": 4,
   "id": "a435902d-eeac-45ac-a604-c167da67294c",
   "metadata": {},
   "outputs": [],
   "source": [
    "age = [26, 19, 50, 60, 35]"
   ]
  },
  {
   "cell_type": "code",
   "execution_count": 5,
   "id": "20e5694c-60b4-45f3-b561-9e49e2d703e2",
   "metadata": {},
   "outputs": [
    {
     "name": "stdout",
     "output_type": "stream",
     "text": [
      "[26, 19, 50, 60, 35]\n"
     ]
    }
   ],
   "source": [
    "print(age)"
   ]
  },
  {
   "cell_type": "code",
   "execution_count": 6,
   "id": "229d3e6a-873a-4546-bcdb-d5e445d24d56",
   "metadata": {},
   "outputs": [
    {
     "name": "stdout",
     "output_type": "stream",
     "text": [
      "<class 'list'>\n"
     ]
    }
   ],
   "source": [
    "print(type(age))"
   ]
  },
  {
   "cell_type": "code",
   "execution_count": 7,
   "id": "2d207129-71fa-4af1-abde-c03d9c06bf20",
   "metadata": {},
   "outputs": [],
   "source": [
    "rand_info = [\"rand\", \"19\", \"brown\", \"5.11\"]"
   ]
  },
  {
   "cell_type": "code",
   "execution_count": 8,
   "id": "33ac2c24-4e1a-41b0-b6e0-3eb5872cebfb",
   "metadata": {},
   "outputs": [
    {
     "name": "stdout",
     "output_type": "stream",
     "text": [
      "<class 'list'>\n"
     ]
    }
   ],
   "source": [
    "print(type(rand_info))"
   ]
  },
  {
   "cell_type": "markdown",
   "id": "5889c8cf-b390-4857-b151-e2365110c5ed",
   "metadata": {},
   "source": [
    "#### Indexing/Positioning"
   ]
  },
  {
   "cell_type": "markdown",
   "id": "0b94ce67-3630-4949-87b7-b76e0d711d2c",
   "metadata": {},
   "source": [
    "EMMANUEL\n",
    "\n",
    "12345678         # Human numbering\n",
    "\n",
    "01234567         # python numbering"
   ]
  },
  {
   "cell_type": "code",
   "execution_count": 10,
   "id": "9d1fc69e-6d4b-4461-8e66-e69d3468ca43",
   "metadata": {},
   "outputs": [],
   "source": [
    "# Items in a list is called an element\n",
    "cars = [\"toyota\", \"porche\", \"tata\", \"volvo\", \"nord\"]"
   ]
  },
  {
   "cell_type": "code",
   "execution_count": 12,
   "id": "3f4ba652-f647-41f6-914c-0b48faf9223d",
   "metadata": {},
   "outputs": [
    {
     "name": "stdout",
     "output_type": "stream",
     "text": [
      "volvo\n"
     ]
    }
   ],
   "source": [
    "# retrieving the 4th element in the list\n",
    "print(cars[3])"
   ]
  },
  {
   "cell_type": "code",
   "execution_count": 14,
   "id": "eec81393-4a18-44b7-84f9-6d05457a8fb4",
   "metadata": {},
   "outputs": [
    {
     "name": "stdout",
     "output_type": "stream",
     "text": [
      "tata\n"
     ]
    }
   ],
   "source": [
    "# retrieving tata from the list\n",
    "print(cars[2])"
   ]
  },
  {
   "cell_type": "code",
   "execution_count": 16,
   "id": "3210bdbe-0586-4b72-bb64-64847929fc70",
   "metadata": {},
   "outputs": [
    {
     "name": "stdout",
     "output_type": "stream",
     "text": [
      "nord\n"
     ]
    }
   ],
   "source": [
    "# retrieving nord car from the list\n",
    "print(cars[-1]) # negative indexing is valid in python"
   ]
  },
  {
   "cell_type": "code",
   "execution_count": 17,
   "id": "78626756-1763-4f33-a61b-8f8a48d308f0",
   "metadata": {},
   "outputs": [
    {
     "name": "stdout",
     "output_type": "stream",
     "text": [
      "5\n"
     ]
    }
   ],
   "source": [
    "# counting the number of elements in a list\n",
    "print(len(cars))"
   ]
  },
  {
   "cell_type": "code",
   "execution_count": 20,
   "id": "8c27896e-e5b6-479b-8bf8-83345f34ceb2",
   "metadata": {},
   "outputs": [
    {
     "name": "stdout",
     "output_type": "stream",
     "text": [
      "Help on built-in function len in module builtins:\n",
      "\n",
      "len(obj, /)\n",
      "    Return the number of items in a container.\n",
      "\n"
     ]
    }
   ],
   "source": [
    "help(len)"
   ]
  },
  {
   "cell_type": "code",
   "execution_count": 21,
   "id": "f411da19-af9d-4b27-a371-b62d99c0754d",
   "metadata": {},
   "outputs": [
    {
     "name": "stdout",
     "output_type": "stream",
     "text": [
      "11\n"
     ]
    }
   ],
   "source": [
    "# len works on strings \n",
    "print(len(\"chukwujekwu\"))"
   ]
  },
  {
   "cell_type": "code",
   "execution_count": null,
   "id": "ecb1d380-1a19-42d6-b4aa-3dada2bd3437",
   "metadata": {},
   "outputs": [],
   "source": []
  }
 ],
 "metadata": {
  "kernelspec": {
   "display_name": "Python 3 (ipykernel)",
   "language": "python",
   "name": "python3"
  },
  "language_info": {
   "codemirror_mode": {
    "name": "ipython",
    "version": 3
   },
   "file_extension": ".py",
   "mimetype": "text/x-python",
   "name": "python",
   "nbconvert_exporter": "python",
   "pygments_lexer": "ipython3",
   "version": "3.12.1"
  }
 },
 "nbformat": 4,
 "nbformat_minor": 5
}
