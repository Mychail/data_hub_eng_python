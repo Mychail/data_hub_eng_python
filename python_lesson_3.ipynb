{
 "cells": [
  {
   "cell_type": "markdown",
   "id": "dd0c9e9b-99e9-4dce-8e7b-115ea38809a6",
   "metadata": {},
   "source": [
    "### CONTROL FLOW"
   ]
  },
  {
   "cell_type": "markdown",
   "id": "53355ff7-efb4-4f68-a8b3-d42b24513441",
   "metadata": {},
   "source": [
    "Conditional Statements"
   ]
  },
  {
   "cell_type": "code",
   "execution_count": 1,
   "id": "e8894f79-e27d-4ebd-ba92-c495ff73e74a",
   "metadata": {},
   "outputs": [
    {
     "name": "stdout",
     "output_type": "stream",
     "text": [
      "True\n"
     ]
    }
   ],
   "source": [
    "print(\"a\" == \"a\") # equality sign"
   ]
  },
  {
   "cell_type": "code",
   "execution_count": 2,
   "id": "9600a203-5e7d-416d-87fa-bc1aee1cb090",
   "metadata": {},
   "outputs": [
    {
     "name": "stdout",
     "output_type": "stream",
     "text": [
      "True\n"
     ]
    }
   ],
   "source": [
    "print(5 != 3) # not equal"
   ]
  },
  {
   "cell_type": "code",
   "execution_count": 3,
   "id": "872693bb-8003-4795-bb33-763dcb6b4d80",
   "metadata": {},
   "outputs": [
    {
     "name": "stdout",
     "output_type": "stream",
     "text": [
      "False\n"
     ]
    }
   ],
   "source": [
    "print(4 > 8) # greater than"
   ]
  },
  {
   "cell_type": "code",
   "execution_count": 4,
   "id": "a3665627-ab2b-4763-aeb0-f61d642212fa",
   "metadata": {},
   "outputs": [
    {
     "name": "stdout",
     "output_type": "stream",
     "text": [
      "True\n"
     ]
    }
   ],
   "source": [
    "print(20 <= 20) # less or equal to"
   ]
  },
  {
   "cell_type": "code",
   "execution_count": 5,
   "id": "4157f9ee-6dca-44bd-a95a-7eef62101a98",
   "metadata": {},
   "outputs": [
    {
     "name": "stdout",
     "output_type": "stream",
     "text": [
      "False\n"
     ]
    }
   ],
   "source": [
    "print(25 >= 100) # greater or equal to"
   ]
  },
  {
   "cell_type": "markdown",
   "id": "c4719eef-c6ab-45f9-bd51-94368f5ab9f5",
   "metadata": {},
   "source": [
    "Logical Operators\n",
    "* and\n",
    "* or"
   ]
  },
  {
   "cell_type": "code",
   "execution_count": 6,
   "id": "20752665-4603-4418-9df3-dc31089a610b",
   "metadata": {},
   "outputs": [
    {
     "name": "stdout",
     "output_type": "stream",
     "text": [
      "False\n"
     ]
    }
   ],
   "source": [
    "print(2 > 5 and 10 < 15)"
   ]
  },
  {
   "cell_type": "code",
   "execution_count": 7,
   "id": "c23303d8-5406-4903-bae1-6f26bb59c2e9",
   "metadata": {},
   "outputs": [
    {
     "name": "stdout",
     "output_type": "stream",
     "text": [
      "True\n"
     ]
    }
   ],
   "source": [
    "print(10 > 3 or 6 < 10)"
   ]
  },
  {
   "cell_type": "code",
   "execution_count": 8,
   "id": "53cd31d6-8e6d-40a2-b0cb-5ba1ea572b19",
   "metadata": {},
   "outputs": [
    {
     "name": "stdout",
     "output_type": "stream",
     "text": [
      "True\n"
     ]
    }
   ],
   "source": [
    "print(10 < 100 or 6 < 10)"
   ]
  },
  {
   "cell_type": "code",
   "execution_count": 9,
   "id": "38c0d360-6229-4514-81eb-3cee3dfbed78",
   "metadata": {},
   "outputs": [
    {
     "name": "stdout",
     "output_type": "stream",
     "text": [
      "True\n"
     ]
    }
   ],
   "source": [
    "print(10 >= 3 and 10 <= 10)"
   ]
  },
  {
   "cell_type": "markdown",
   "id": "ef232769-6737-43a7-ae6a-f098007d2f38",
   "metadata": {},
   "source": [
    "## IF AND ELSE STATEMENTS"
   ]
  },
  {
   "cell_type": "raw",
   "id": "b64e4f2a-2965-4784-95aa-5bc83c47261c",
   "metadata": {},
   "source": [
    "if # condition to check:\n",
    "    #action to perform"
   ]
  },
  {
   "cell_type": "code",
   "execution_count": 10,
   "id": "67cd42e0-2eda-4ccc-9a6d-9485582f881f",
   "metadata": {},
   "outputs": [
    {
     "name": "stdout",
     "output_type": "stream",
     "text": [
      "You are not eligible to be in the next class\n"
     ]
    }
   ],
   "source": [
    "is_completed = False\n",
    "\n",
    "# create the if statement\n",
    "if is_completed == True:\n",
    "    print(\"You are eligible to be in the next class\")\n",
    "else:\n",
    "    print(\"You are not eligible to be in the next class\")"
   ]
  },
  {
   "cell_type": "code",
   "execution_count": 11,
   "id": "cd5ae1e2-bd4b-405f-8226-db1b2d60a1d5",
   "metadata": {},
   "outputs": [
    {
     "name": "stdout",
     "output_type": "stream",
     "text": [
      "That's too expensive\n"
     ]
    }
   ],
   "source": [
    "number = 10\n",
    "if number >= 10:\n",
    "    print(\"That's too expensive\")\n",
    "else:\n",
    "    print(\"That's cheap\")"
   ]
  },
  {
   "cell_type": "code",
   "execution_count": 12,
   "id": "65c9a962-ac36-45fb-ae31-0a011fbe843c",
   "metadata": {},
   "outputs": [
    {
     "name": "stdout",
     "output_type": "stream",
     "text": [
      "yinka is older than amanda\n"
     ]
    }
   ],
   "source": [
    "amanda_age = 11\n",
    "yinka_age = 15\n",
    "\n",
    "if amanda_age > yinka_age:\n",
    "    print(\"amanda is older than yinka\")\n",
    "else:\n",
    "    print(\"yinka is older than amanda\")"
   ]
  },
  {
   "cell_type": "code",
   "execution_count": 13,
   "id": "99c72835-eaab-4480-84f2-9f217c206af4",
   "metadata": {},
   "outputs": [
    {
     "name": "stdout",
     "output_type": "stream",
     "text": [
      "amanda and yinka are of the same age\n"
     ]
    }
   ],
   "source": [
    "#introducing an elif statement\n",
    "amanda_age = 15\n",
    "yinka_age = 15\n",
    "if amanda_age > yinka_age:\n",
    "    print(\"amanda is older than yinka\")\n",
    "elif amanda_age == yinka_age:\n",
    "    print(\"amanda and yinka are of the same age\")\n",
    "else:\n",
    "    print(\"yinka is older than amanda\")"
   ]
  },
  {
   "cell_type": "code",
   "execution_count": 14,
   "id": "8e78edc7-eb7b-4faa-b0ef-ed61d4bd2f29",
   "metadata": {},
   "outputs": [
    {
     "name": "stdout",
     "output_type": "stream",
     "text": [
      "Welcome to prime video,\n",
      "please this movies contain some abusive language,\n",
      "You need to be older than 18, parental guidance advised.\n",
      "\n",
      "\n"
     ]
    },
    {
     "name": "stdin",
     "output_type": "stream",
     "text": [
      "How old are you:  20\n"
     ]
    },
    {
     "name": "stdout",
     "output_type": "stream",
     "text": [
      "\n",
      "\n",
      "checking customer age for eligibility, hold on a sec !!!\n",
      "\n",
      "\n",
      "Welcome, you are eligible to watch this movie\n"
     ]
    }
   ],
   "source": [
    "print(\"\"\"Welcome to prime video,\n",
    "please this movies contain some abusive language,\n",
    "You need to be older than 18, parental guidance advised.\n",
    "\n",
    "\"\"\")\n",
    "\n",
    "# request for user's age\n",
    "user_age = int(input(\"How old are you: \"))\n",
    "\n",
    "print(\"\"\"\n",
    "\n",
    "checking customer age for eligibility, hold on a sec !!!\n",
    "\n",
    "\"\"\")\n",
    "# write an ifstatement that checks if the user is older that 18\n",
    "\n",
    "if user_age >= 18:\n",
    "    print(\"Welcome, you are eligible to watch this movie\")\n",
    "else:\n",
    "    print(\"please, you are not eligible\")\n"
   ]
  },
  {
   "cell_type": "markdown",
   "id": "e3ff2ff5-f069-4917-8e7b-5cdfd853b155",
   "metadata": {},
   "source": [
    "## GUESSING GAME SYSTEM"
   ]
  },
  {
   "cell_type": "code",
   "execution_count": 15,
   "id": "08f3002e-2264-4acd-9400-6a3b3b79551f",
   "metadata": {},
   "outputs": [
    {
     "name": "stdin",
     "output_type": "stream",
     "text": [
      "Enter your name:  rand\n",
      "Please provide your magic number:  31\n"
     ]
    },
    {
     "name": "stdout",
     "output_type": "stream",
     "text": [
      "\n",
      "\n",
      "wait and see if you got it!!!\n",
      "\n",
      "\n",
      "Try again next time!!! rand\n"
     ]
    }
   ],
   "source": [
    "# creating a game that allows users to guess the correct number\n",
    "magic_number = 66\n",
    "\n",
    "user_name = input(\"Enter your name: \")\n",
    "\n",
    "user_guess = int(input(\"Please provide your magic number: \"))\n",
    "\n",
    "print(\"\"\"\n",
    "\n",
    "wait and see if you got it!!!\n",
    "\n",
    "\"\"\")\n",
    "\n",
    "if user_guess == magic_number:\n",
    "    print(f\"you got it right!!! {user_name}\")\n",
    "else:\n",
    "    print(f\"Try again next time!!! {user_name}\")"
   ]
  },
  {
   "cell_type": "code",
   "execution_count": 16,
   "id": "3d3d8c8a-96bf-4d93-89c7-8ad4f6059ae5",
   "metadata": {},
   "outputs": [
    {
     "name": "stdin",
     "output_type": "stream",
     "text": [
      "Enter your name:  shire\n",
      "Please provide your magic number:  30\n"
     ]
    },
    {
     "name": "stdout",
     "output_type": "stream",
     "text": [
      "\n",
      "\n",
      "wait and see if you got it!!!\n",
      "\n",
      "\n",
      "Try again next time!!! shire\n"
     ]
    }
   ],
   "source": [
    "import time\n",
    "# creating a game that allows users to guess the correct number\n",
    "magic_number = 66\n",
    "\n",
    "user_name = input(\"Enter your name: \")\n",
    "\n",
    "user_guess = int(input(\"Please provide your magic number: \"))\n",
    "\n",
    "print(\"\"\"\n",
    "\n",
    "wait and see if you got it!!!\n",
    "\n",
    "\"\"\")\n",
    "#using the time module to pause the flow of the response\n",
    "time.sleep(3)\n",
    "\n",
    "if user_guess == magic_number:\n",
    "    print(f\"you got it right!!! {user_name}\")\n",
    "else:\n",
    "    print(f\"Try again next time!!! {user_name}\")"
   ]
  },
  {
   "cell_type": "code",
   "execution_count": 17,
   "id": "11a73869-98d1-4eb5-9e35-a1f8c0228bd1",
   "metadata": {},
   "outputs": [
    {
     "name": "stdin",
     "output_type": "stream",
     "text": [
      "Enter your name:  saree\n",
      "Please provide your magic number:  34\n"
     ]
    },
    {
     "name": "stdout",
     "output_type": "stream",
     "text": [
      "\n",
      "\n",
      "wait and see if you got it!!!\n",
      "\n",
      "\n",
      "Ooops, wrong magic number saree, the correct magic number is 15\n"
     ]
    }
   ],
   "source": [
    "# using the the random module to make the magic number generate automatically\n",
    "from random import randint\n",
    "import time\n",
    "# creating a game that allows users to guess the correct number\n",
    "magic_number = randint(1, 100)\n",
    "\n",
    "user_name = input(\"Enter your name: \")\n",
    "\n",
    "user_guess = int(input(\"Please provide your magic number: \"))\n",
    "\n",
    "print(\"\"\"\n",
    "\n",
    "wait and see if you got it!!!\n",
    "\n",
    "\"\"\")\n",
    "#using the time module to pause the flow of the response\n",
    "time.sleep(3)\n",
    "\n",
    "if user_guess == magic_number:\n",
    "    print(f\"Congrats {user_name}, the magic number is {magic_number}\")\n",
    "else:\n",
    "    print(f\"Ooops, wrong magic number {user_name}, the correct magic number is {magic_number}\")\n"
   ]
  },
  {
   "cell_type": "code",
   "execution_count": 18,
   "id": "d9730ce4-bf7f-4c3e-b167-932b2c6712aa",
   "metadata": {},
   "outputs": [
    {
     "name": "stdout",
     "output_type": "stream",
     "text": [
      "The name starts with the letter a\n"
     ]
    }
   ],
   "source": [
    "# using if statement to check if a name begins with a given letter\n",
    "import random\n",
    "name = \"amara\"\n",
    "if name.startswith(\"a\"):\n",
    "    print(\"The name starts with the letter a\")\n",
    "else:\n",
    "    print(\"The name does not start with the letter a\")\n"
   ]
  },
  {
   "cell_type": "markdown",
   "id": "187624d7-0b52-4277-b10d-ad71c986fc64",
   "metadata": {},
   "source": [
    "## Navigation System"
   ]
  },
  {
   "cell_type": "markdown",
   "id": "ca5f1f98-7b46-45b5-9ba1-a7683c90238b",
   "metadata": {},
   "source": [
    "## FOR LOOP\n",
    "\n",
    "This is a concept in python, that allows us to iterate or go-over a sequence like a list, tuple, string, set or a dictionary"
   ]
  },
  {
   "cell_type": "code",
   "execution_count": 19,
   "id": "eb1c6bd5-b726-4d72-a31a-5150dddf1f2b",
   "metadata": {},
   "outputs": [],
   "source": [
    "names = [\"dera\", \"steve\", \"brian\", \"samuel\", \"tobi\", \"sharon\", \"uju\"]"
   ]
  },
  {
   "cell_type": "code",
   "execution_count": 20,
   "id": "fe354f93-e01f-4865-900a-46784df40023",
   "metadata": {},
   "outputs": [
    {
     "name": "stdout",
     "output_type": "stream",
     "text": [
      "7\n"
     ]
    }
   ],
   "source": [
    "print(len(names))"
   ]
  },
  {
   "cell_type": "code",
   "execution_count": 21,
   "id": "e907b5af-00fb-4bac-9e57-93a8593dbd18",
   "metadata": {},
   "outputs": [
    {
     "name": "stdout",
     "output_type": "stream",
     "text": [
      "dera\n",
      "steve\n",
      "brian\n",
      "samuel\n",
      "tobi\n",
      "sharon\n",
      "uju\n"
     ]
    }
   ],
   "source": [
    "# using the for loop to iterate through the list of names\n",
    "for name in names:\n",
    "    print(name)"
   ]
  },
  {
   "cell_type": "code",
   "execution_count": 22,
   "id": "ee6e179d-c7ec-46e7-9215-27017e33b95b",
   "metadata": {},
   "outputs": [
    {
     "name": "stdout",
     "output_type": "stream",
     "text": [
      "Dera\n",
      "The name begins with d\n",
      "Steve\n",
      "The name does not begin with d\n",
      "Brian\n",
      "The name does not begin with d\n",
      "Samuel\n",
      "The name does not begin with d\n",
      "Tobi\n",
      "The name does not begin with d\n",
      "Sharon\n",
      "The name does not begin with d\n",
      "Uju\n",
      "The name does not begin with d\n"
     ]
    }
   ],
   "source": [
    "# using the for loop to check if the names begin with d\n",
    "for name in names:\n",
    "    print(name.title())\n",
    "    if name.startswith(\"d\"):\n",
    "        print(\"The name begins with d\")\n",
    "    else:\n",
    "        print(\"The name does not begin with d\")\n"
   ]
  },
  {
   "cell_type": "code",
   "execution_count": 23,
   "id": "a5d1b4a4-434c-4330-859f-e5cc08748355",
   "metadata": {},
   "outputs": [
    {
     "name": "stdout",
     "output_type": "stream",
     "text": [
      "dera\n",
      "4\n",
      "steve\n",
      "5\n",
      "brian\n",
      "5\n",
      "samuel\n",
      "6\n",
      "tobi\n",
      "4\n",
      "sharon\n",
      "6\n",
      "uju\n",
      "3\n"
     ]
    }
   ],
   "source": [
    "# counting the number of letters in each name in the list\n",
    "for i in names:\n",
    "    print(i)\n",
    "    print(len(i))"
   ]
  },
  {
   "cell_type": "code",
   "execution_count": 24,
   "id": "81c61f55-4738-42fe-ad5c-8fd7c5f212dc",
   "metadata": {},
   "outputs": [
    {
     "name": "stdout",
     "output_type": "stream",
     "text": [
      "hello Dera, how are you today?\n",
      "hello Steve, how are you today?\n",
      "hello Brian, how are you today?\n",
      "hello Samuel, how are you today?\n",
      "hello Tobi, how are you today?\n",
      "hello Sharon, how are you today?\n",
      "hello Uju, how are you today?\n"
     ]
    }
   ],
   "source": [
    "# iterate through the list of names with a greeting\n",
    "for i in names:\n",
    "    print(f\"hello {i.title()}, how are you today?\")"
   ]
  },
  {
   "cell_type": "code",
   "execution_count": 25,
   "id": "cb7f68f9-d2a3-4810-ab90-7235be4cdda4",
   "metadata": {},
   "outputs": [
    {
     "name": "stdout",
     "output_type": "stream",
     "text": [
      "1\n",
      "3\n",
      "5\n",
      "7\n",
      "9\n"
     ]
    }
   ],
   "source": [
    "for num in range(1, 11, 2):\n",
    "    print(num)"
   ]
  },
  {
   "cell_type": "code",
   "execution_count": 26,
   "id": "f2ecb4d1-cb02-4d84-9a57-cab207098dfc",
   "metadata": {},
   "outputs": [
    {
     "name": "stdout",
     "output_type": "stream",
     "text": [
      "Dera\n"
     ]
    }
   ],
   "source": [
    "# using for loop and if statement to find the names that start with d\n",
    "for i in names:\n",
    "    if i.startswith(\"d\"):\n",
    "        print(i.title())"
   ]
  },
  {
   "cell_type": "code",
   "execution_count": 28,
   "id": "aa437e92-c9c8-4db7-ae1a-b7a89cffa5bc",
   "metadata": {},
   "outputs": [
    {
     "name": "stdout",
     "output_type": "stream",
     "text": [
      "chukwujekwu is a man\n",
      "chichi is a woman\n",
      "chioma is a woman\n",
      "kenny is a man\n",
      "fola's gender not defined\n"
     ]
    }
   ],
   "source": [
    "# using for loops and if statements to unpack dictionaries\n",
    "student_bio = {\"chukwujekwu\":\"male\", \"chichi\":\"female\", \"chioma\":\"female\", \"kenny\":\"male\", \"fola\":\" \"}\n",
    "\n",
    "for key, value in student_bio.items():\n",
    "    if value == \"female\":\n",
    "        print(f\"{key} is a woman\")\n",
    "    elif value == \"male\":\n",
    "        print(f\"{key} is a man\")\n",
    "    else:\n",
    "        print(f\"{key}'s gender not defined\")"
   ]
  },
  {
   "cell_type": "code",
   "execution_count": 29,
   "id": "8959f5d1-5ec9-4875-bca2-f1629e27ff0c",
   "metadata": {},
   "outputs": [
    {
     "data": {
      "text/plain": [
       "dict_items([('chukwujekwu', 'male'), ('chichi', 'female'), ('chioma', 'female'), ('kenny', 'male'), ('fola', ' ')])"
      ]
     },
     "execution_count": 29,
     "metadata": {},
     "output_type": "execute_result"
    }
   ],
   "source": [
    "# check\n",
    "student_bio.items()"
   ]
  },
  {
   "cell_type": "code",
   "execution_count": 33,
   "id": "eb4db959-219f-428d-aa4f-8520565b505e",
   "metadata": {},
   "outputs": [
    {
     "name": "stdout",
     "output_type": "stream",
     "text": [
      "[2, 5, 8, 9, 4, 7, 2, 1]\n",
      "[23, 15, 11, 10.5]\n"
     ]
    }
   ],
   "source": [
    "# using for loop and if statements to share statements into bins based on if they are greater or less than 10\n",
    "numbers = [2, 5, 8, 23, 15, 11,  10.5, 9, 4, 7, 2, 1]\n",
    "\n",
    "less_equal_10 = []\n",
    "greater_10 = []\n",
    "\n",
    "for i in numbers:\n",
    "    if i < 10:\n",
    "        less_equal_10.append(i)\n",
    "    else:\n",
    "        greater_10.append(i)\n",
    "\n",
    "print(less_equal_10)\n",
    "print(greater_10)"
   ]
  },
  {
   "cell_type": "markdown",
   "id": "b1908edc-0a24-4fff-a4ee-f281fb33c4b8",
   "metadata": {},
   "source": [
    "## Modulo Usage %"
   ]
  },
  {
   "cell_type": "code",
   "execution_count": 3,
   "id": "69668fbd-2bec-467e-adde-2cc135be862e",
   "metadata": {},
   "outputs": [
    {
     "name": "stdout",
     "output_type": "stream",
     "text": [
      "[2, 4, 10, 12, 24, 32, 42]\n"
     ]
    }
   ],
   "source": [
    "# create a list of number\n",
    "numbers = [2, 4, 7, 10, 12, 17, 24,  29, 32, 35, 42]\n",
    "# using for loop, if statements and the modulo operator to pick put the even numbers\n",
    "even_num = []\n",
    "for n in numbers:\n",
    "    if n % 2 == 0:\n",
    "        even_num.append(n)\n",
    "print(even_num)"
   ]
  },
  {
   "cell_type": "markdown",
   "id": "e58e6d08-8230-455b-87af-222635f9475a",
   "metadata": {},
   "source": [
    "## Creating a Simple Calculator"
   ]
  },
  {
   "cell_type": "code",
   "execution_count": 17,
   "id": "cc666f80-8f94-427a-98b7-b2861e5f94a7",
   "metadata": {},
   "outputs": [
    {
     "name": "stdin",
     "output_type": "stream",
     "text": [
      "\n",
      "        what arithemetic operation, do you want to do ?\n",
      "        press a for Addition\n",
      "        press m for Multiplication\n",
      "        press s for Substraction\n",
      "        press d for Division:    d\n",
      "please input your first number:  10\n",
      "please input your second number:  2\n"
     ]
    },
    {
     "name": "stdout",
     "output_type": "stream",
     "text": [
      "5\n"
     ]
    }
   ],
   "source": [
    "arithemetic_type = input(\"\"\"\n",
    "        what arithemetic operation, do you want to do ?\n",
    "        press a for Addition\n",
    "        press m for Multiplication\n",
    "        press s for Substraction\n",
    "        press d for Division:   \"\"\").lower()\n",
    "\n",
    "# receive the two numbers to the operated on\n",
    "first_num = int(input(\"please input your first number: \"))\n",
    "second_num = int(input(\"please input your second number: \"))\n",
    "\n",
    "# use if statements to check the operation selected\n",
    "if arithemetic_type == \"a\":\n",
    "    print(first_num + second_num)\n",
    "elif arithemetic_type == \"m\":\n",
    "    print(first_num * second_num)\n",
    "elif arithemetic_type == \"s\":\n",
    "    print(first_num - second_num)\n",
    "else:\n",
    "    result = first_num / second_num\n",
    "    if str(result).endswith(\".0\"):\n",
    "        print(int(result))\n",
    "    else:\n",
    "        print(result)"
   ]
  },
  {
   "cell_type": "code",
   "execution_count": 32,
   "id": "895f8f55-fab4-475c-8c03-7acd2597a880",
   "metadata": {},
   "outputs": [
    {
     "name": "stdout",
     "output_type": "stream",
     "text": [
      "[14, 24, 32, 22, 16, 36]\n"
     ]
    }
   ],
   "source": [
    "# nested if statements\n",
    "nums = [2, 5, 10, 14, 17, 24, 32, 22, 16, 36]\n",
    "even_num = []\n",
    "for n in nums:\n",
    "    if n > 10:\n",
    "        if n % 2 == 0:\n",
    "            even_num.append(n)\n",
    "    \n",
    "print(even_num)\n",
    "            "
   ]
  },
  {
   "cell_type": "markdown",
   "id": "f21f138d-c834-4fc7-92c5-dcba5fb57c35",
   "metadata": {},
   "source": [
    "## WHILE LOOP"
   ]
  },
  {
   "cell_type": "code",
   "execution_count": 27,
   "id": "174c6b8e-448c-4248-a4e8-ef75c8e2a5f2",
   "metadata": {},
   "outputs": [
    {
     "name": "stdout",
     "output_type": "stream",
     "text": [
      "6\n",
      "7\n",
      "8\n",
      "9\n",
      "10\n"
     ]
    }
   ],
   "source": [
    "# using while loop\n",
    "x = 5\n",
    "\n",
    "while x < 10:\n",
    "    x += 1\n",
    "    print(x)\n"
   ]
  },
  {
   "cell_type": "markdown",
   "id": "b57872cf-c7b0-4028-8a68-28f5e27d00a4",
   "metadata": {},
   "source": [
    "## BREAK , CONTINUE"
   ]
  },
  {
   "cell_type": "code",
   "execution_count": 41,
   "id": "345c5877-245e-4945-b3f2-60a8d83203f8",
   "metadata": {},
   "outputs": [
    {
     "name": "stdout",
     "output_type": "stream",
     "text": [
      "emma\n"
     ]
    }
   ],
   "source": [
    "names = [\"moyor\", \"denniss\", \"ife\",\"emma\", \"uju\", \"daddy\"]\n",
    "\n",
    "for i in names:\n",
    "    if \"a\" in i:\n",
    "        print(i)\n",
    "        break\n"
   ]
  },
  {
   "cell_type": "code",
   "execution_count": null,
   "id": "2dc54c9d-bfa5-49e8-8b6c-732b1f228c87",
   "metadata": {},
   "outputs": [],
   "source": []
  }
 ],
 "metadata": {
  "kernelspec": {
   "display_name": "Python 3 (ipykernel)",
   "language": "python",
   "name": "python3"
  },
  "language_info": {
   "codemirror_mode": {
    "name": "ipython",
    "version": 3
   },
   "file_extension": ".py",
   "mimetype": "text/x-python",
   "name": "python",
   "nbconvert_exporter": "python",
   "pygments_lexer": "ipython3",
   "version": "3.12.1"
  }
 },
 "nbformat": 4,
 "nbformat_minor": 5
}
