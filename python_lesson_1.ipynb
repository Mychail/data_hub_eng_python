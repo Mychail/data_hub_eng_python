{
 "cells": [
  {
   "cell_type": "markdown",
   "id": "6acb3ad7",
   "metadata": {},
   "source": [
    "## PYTHON VARIABLE"
   ]
  },
  {
   "cell_type": "code",
   "execution_count": 1,
   "id": "a7f7bd8e",
   "metadata": {},
   "outputs": [],
   "source": [
    "x = 5"
   ]
  },
  {
   "cell_type": "code",
   "execution_count": 2,
   "id": "469833f0",
   "metadata": {},
   "outputs": [],
   "source": [
    "address = '3, olukayode'"
   ]
  },
  {
   "cell_type": "code",
   "execution_count": 3,
   "id": "4bb64568",
   "metadata": {},
   "outputs": [
    {
     "data": {
      "text/plain": [
       "'3, olukayode'"
      ]
     },
     "execution_count": 3,
     "metadata": {},
     "output_type": "execute_result"
    }
   ],
   "source": [
    "address"
   ]
  },
  {
   "cell_type": "markdown",
   "id": "bf6dc453",
   "metadata": {},
   "source": [
    "## Variable Naming Convention\n",
    "- A variable name must start with a letter or the underscore chracter.\n",
    "- A variable name cannot start with a number\n",
    "- A variable name can only contain alpha-numeric chracters and underscores (A-z, 0-9, and _)\n",
    "- Variable names are case-sensitive (age, Age, and AGE are three different variables)"
   ]
  },
  {
   "cell_type": "markdown",
   "id": "d94980db",
   "metadata": {},
   "source": [
    "## PRINT KEYWORD\n",
    "\n",
    "we use print keyword to output value of a variable\n",
    "\n",
    "NOTE:\n",
    "* () is called parentheses\n",
    "* {} is called Curly braces\n",
    "* [] is square brackets"
   ]
  },
  {
   "cell_type": "code",
   "execution_count": 4,
   "id": "23d74029",
   "metadata": {},
   "outputs": [],
   "source": [
    "x = 10"
   ]
  },
  {
   "cell_type": "code",
   "execution_count": 5,
   "id": "861fb57b",
   "metadata": {},
   "outputs": [
    {
     "name": "stdout",
     "output_type": "stream",
     "text": [
      "10\n"
     ]
    }
   ],
   "source": [
    "print(x)"
   ]
  },
  {
   "cell_type": "code",
   "execution_count": 6,
   "id": "4ab8e6a4",
   "metadata": {},
   "outputs": [
    {
     "name": "stdout",
     "output_type": "stream",
     "text": [
      "3, olukayode\n"
     ]
    }
   ],
   "source": [
    "print(address)"
   ]
  },
  {
   "cell_type": "code",
   "execution_count": 7,
   "id": "8ce81fdb",
   "metadata": {},
   "outputs": [],
   "source": [
    "is_married = True"
   ]
  },
  {
   "cell_type": "markdown",
   "id": "32a6d648",
   "metadata": {},
   "source": [
    "### PYTHON COMMENTS\n"
   ]
  },
  {
   "cell_type": "code",
   "execution_count": 1,
   "id": "d42b8c1e",
   "metadata": {},
   "outputs": [],
   "source": [
    "## This is a comment"
   ]
  },
  {
   "cell_type": "code",
   "execution_count": 3,
   "id": "badbe1d3",
   "metadata": {},
   "outputs": [],
   "source": [
    "# this is a variable with value called mayowa\n",
    "first_name = 'mayowa'"
   ]
  },
  {
   "cell_type": "code",
   "execution_count": 4,
   "id": "3533e62d",
   "metadata": {},
   "outputs": [
    {
     "name": "stdout",
     "output_type": "stream",
     "text": [
      "mayowa\n"
     ]
    }
   ],
   "source": [
    "# printing the value of the first_name variable\n",
    "print(first_name)"
   ]
  },
  {
   "cell_type": "markdown",
   "id": "f1346b25",
   "metadata": {},
   "source": [
    "## DATA TYPE CHECKS"
   ]
  },
  {
   "cell_type": "code",
   "execution_count": 5,
   "id": "f99f23af",
   "metadata": {},
   "outputs": [],
   "source": [
    "age = 25"
   ]
  },
  {
   "cell_type": "code",
   "execution_count": 9,
   "id": "91b24dd0",
   "metadata": {},
   "outputs": [
    {
     "name": "stdout",
     "output_type": "stream",
     "text": [
      "<class 'int'>\n"
     ]
    }
   ],
   "source": [
    "# checking the data type of variable age\n",
    "print(type(age))"
   ]
  },
  {
   "cell_type": "code",
   "execution_count": 10,
   "id": "554f8cfe",
   "metadata": {},
   "outputs": [],
   "source": [
    "is_student = False"
   ]
  },
  {
   "cell_type": "code",
   "execution_count": 11,
   "id": "fdb2cef4",
   "metadata": {},
   "outputs": [
    {
     "name": "stdout",
     "output_type": "stream",
     "text": [
      "<class 'bool'>\n"
     ]
    }
   ],
   "source": [
    "print(type(is_student))"
   ]
  },
  {
   "cell_type": "code",
   "execution_count": 12,
   "id": "65acc93e",
   "metadata": {},
   "outputs": [],
   "source": [
    "height = 8.3"
   ]
  },
  {
   "cell_type": "code",
   "execution_count": 13,
   "id": "addb86cf",
   "metadata": {},
   "outputs": [
    {
     "name": "stdout",
     "output_type": "stream",
     "text": [
      "<class 'float'>\n"
     ]
    }
   ],
   "source": [
    "print(type(height))"
   ]
  },
  {
   "cell_type": "code",
   "execution_count": 14,
   "id": "44482712",
   "metadata": {},
   "outputs": [],
   "source": [
    "name = \"amanda\""
   ]
  },
  {
   "cell_type": "code",
   "execution_count": 15,
   "id": "342609d3",
   "metadata": {},
   "outputs": [
    {
     "name": "stdout",
     "output_type": "stream",
     "text": [
      "<class 'str'>\n"
     ]
    }
   ],
   "source": [
    "print(type(name))"
   ]
  },
  {
   "cell_type": "code",
   "execution_count": 16,
   "id": "92977f18",
   "metadata": {},
   "outputs": [],
   "source": [
    "corrupt_number = \"5\""
   ]
  },
  {
   "cell_type": "code",
   "execution_count": 17,
   "id": "3a3d0c48",
   "metadata": {},
   "outputs": [
    {
     "name": "stdout",
     "output_type": "stream",
     "text": [
      "5\n"
     ]
    }
   ],
   "source": [
    "print(corrupt_number)"
   ]
  },
  {
   "cell_type": "code",
   "execution_count": 19,
   "id": "e3dca8ae",
   "metadata": {},
   "outputs": [
    {
     "data": {
      "text/plain": [
       "str"
      ]
     },
     "execution_count": 19,
     "metadata": {},
     "output_type": "execute_result"
    }
   ],
   "source": [
    "type(corrupt_number)"
   ]
  },
  {
   "cell_type": "markdown",
   "id": "4fdb4f49",
   "metadata": {},
   "source": [
    "## DATA TYPE CASTING / CONVERSION"
   ]
  },
  {
   "cell_type": "code",
   "execution_count": 20,
   "id": "05669389",
   "metadata": {},
   "outputs": [],
   "source": [
    "corrupt_number = \"29\""
   ]
  },
  {
   "cell_type": "code",
   "execution_count": 21,
   "id": "b0454f62",
   "metadata": {},
   "outputs": [
    {
     "name": "stdout",
     "output_type": "stream",
     "text": [
      "29\n"
     ]
    }
   ],
   "source": [
    "print(corrupt_number)"
   ]
  },
  {
   "cell_type": "code",
   "execution_count": 22,
   "id": "6622b579",
   "metadata": {},
   "outputs": [
    {
     "ename": "TypeError",
     "evalue": "can only concatenate str (not \"int\") to str",
     "output_type": "error",
     "traceback": [
      "\u001b[1;31m---------------------------------------------------------------------------\u001b[0m",
      "\u001b[1;31mTypeError\u001b[0m                                 Traceback (most recent call last)",
      "Cell \u001b[1;32mIn[22], line 3\u001b[0m\n\u001b[0;32m      1\u001b[0m \u001b[38;5;66;03m# adding 1 with a string number will result to an error\u001b[39;00m\n\u001b[1;32m----> 3\u001b[0m \u001b[38;5;28mprint\u001b[39m (corrupt_number \u001b[38;5;241m+\u001b[39m \u001b[38;5;241m1\u001b[39m)\n",
      "\u001b[1;31mTypeError\u001b[0m: can only concatenate str (not \"int\") to str"
     ]
    }
   ],
   "source": [
    "# adding 1 with a string number will result to an error\n",
    "\n",
    "print (corrupt_number + 1)"
   ]
  },
  {
   "cell_type": "code",
   "execution_count": 23,
   "id": "691afbe0",
   "metadata": {},
   "outputs": [],
   "source": [
    "cleaned_data = int(corrupt_number)"
   ]
  },
  {
   "cell_type": "code",
   "execution_count": 24,
   "id": "dd063cc0",
   "metadata": {},
   "outputs": [
    {
     "name": "stdout",
     "output_type": "stream",
     "text": [
      "30\n"
     ]
    }
   ],
   "source": [
    "print(cleaned_data + 1)"
   ]
  },
  {
   "cell_type": "code",
   "execution_count": 26,
   "id": "14b02ddf",
   "metadata": {},
   "outputs": [
    {
     "name": "stdout",
     "output_type": "stream",
     "text": [
      "<class 'int'>\n"
     ]
    }
   ],
   "source": [
    "print(type(cleaned_data))"
   ]
  },
  {
   "cell_type": "code",
   "execution_count": 27,
   "id": "a13005ac",
   "metadata": {},
   "outputs": [
    {
     "name": "stdout",
     "output_type": "stream",
     "text": [
      "<class 'str'>\n"
     ]
    }
   ],
   "source": [
    "print(type(corrupt_number))"
   ]
  },
  {
   "cell_type": "code",
   "execution_count": 28,
   "id": "d68f1a6f",
   "metadata": {},
   "outputs": [],
   "source": [
    "weight = \"56.7\""
   ]
  },
  {
   "cell_type": "code",
   "execution_count": 29,
   "id": "746e5ed8",
   "metadata": {},
   "outputs": [
    {
     "name": "stdout",
     "output_type": "stream",
     "text": [
      "56.7\n"
     ]
    }
   ],
   "source": [
    "print(weight)"
   ]
  },
  {
   "cell_type": "code",
   "execution_count": 30,
   "id": "3a3f3e65",
   "metadata": {},
   "outputs": [
    {
     "name": "stdout",
     "output_type": "stream",
     "text": [
      "<class 'str'>\n"
     ]
    }
   ],
   "source": [
    "print(type(weight))"
   ]
  },
  {
   "cell_type": "code",
   "execution_count": 31,
   "id": "37e875d7",
   "metadata": {},
   "outputs": [],
   "source": [
    "cleaned_weight = float(weight)"
   ]
  },
  {
   "cell_type": "code",
   "execution_count": 32,
   "id": "c75ec33b",
   "metadata": {},
   "outputs": [
    {
     "name": "stdout",
     "output_type": "stream",
     "text": [
      "<class 'float'>\n"
     ]
    }
   ],
   "source": [
    "print(type(cleaned_weight))"
   ]
  },
  {
   "cell_type": "code",
   "execution_count": 33,
   "id": "dea787e6",
   "metadata": {},
   "outputs": [
    {
     "name": "stdout",
     "output_type": "stream",
     "text": [
      "56.7\n"
     ]
    }
   ],
   "source": [
    "print(cleaned_weight)"
   ]
  },
  {
   "cell_type": "code",
   "execution_count": 34,
   "id": "ae45c630",
   "metadata": {},
   "outputs": [],
   "source": [
    "number = 10"
   ]
  },
  {
   "cell_type": "code",
   "execution_count": 35,
   "id": "70bf13a2",
   "metadata": {},
   "outputs": [],
   "source": [
    "new_number = float(number)"
   ]
  },
  {
   "cell_type": "code",
   "execution_count": 36,
   "id": "9fe43424",
   "metadata": {},
   "outputs": [
    {
     "name": "stdout",
     "output_type": "stream",
     "text": [
      "10.0\n"
     ]
    }
   ],
   "source": [
    "print(new_number)"
   ]
  },
  {
   "cell_type": "code",
   "execution_count": 37,
   "id": "0175e2e8",
   "metadata": {},
   "outputs": [
    {
     "name": "stdout",
     "output_type": "stream",
     "text": [
      "<class 'float'>\n"
     ]
    }
   ],
   "source": [
    "print(type(new_number))"
   ]
  },
  {
   "cell_type": "code",
   "execution_count": 38,
   "id": "ac04bb59",
   "metadata": {},
   "outputs": [],
   "source": [
    "x = 5.9"
   ]
  },
  {
   "cell_type": "code",
   "execution_count": 39,
   "id": "7990fccf",
   "metadata": {},
   "outputs": [],
   "source": [
    "new_x = int(x)"
   ]
  },
  {
   "cell_type": "code",
   "execution_count": 41,
   "id": "961229fe",
   "metadata": {},
   "outputs": [
    {
     "name": "stdout",
     "output_type": "stream",
     "text": [
      "5\n"
     ]
    }
   ],
   "source": [
    "print(new_x)"
   ]
  },
  {
   "cell_type": "code",
   "execution_count": 42,
   "id": "f51c0ff5",
   "metadata": {},
   "outputs": [],
   "source": [
    "rounded_x = round(x)"
   ]
  },
  {
   "cell_type": "code",
   "execution_count": 43,
   "id": "f9770db6",
   "metadata": {},
   "outputs": [
    {
     "name": "stdout",
     "output_type": "stream",
     "text": [
      "6\n"
     ]
    }
   ],
   "source": [
    "print(rounded_x)"
   ]
  },
  {
   "cell_type": "code",
   "execution_count": 44,
   "id": "685b05ed",
   "metadata": {},
   "outputs": [],
   "source": [
    "y = 11.767"
   ]
  },
  {
   "cell_type": "code",
   "execution_count": 50,
   "id": "5058d2fd",
   "metadata": {},
   "outputs": [],
   "source": [
    "rounded_x_two_decimal = round(y, 2)"
   ]
  },
  {
   "cell_type": "code",
   "execution_count": 51,
   "id": "0664b92f",
   "metadata": {},
   "outputs": [
    {
     "name": "stdout",
     "output_type": "stream",
     "text": [
      "11.77\n"
     ]
    }
   ],
   "source": [
    "print(rounded_x_two_decimal)"
   ]
  },
  {
   "cell_type": "code",
   "execution_count": null,
   "id": "63174500",
   "metadata": {},
   "outputs": [],
   "source": []
  }
 ],
 "metadata": {
  "kernelspec": {
   "display_name": "Python 3 (ipykernel)",
   "language": "python",
   "name": "python3"
  },
  "language_info": {
   "codemirror_mode": {
    "name": "ipython",
    "version": 3
   },
   "file_extension": ".py",
   "mimetype": "text/x-python",
   "name": "python",
   "nbconvert_exporter": "python",
   "pygments_lexer": "ipython3",
   "version": "3.11.3"
  }
 },
 "nbformat": 4,
 "nbformat_minor": 5
}
