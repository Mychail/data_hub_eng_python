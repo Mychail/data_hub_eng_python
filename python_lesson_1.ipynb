{
 "cells": [
  {
   "cell_type": "markdown",
   "id": "6acb3ad7",
   "metadata": {},
   "source": [
    "## PYTHON VARIABLE"
   ]
  },
  {
   "cell_type": "code",
   "execution_count": 1,
   "id": "a7f7bd8e",
   "metadata": {},
   "outputs": [],
   "source": [
    "x = 5"
   ]
  },
  {
   "cell_type": "code",
   "execution_count": 2,
   "id": "469833f0",
   "metadata": {},
   "outputs": [],
   "source": [
    "address = '3, olukayode'"
   ]
  },
  {
   "cell_type": "code",
   "execution_count": 3,
   "id": "4bb64568",
   "metadata": {},
   "outputs": [
    {
     "data": {
      "text/plain": [
       "'3, olukayode'"
      ]
     },
     "execution_count": 3,
     "metadata": {},
     "output_type": "execute_result"
    }
   ],
   "source": [
    "address"
   ]
  },
  {
   "cell_type": "markdown",
   "id": "bf6dc453",
   "metadata": {},
   "source": [
    "## Variable Naming Convention\n",
    "- A variable name must start with a letter or the underscore chracter.\n",
    "- A variable name cannot start with a number\n",
    "- A variable name can only contain alpha-numeric chracters and underscores (A-z, 0-9, and _)\n",
    "- Variable names are case-sensitive (age, Age, and AGE are three different variables)"
   ]
  },
  {
   "cell_type": "markdown",
   "id": "d94980db",
   "metadata": {},
   "source": [
    "## PRINT KEYWORD\n",
    "\n",
    "we use print keyword to output value of a variable\n",
    "\n",
    "NOTE:\n",
    "* () is called parentheses\n",
    "* {} is called Curly braces\n",
    "* [] is square brackets"
   ]
  },
  {
   "cell_type": "code",
   "execution_count": 4,
   "id": "23d74029",
   "metadata": {},
   "outputs": [],
   "source": [
    "x = 10"
   ]
  },
  {
   "cell_type": "code",
   "execution_count": 5,
   "id": "861fb57b",
   "metadata": {},
   "outputs": [
    {
     "name": "stdout",
     "output_type": "stream",
     "text": [
      "10\n"
     ]
    }
   ],
   "source": [
    "print(x)"
   ]
  },
  {
   "cell_type": "code",
   "execution_count": 6,
   "id": "4ab8e6a4",
   "metadata": {},
   "outputs": [
    {
     "name": "stdout",
     "output_type": "stream",
     "text": [
      "3, olukayode\n"
     ]
    }
   ],
   "source": [
    "print(address)"
   ]
  },
  {
   "cell_type": "code",
   "execution_count": 7,
   "id": "8ce81fdb",
   "metadata": {},
   "outputs": [],
   "source": [
    "is_married = True"
   ]
  },
  {
   "cell_type": "markdown",
   "id": "32a6d648",
   "metadata": {},
   "source": [
    "### PYTHON COMMENTS\n"
   ]
  },
  {
   "cell_type": "code",
   "execution_count": 1,
   "id": "d42b8c1e",
   "metadata": {},
   "outputs": [],
   "source": [
    "## This is a comment"
   ]
  },
  {
   "cell_type": "code",
   "execution_count": 3,
   "id": "badbe1d3",
   "metadata": {},
   "outputs": [],
   "source": [
    "# this is a variable with value called mayowa\n",
    "first_name = 'mayowa'"
   ]
  },
  {
   "cell_type": "code",
   "execution_count": 4,
   "id": "3533e62d",
   "metadata": {},
   "outputs": [
    {
     "name": "stdout",
     "output_type": "stream",
     "text": [
      "mayowa\n"
     ]
    }
   ],
   "source": [
    "# printing the value of the first_name variable\n",
    "print(first_name)"
   ]
  },
  {
   "cell_type": "markdown",
   "id": "f1346b25",
   "metadata": {},
   "source": [
    "## DATA TYPE CHECKS"
   ]
  },
  {
   "cell_type": "code",
   "execution_count": 5,
   "id": "f99f23af",
   "metadata": {},
   "outputs": [],
   "source": [
    "age = 25"
   ]
  },
  {
   "cell_type": "code",
   "execution_count": 9,
   "id": "91b24dd0",
   "metadata": {},
   "outputs": [
    {
     "name": "stdout",
     "output_type": "stream",
     "text": [
      "<class 'int'>\n"
     ]
    }
   ],
   "source": [
    "# checking the data type of variable age\n",
    "print(type(age))"
   ]
  },
  {
   "cell_type": "code",
   "execution_count": 10,
   "id": "554f8cfe",
   "metadata": {},
   "outputs": [],
   "source": [
    "is_student = False"
   ]
  },
  {
   "cell_type": "code",
   "execution_count": 11,
   "id": "fdb2cef4",
   "metadata": {},
   "outputs": [
    {
     "name": "stdout",
     "output_type": "stream",
     "text": [
      "<class 'bool'>\n"
     ]
    }
   ],
   "source": [
    "print(type(is_student))"
   ]
  },
  {
   "cell_type": "code",
   "execution_count": 12,
   "id": "65acc93e",
   "metadata": {},
   "outputs": [],
   "source": [
    "height = 8.3"
   ]
  },
  {
   "cell_type": "code",
   "execution_count": 13,
   "id": "addb86cf",
   "metadata": {},
   "outputs": [
    {
     "name": "stdout",
     "output_type": "stream",
     "text": [
      "<class 'float'>\n"
     ]
    }
   ],
   "source": [
    "print(type(height))"
   ]
  },
  {
   "cell_type": "code",
   "execution_count": 14,
   "id": "44482712",
   "metadata": {},
   "outputs": [],
   "source": [
    "name = \"amanda\""
   ]
  },
  {
   "cell_type": "code",
   "execution_count": 15,
   "id": "342609d3",
   "metadata": {},
   "outputs": [
    {
     "name": "stdout",
     "output_type": "stream",
     "text": [
      "<class 'str'>\n"
     ]
    }
   ],
   "source": [
    "print(type(name))"
   ]
  },
  {
   "cell_type": "code",
   "execution_count": 16,
   "id": "92977f18",
   "metadata": {},
   "outputs": [],
   "source": [
    "corrupt_number = \"5\""
   ]
  },
  {
   "cell_type": "code",
   "execution_count": 17,
   "id": "3a3d0c48",
   "metadata": {},
   "outputs": [
    {
     "name": "stdout",
     "output_type": "stream",
     "text": [
      "5\n"
     ]
    }
   ],
   "source": [
    "print(corrupt_number)"
   ]
  },
  {
   "cell_type": "code",
   "execution_count": 19,
   "id": "e3dca8ae",
   "metadata": {},
   "outputs": [
    {
     "data": {
      "text/plain": [
       "str"
      ]
     },
     "execution_count": 19,
     "metadata": {},
     "output_type": "execute_result"
    }
   ],
   "source": [
    "type(corrupt_number)"
   ]
  },
  {
   "cell_type": "markdown",
   "id": "4fdb4f49",
   "metadata": {},
   "source": [
    "## DATA TYPE CASTING / CONVERSION"
   ]
  },
  {
   "cell_type": "code",
   "execution_count": 20,
   "id": "05669389",
   "metadata": {},
   "outputs": [],
   "source": [
    "corrupt_number = \"29\""
   ]
  },
  {
   "cell_type": "code",
   "execution_count": 21,
   "id": "b0454f62",
   "metadata": {},
   "outputs": [
    {
     "name": "stdout",
     "output_type": "stream",
     "text": [
      "29\n"
     ]
    }
   ],
   "source": [
    "print(corrupt_number)"
   ]
  },
  {
   "cell_type": "code",
   "execution_count": 22,
   "id": "6622b579",
   "metadata": {},
   "outputs": [
    {
     "ename": "TypeError",
     "evalue": "can only concatenate str (not \"int\") to str",
     "output_type": "error",
     "traceback": [
      "\u001b[1;31m---------------------------------------------------------------------------\u001b[0m",
      "\u001b[1;31mTypeError\u001b[0m                                 Traceback (most recent call last)",
      "Cell \u001b[1;32mIn[22], line 3\u001b[0m\n\u001b[0;32m      1\u001b[0m \u001b[38;5;66;03m# adding 1 with a string number will result to an error\u001b[39;00m\n\u001b[1;32m----> 3\u001b[0m \u001b[38;5;28mprint\u001b[39m (corrupt_number \u001b[38;5;241m+\u001b[39m \u001b[38;5;241m1\u001b[39m)\n",
      "\u001b[1;31mTypeError\u001b[0m: can only concatenate str (not \"int\") to str"
     ]
    }
   ],
   "source": [
    "# adding 1 with a string number will result to an error\n",
    "\n",
    "print (corrupt_number + 1)"
   ]
  },
  {
   "cell_type": "code",
   "execution_count": 23,
   "id": "691afbe0",
   "metadata": {},
   "outputs": [],
   "source": [
    "cleaned_data = int(corrupt_number)"
   ]
  },
  {
   "cell_type": "code",
   "execution_count": 24,
   "id": "dd063cc0",
   "metadata": {},
   "outputs": [
    {
     "name": "stdout",
     "output_type": "stream",
     "text": [
      "30\n"
     ]
    }
   ],
   "source": [
    "print(cleaned_data + 1)"
   ]
  },
  {
   "cell_type": "code",
   "execution_count": 26,
   "id": "14b02ddf",
   "metadata": {},
   "outputs": [
    {
     "name": "stdout",
     "output_type": "stream",
     "text": [
      "<class 'int'>\n"
     ]
    }
   ],
   "source": [
    "print(type(cleaned_data))"
   ]
  },
  {
   "cell_type": "code",
   "execution_count": 27,
   "id": "a13005ac",
   "metadata": {},
   "outputs": [
    {
     "name": "stdout",
     "output_type": "stream",
     "text": [
      "<class 'str'>\n"
     ]
    }
   ],
   "source": [
    "print(type(corrupt_number))"
   ]
  },
  {
   "cell_type": "code",
   "execution_count": 28,
   "id": "d68f1a6f",
   "metadata": {},
   "outputs": [],
   "source": [
    "weight = \"56.7\""
   ]
  },
  {
   "cell_type": "code",
   "execution_count": 29,
   "id": "746e5ed8",
   "metadata": {},
   "outputs": [
    {
     "name": "stdout",
     "output_type": "stream",
     "text": [
      "56.7\n"
     ]
    }
   ],
   "source": [
    "print(weight)"
   ]
  },
  {
   "cell_type": "code",
   "execution_count": 30,
   "id": "3a3f3e65",
   "metadata": {},
   "outputs": [
    {
     "name": "stdout",
     "output_type": "stream",
     "text": [
      "<class 'str'>\n"
     ]
    }
   ],
   "source": [
    "print(type(weight))"
   ]
  },
  {
   "cell_type": "code",
   "execution_count": 31,
   "id": "37e875d7",
   "metadata": {},
   "outputs": [],
   "source": [
    "cleaned_weight = float(weight)"
   ]
  },
  {
   "cell_type": "code",
   "execution_count": 32,
   "id": "c75ec33b",
   "metadata": {},
   "outputs": [
    {
     "name": "stdout",
     "output_type": "stream",
     "text": [
      "<class 'float'>\n"
     ]
    }
   ],
   "source": [
    "print(type(cleaned_weight))"
   ]
  },
  {
   "cell_type": "code",
   "execution_count": 33,
   "id": "dea787e6",
   "metadata": {},
   "outputs": [
    {
     "name": "stdout",
     "output_type": "stream",
     "text": [
      "56.7\n"
     ]
    }
   ],
   "source": [
    "print(cleaned_weight)"
   ]
  },
  {
   "cell_type": "code",
   "execution_count": 34,
   "id": "ae45c630",
   "metadata": {},
   "outputs": [],
   "source": [
    "number = 10"
   ]
  },
  {
   "cell_type": "code",
   "execution_count": 35,
   "id": "70bf13a2",
   "metadata": {},
   "outputs": [],
   "source": [
    "new_number = float(number)"
   ]
  },
  {
   "cell_type": "code",
   "execution_count": 36,
   "id": "9fe43424",
   "metadata": {},
   "outputs": [
    {
     "name": "stdout",
     "output_type": "stream",
     "text": [
      "10.0\n"
     ]
    }
   ],
   "source": [
    "print(new_number)"
   ]
  },
  {
   "cell_type": "code",
   "execution_count": 37,
   "id": "0175e2e8",
   "metadata": {},
   "outputs": [
    {
     "name": "stdout",
     "output_type": "stream",
     "text": [
      "<class 'float'>\n"
     ]
    }
   ],
   "source": [
    "print(type(new_number))"
   ]
  },
  {
   "cell_type": "code",
   "execution_count": 38,
   "id": "ac04bb59",
   "metadata": {},
   "outputs": [],
   "source": [
    "x = 5.9"
   ]
  },
  {
   "cell_type": "code",
   "execution_count": 39,
   "id": "7990fccf",
   "metadata": {},
   "outputs": [],
   "source": [
    "new_x = int(x)"
   ]
  },
  {
   "cell_type": "code",
   "execution_count": 41,
   "id": "961229fe",
   "metadata": {},
   "outputs": [
    {
     "name": "stdout",
     "output_type": "stream",
     "text": [
      "5\n"
     ]
    }
   ],
   "source": [
    "print(new_x)"
   ]
  },
  {
   "cell_type": "code",
   "execution_count": 42,
   "id": "f51c0ff5",
   "metadata": {},
   "outputs": [],
   "source": [
    "rounded_x = round(x)"
   ]
  },
  {
   "cell_type": "code",
   "execution_count": 43,
   "id": "f9770db6",
   "metadata": {},
   "outputs": [
    {
     "name": "stdout",
     "output_type": "stream",
     "text": [
      "6\n"
     ]
    }
   ],
   "source": [
    "print(rounded_x)"
   ]
  },
  {
   "cell_type": "code",
   "execution_count": 44,
   "id": "685b05ed",
   "metadata": {},
   "outputs": [],
   "source": [
    "y = 11.767"
   ]
  },
  {
   "cell_type": "code",
   "execution_count": 50,
   "id": "5058d2fd",
   "metadata": {},
   "outputs": [],
   "source": [
    "rounded_x_two_decimal = round(y, 2)"
   ]
  },
  {
   "cell_type": "code",
   "execution_count": 51,
   "id": "0664b92f",
   "metadata": {},
   "outputs": [
    {
     "name": "stdout",
     "output_type": "stream",
     "text": [
      "11.77\n"
     ]
    }
   ],
   "source": [
    "print(rounded_x_two_decimal)"
   ]
  },
  {
   "cell_type": "markdown",
   "id": "6ac1d31d-9663-4d80-a976-df18014095e6",
   "metadata": {},
   "source": [
    "## CONCATENATION"
   ]
  },
  {
   "cell_type": "code",
   "execution_count": 4,
   "id": "01abe485-52c1-446e-89e7-4b80959f35fa",
   "metadata": {},
   "outputs": [],
   "source": [
    "first_name = \"chukwujekwu \""
   ]
  },
  {
   "cell_type": "code",
   "execution_count": 2,
   "id": "16adb0c9-2cad-45ca-8369-428c3478b212",
   "metadata": {},
   "outputs": [],
   "source": [
    "last_name = \"anah\""
   ]
  },
  {
   "cell_type": "code",
   "execution_count": 6,
   "id": "e20e551e-83bc-401e-b8ef-8169f3816fa0",
   "metadata": {},
   "outputs": [],
   "source": [
    "full_name = first_name + last_name"
   ]
  },
  {
   "cell_type": "code",
   "execution_count": 7,
   "id": "bc62c649-ab9e-4ba7-a5b4-1d37c93154a2",
   "metadata": {},
   "outputs": [
    {
     "name": "stdout",
     "output_type": "stream",
     "text": [
      "chukwujekwu anah\n"
     ]
    }
   ],
   "source": [
    "print(full_name)"
   ]
  },
  {
   "cell_type": "code",
   "execution_count": 8,
   "id": "a3a95c46-8975-44bb-a27b-02fb623d17c7",
   "metadata": {},
   "outputs": [
    {
     "name": "stdout",
     "output_type": "stream",
     "text": [
      "how are you\n"
     ]
    }
   ],
   "source": [
    "print(\"how \" + \"are\" + \" you\")"
   ]
  },
  {
   "cell_type": "markdown",
   "id": "eb26f43e-b4b6-46cd-9c66-665b3127cca7",
   "metadata": {},
   "source": [
    "### Multiline Strings"
   ]
  },
  {
   "cell_type": "code",
   "execution_count": 11,
   "id": "eabffc38-f8b3-4c84-b424-bc54e6caf14c",
   "metadata": {},
   "outputs": [],
   "source": [
    "name = \"\"\"chizoba anajemba \n",
    "ugochukwu okoronkwo\"\"\""
   ]
  },
  {
   "cell_type": "code",
   "execution_count": 12,
   "id": "8c05beaa-8c00-4974-a7b0-3b15346426c3",
   "metadata": {},
   "outputs": [
    {
     "name": "stdout",
     "output_type": "stream",
     "text": [
      "chizoba anajemba \n",
      "ugochukwu okoronkwo\n"
     ]
    }
   ],
   "source": [
    "print(name)"
   ]
  },
  {
   "cell_type": "markdown",
   "id": "65ed28fd-72b2-4dce-96fd-a9bdaa95af1a",
   "metadata": {},
   "source": [
    "## USER INPUT"
   ]
  },
  {
   "cell_type": "code",
   "execution_count": 15,
   "id": "19b6a50c-771a-48f9-afa8-73cb9aa50232",
   "metadata": {},
   "outputs": [
    {
     "name": "stdin",
     "output_type": "stream",
     "text": [
      "please what is your age ?:  10\n"
     ]
    }
   ],
   "source": [
    "question = int(input(\"please what is your age ?: \"))"
   ]
  },
  {
   "cell_type": "code",
   "execution_count": 16,
   "id": "dc372bbe-1624-4a0c-9a39-f003c4ea6be1",
   "metadata": {},
   "outputs": [
    {
     "name": "stdout",
     "output_type": "stream",
     "text": [
      "10\n"
     ]
    }
   ],
   "source": [
    "print(question)"
   ]
  },
  {
   "cell_type": "code",
   "execution_count": 17,
   "id": "b150733d-4b28-44c8-b06c-1706603f1583",
   "metadata": {},
   "outputs": [],
   "source": [
    "new_age = question + 10"
   ]
  },
  {
   "cell_type": "code",
   "execution_count": 18,
   "id": "052daf69-11db-45a1-b2ef-4243ec5cc3bb",
   "metadata": {},
   "outputs": [
    {
     "name": "stdout",
     "output_type": "stream",
     "text": [
      "20\n"
     ]
    }
   ],
   "source": [
    "print(new_age)"
   ]
  },
  {
   "cell_type": "markdown",
   "id": "9088a04a-8a78-48b7-a288-7e00d5a02438",
   "metadata": {},
   "source": [
    "## STRING INTERPOLATION"
   ]
  },
  {
   "cell_type": "code",
   "execution_count": 19,
   "id": "cbcb85f2-7fc6-4c92-95a6-15cf916327fc",
   "metadata": {},
   "outputs": [],
   "source": [
    "age = 30"
   ]
  },
  {
   "cell_type": "code",
   "execution_count": 20,
   "id": "10c6673a-c866-486b-ab1c-dd8a84647493",
   "metadata": {},
   "outputs": [
    {
     "name": "stdout",
     "output_type": "stream",
     "text": [
      "30\n"
     ]
    }
   ],
   "source": [
    "print(age)"
   ]
  },
  {
   "cell_type": "code",
   "execution_count": 29,
   "id": "87bc006b-4b95-4ebd-a5cd-6b70da9205ce",
   "metadata": {},
   "outputs": [
    {
     "name": "stdout",
     "output_type": "stream",
     "text": [
      "my age is 30\n"
     ]
    }
   ],
   "source": [
    "# Even though this works, this method does not alight with proper programming ethics\n",
    "print(\"my age is\", age)"
   ]
  },
  {
   "cell_type": "code",
   "execution_count": 26,
   "id": "fa599e30-82d2-4c72-9953-c7800f03a4a1",
   "metadata": {},
   "outputs": [
    {
     "name": "stdout",
     "output_type": "stream",
     "text": [
      "my age is 30\n"
     ]
    }
   ],
   "source": [
    "# Using f-string string formatting is the most ideal method\n",
    "print(f\"my age is {age}\")"
   ]
  },
  {
   "cell_type": "code",
   "execution_count": 30,
   "id": "3ad6a7b1-d070-40ae-bf43-97ab263d0d7d",
   "metadata": {},
   "outputs": [
    {
     "name": "stdout",
     "output_type": "stream",
     "text": [
      "my name is chukwujekwu, i am 30 years old\n"
     ]
    }
   ],
   "source": [
    "# more examples\n",
    "print(f\"my name is chukwujekwu, i am {age} years old\")"
   ]
  },
  {
   "cell_type": "markdown",
   "id": "f49ff750-27a6-44b2-b816-ac0e40304f82",
   "metadata": {},
   "source": [
    "### STRING METHODS OR FUNCTIONS"
   ]
  },
  {
   "cell_type": "code",
   "execution_count": 31,
   "id": "0eb817e2-3490-4994-84cb-2238269a36a3",
   "metadata": {},
   "outputs": [],
   "source": [
    "name = \"chukwujekwu\""
   ]
  },
  {
   "cell_type": "code",
   "execution_count": 35,
   "id": "0f4556b0-c958-41b0-b7c9-1af9a2718b8e",
   "metadata": {},
   "outputs": [
    {
     "name": "stdout",
     "output_type": "stream",
     "text": [
      "CHUKWUJEKWU\n"
     ]
    }
   ],
   "source": [
    "# convert to uppercase\n",
    "print(name.upper())"
   ]
  },
  {
   "cell_type": "code",
   "execution_count": 36,
   "id": "c5b2cdd0-bc19-457f-b5c2-3cb46876a45c",
   "metadata": {},
   "outputs": [],
   "source": [
    "last_name = \"ANAH\""
   ]
  },
  {
   "cell_type": "code",
   "execution_count": 37,
   "id": "6a97aeae-02e4-4ff5-9d9e-229399a3678a",
   "metadata": {},
   "outputs": [
    {
     "name": "stdout",
     "output_type": "stream",
     "text": [
      "anah\n"
     ]
    }
   ],
   "source": [
    "# convert name to lower_case\n",
    "print(last_name.lower())"
   ]
  },
  {
   "cell_type": "code",
   "execution_count": 38,
   "id": "724e7939-0dc1-490b-a3c7-dd5025938d49",
   "metadata": {},
   "outputs": [],
   "source": [
    "address = \" no 8 olukayode adegoyeda igboeshin\""
   ]
  },
  {
   "cell_type": "code",
   "execution_count": 40,
   "id": "285ef955-0d9d-4cbf-b9b7-96e95360c8d3",
   "metadata": {},
   "outputs": [
    {
     "name": "stdout",
     "output_type": "stream",
     "text": [
      "5\n"
     ]
    }
   ],
   "source": [
    "# count the number of times the letter o occurs in the address provided\n",
    "print(address.count(\"o\"))"
   ]
  },
  {
   "cell_type": "code",
   "execution_count": 41,
   "id": "6399bd22-590b-4f77-9a3d-712b48709efa",
   "metadata": {},
   "outputs": [],
   "source": [
    "car = \"lamborghini\""
   ]
  },
  {
   "cell_type": "code",
   "execution_count": 43,
   "id": "67a16b45-fbbd-471f-923e-8b9bc8921793",
   "metadata": {},
   "outputs": [
    {
     "name": "stdout",
     "output_type": "stream",
     "text": [
      "True\n"
     ]
    }
   ],
   "source": [
    "# check if the car begins with an L\n",
    "print(car.startswith(\"l\"))"
   ]
  },
  {
   "cell_type": "code",
   "execution_count": 44,
   "id": "72295e47-bff6-4c2d-beb8-c64ed639328a",
   "metadata": {},
   "outputs": [
    {
     "name": "stdout",
     "output_type": "stream",
     "text": [
      "False\n"
     ]
    }
   ],
   "source": [
    "# check if the car name ends with a c\n",
    "print(car.endswith(\"c\"))"
   ]
  },
  {
   "cell_type": "code",
   "execution_count": 47,
   "id": "b0b514ec-2ae7-4894-9aba-48a4853f95ed",
   "metadata": {},
   "outputs": [],
   "source": [
    "corrupt_data = \"56y\""
   ]
  },
  {
   "cell_type": "code",
   "execution_count": 48,
   "id": "4f7c5626-59f5-4410-ba59-681c3a7502e0",
   "metadata": {},
   "outputs": [
    {
     "name": "stdout",
     "output_type": "stream",
     "text": [
      "False\n"
     ]
    }
   ],
   "source": [
    "print(corrupt_data.isnumeric())"
   ]
  },
  {
   "cell_type": "code",
   "execution_count": 49,
   "id": "51cf5d0e-d4a2-41fb-8998-46542b338141",
   "metadata": {},
   "outputs": [],
   "source": [
    "corrupt_num = \"56\""
   ]
  },
  {
   "cell_type": "code",
   "execution_count": 50,
   "id": "62dc5e3e-3cbe-4f10-82fd-931d2df33c1c",
   "metadata": {},
   "outputs": [
    {
     "name": "stdout",
     "output_type": "stream",
     "text": [
      "True\n"
     ]
    }
   ],
   "source": [
    "print(corrupt_num.isnumeric())"
   ]
  },
  {
   "cell_type": "code",
   "execution_count": 51,
   "id": "3613ad88-a9dd-4fbc-9073-cb15937c5059",
   "metadata": {},
   "outputs": [],
   "source": [
    "name = \"bahman\""
   ]
  },
  {
   "cell_type": "code",
   "execution_count": 52,
   "id": "b17b01e6-a150-4c8b-a451-9c720d420418",
   "metadata": {},
   "outputs": [],
   "source": [
    "correct_name = name.replace(\"b\", \"r\")"
   ]
  },
  {
   "cell_type": "code",
   "execution_count": 54,
   "id": "e9c25d42-b03c-4cd5-a20a-d1b517e0323c",
   "metadata": {},
   "outputs": [
    {
     "name": "stdout",
     "output_type": "stream",
     "text": [
      "rahman\n"
     ]
    }
   ],
   "source": [
    "print(correct_name)"
   ]
  },
  {
   "cell_type": "code",
   "execution_count": 56,
   "id": "d04df9e6-1c21-40ee-88d7-072c0d55898d",
   "metadata": {},
   "outputs": [],
   "source": [
    "animal = \"elephant\""
   ]
  },
  {
   "cell_type": "code",
   "execution_count": 59,
   "id": "fe2a3a57-6f44-45ad-9ab8-5023a75449f4",
   "metadata": {},
   "outputs": [],
   "source": [
    "# the replace method replaces any occurence of the specified character with the new character\n",
    "animal_refix = animal.replace(\"e\", \"j\")"
   ]
  },
  {
   "cell_type": "code",
   "execution_count": 58,
   "id": "d5924138-cb24-441c-85c1-702317b47d8e",
   "metadata": {},
   "outputs": [
    {
     "name": "stdout",
     "output_type": "stream",
     "text": [
      "jljphant\n"
     ]
    }
   ],
   "source": [
    "print(animal_refix)"
   ]
  },
  {
   "cell_type": "code",
   "execution_count": 60,
   "id": "c8a8429f-fa2b-4cc3-8e87-d60b4c2c8509",
   "metadata": {},
   "outputs": [],
   "source": [
    "name = \"mayo wa\""
   ]
  },
  {
   "cell_type": "code",
   "execution_count": 61,
   "id": "0e35b59e-7920-47d3-8aa6-e076b201c41c",
   "metadata": {},
   "outputs": [],
   "source": [
    "refix = name.replace(\" \", \"\")"
   ]
  },
  {
   "cell_type": "code",
   "execution_count": 62,
   "id": "d61a6c1b-97c0-4919-aa1e-6995642dad6d",
   "metadata": {},
   "outputs": [
    {
     "name": "stdout",
     "output_type": "stream",
     "text": [
      "mayowa\n"
     ]
    }
   ],
   "source": [
    "print(refix)"
   ]
  },
  {
   "cell_type": "code",
   "execution_count": 63,
   "id": "a6abcc35-cedf-4e0a-a2b6-07bbb9668411",
   "metadata": {},
   "outputs": [],
   "source": [
    "age = 25"
   ]
  },
  {
   "cell_type": "code",
   "execution_count": 65,
   "id": "2796a920-f4e3-444f-9065-aabe9955641b",
   "metadata": {},
   "outputs": [
    {
     "ename": "AttributeError",
     "evalue": "'int' object has no attribute 'replace'",
     "output_type": "error",
     "traceback": [
      "\u001b[1;31m---------------------------------------------------------------------------\u001b[0m",
      "\u001b[1;31mAttributeError\u001b[0m                            Traceback (most recent call last)",
      "Cell \u001b[1;32mIn[65], line 2\u001b[0m\n\u001b[0;32m      1\u001b[0m \u001b[38;5;66;03m# it can be seen that the method replace is strictly a string method an cant work on other datatypes\u001b[39;00m\n\u001b[1;32m----> 2\u001b[0m \u001b[43mage\u001b[49m\u001b[38;5;241;43m.\u001b[39;49m\u001b[43mreplace\u001b[49m(\u001b[38;5;241m2\u001b[39m, \u001b[38;5;241m5\u001b[39m)\n",
      "\u001b[1;31mAttributeError\u001b[0m: 'int' object has no attribute 'replace'"
     ]
    }
   ],
   "source": [
    "# it can be seen that the method replace is strictly a string method an cant work on other datatypes\n",
    "age.replace(2, 5)"
   ]
  },
  {
   "cell_type": "markdown",
   "id": "0341198e-419a-4be6-8683-c320ffdf4544",
   "metadata": {},
   "source": [
    "### PYTHON OPERATORS"
   ]
  },
  {
   "cell_type": "markdown",
   "id": "8368649a-1131-4980-934f-ceb5b8616860",
   "metadata": {},
   "source": [
    "#### arithmetic operators"
   ]
  },
  {
   "cell_type": "code",
   "execution_count": 66,
   "id": "508011d3-964a-4bf5-b5a9-8b543e217b70",
   "metadata": {},
   "outputs": [
    {
     "name": "stdout",
     "output_type": "stream",
     "text": [
      "4\n"
     ]
    }
   ],
   "source": [
    "print(2 + 2) # addition"
   ]
  },
  {
   "cell_type": "code",
   "execution_count": 67,
   "id": "3fe9684d-46b0-4054-9572-b8d6a32f17af",
   "metadata": {},
   "outputs": [
    {
     "name": "stdout",
     "output_type": "stream",
     "text": [
      "2\n"
     ]
    }
   ],
   "source": [
    "print(4 - 2) # substraction"
   ]
  },
  {
   "cell_type": "code",
   "execution_count": 68,
   "id": "4266e75d-732a-48e6-be97-d971fa7473a4",
   "metadata": {},
   "outputs": [
    {
     "name": "stdout",
     "output_type": "stream",
     "text": [
      "8\n"
     ]
    }
   ],
   "source": [
    "print(4 * 2) # multiplication"
   ]
  },
  {
   "cell_type": "code",
   "execution_count": 69,
   "id": "7885c6fe-98b8-4acd-81d5-3321356d3df9",
   "metadata": {},
   "outputs": [
    {
     "name": "stdout",
     "output_type": "stream",
     "text": [
      "5.0\n"
     ]
    }
   ],
   "source": [
    "print(10 / 2) # division"
   ]
  },
  {
   "cell_type": "code",
   "execution_count": 70,
   "id": "f8342a7e-8684-4a8d-af9f-55eaadb57e51",
   "metadata": {},
   "outputs": [
    {
     "name": "stdout",
     "output_type": "stream",
     "text": [
      "5\n"
     ]
    }
   ],
   "source": [
    "print(10 // 2) # floor division : returns a the whole number result"
   ]
  },
  {
   "cell_type": "code",
   "execution_count": 72,
   "id": "a767f998-c559-4658-aa8e-2469a0e66254",
   "metadata": {},
   "outputs": [
    {
     "name": "stdout",
     "output_type": "stream",
     "text": [
      "2\n"
     ]
    }
   ],
   "source": [
    "print(17 % 3) # modulo : returns the remnant"
   ]
  },
  {
   "cell_type": "code",
   "execution_count": 74,
   "id": "52ae8d9f-2c0f-4712-bf39-372b50378749",
   "metadata": {},
   "outputs": [
    {
     "name": "stdout",
     "output_type": "stream",
     "text": [
      "8\n"
     ]
    }
   ],
   "source": [
    "print(2 ** 3) # exponential"
   ]
  },
  {
   "cell_type": "markdown",
   "id": "cd347537-4536-47e7-a5e4-2e75fb3efa66",
   "metadata": {},
   "source": [
    "#### Comparison Operators\n",
    "\n",
    "the response is always going to be a boolean"
   ]
  },
  {
   "cell_type": "code",
   "execution_count": 76,
   "id": "6a104464-d6d2-4214-a7b6-d11a4e4ae224",
   "metadata": {},
   "outputs": [
    {
     "name": "stdout",
     "output_type": "stream",
     "text": [
      "False\n"
     ]
    }
   ],
   "source": [
    "print(4 == \"4\") # equal "
   ]
  },
  {
   "cell_type": "code",
   "execution_count": 78,
   "id": "fd205b85-36c1-4d0f-a7b6-ff38d68556db",
   "metadata": {},
   "outputs": [
    {
     "name": "stdout",
     "output_type": "stream",
     "text": [
      "False\n"
     ]
    }
   ],
   "source": [
    "print(2 != 2) # not equal"
   ]
  },
  {
   "cell_type": "code",
   "execution_count": 79,
   "id": "643830d9-e274-49db-b204-c59b3d2d587c",
   "metadata": {},
   "outputs": [
    {
     "name": "stdout",
     "output_type": "stream",
     "text": [
      "False\n"
     ]
    }
   ],
   "source": [
    "print(2 > 4) # greater than"
   ]
  },
  {
   "cell_type": "code",
   "execution_count": 80,
   "id": "fade00dd-9a1e-4688-afda-a2ae5d800183",
   "metadata": {},
   "outputs": [
    {
     "name": "stdout",
     "output_type": "stream",
     "text": [
      "False\n"
     ]
    }
   ],
   "source": [
    "print(5 < 2) # less than "
   ]
  },
  {
   "cell_type": "code",
   "execution_count": 81,
   "id": "8d6aee0a-1c43-4713-8d88-d3261f622a78",
   "metadata": {},
   "outputs": [
    {
     "name": "stdout",
     "output_type": "stream",
     "text": [
      "True\n"
     ]
    }
   ],
   "source": [
    "print(2 <= 4) # less than or equal"
   ]
  },
  {
   "cell_type": "code",
   "execution_count": 82,
   "id": "2e64ede6-4eb3-431f-80d2-c391d7cc8b31",
   "metadata": {},
   "outputs": [
    {
     "name": "stdout",
     "output_type": "stream",
     "text": [
      "True\n"
     ]
    }
   ],
   "source": [
    "print(3 >= 3) # greater than or equals to"
   ]
  },
  {
   "cell_type": "markdown",
   "id": "b791ba7d-c61f-4184-bf35-0db271e31f3b",
   "metadata": {},
   "source": [
    "#### Membership Operators"
   ]
  },
  {
   "cell_type": "code",
   "execution_count": 83,
   "id": "b1faa301-68eb-4e50-b00d-05f5ace45ecd",
   "metadata": {},
   "outputs": [],
   "source": [
    "name = \"emmanuel\""
   ]
  },
  {
   "cell_type": "code",
   "execution_count": 87,
   "id": "7b73d65f-3b35-44af-b3c8-b5657e24863b",
   "metadata": {},
   "outputs": [
    {
     "name": "stdout",
     "output_type": "stream",
     "text": [
      "True\n"
     ]
    }
   ],
   "source": [
    "print(\"m\" in name) # in"
   ]
  },
  {
   "cell_type": "code",
   "execution_count": 85,
   "id": "8d6535f1-a8d9-4952-ac2e-8dca895d98d8",
   "metadata": {},
   "outputs": [
    {
     "name": "stdout",
     "output_type": "stream",
     "text": [
      "False\n"
     ]
    }
   ],
   "source": [
    "print(\"M\" in name)"
   ]
  },
  {
   "cell_type": "code",
   "execution_count": 86,
   "id": "fdce6a72-8a52-4412-aa3f-754fd73e6383",
   "metadata": {},
   "outputs": [
    {
     "name": "stdout",
     "output_type": "stream",
     "text": [
      "True\n"
     ]
    }
   ],
   "source": [
    "print(\"j\" not in name) # not in"
   ]
  },
  {
   "cell_type": "code",
   "execution_count": null,
   "id": "4e792da4-89b1-4503-95ea-81b9134f616f",
   "metadata": {},
   "outputs": [],
   "source": []
  }
 ],
 "metadata": {
  "kernelspec": {
   "display_name": "Python 3 (ipykernel)",
   "language": "python",
   "name": "python3"
  },
  "language_info": {
   "codemirror_mode": {
    "name": "ipython",
    "version": 3
   },
   "file_extension": ".py",
   "mimetype": "text/x-python",
   "name": "python",
   "nbconvert_exporter": "python",
   "pygments_lexer": "ipython3",
   "version": "3.12.1"
  }
 },
 "nbformat": 4,
 "nbformat_minor": 5
}
