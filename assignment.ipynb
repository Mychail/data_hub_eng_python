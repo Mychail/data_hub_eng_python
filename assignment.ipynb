{
 "cells": [
  {
   "cell_type": "markdown",
   "id": "57bc277c-e704-4ac3-95d3-13f45b349f18",
   "metadata": {},
   "source": [
    "## Assignment Questions"
   ]
  },
  {
   "cell_type": "code",
   "execution_count": 1,
   "id": "21bfca10-553d-467c-92af-3cc723652f6c",
   "metadata": {},
   "outputs": [],
   "source": [
    "# 1. Create a Jupyter file called (assignment.ipynb)\n",
    "# 2. Round 10.67246 to 3 decimal places \n",
    "my_num = 10.67246"
   ]
  },
  {
   "cell_type": "code",
   "execution_count": 2,
   "id": "ce180ca2-2e78-4d28-b1c9-ca2ef0ad8caa",
   "metadata": {},
   "outputs": [],
   "source": [
    "rounded_num = round(my_num, 3)\n"
   ]
  },
  {
   "cell_type": "code",
   "execution_count": 3,
   "id": "6d9d7da2-38e2-4a80-874d-bbe891995c52",
   "metadata": {},
   "outputs": [
    {
     "name": "stdout",
     "output_type": "stream",
     "text": [
      "10.672\n"
     ]
    }
   ],
   "source": [
    "print(rounded_num)"
   ]
  },
  {
   "cell_type": "code",
   "execution_count": 4,
   "id": "db0c73a7-6b33-422a-a28b-4ac579dd631c",
   "metadata": {},
   "outputs": [],
   "source": [
    "# 3. Convert string \"4.6\" to an integer\n",
    "my_string = \"4.6\""
   ]
  },
  {
   "cell_type": "code",
   "execution_count": 5,
   "id": "90b96f75-0f07-4ac1-a75b-460957eb1cc4",
   "metadata": {},
   "outputs": [
    {
     "name": "stdout",
     "output_type": "stream",
     "text": [
      "<class 'str'>\n"
     ]
    }
   ],
   "source": [
    "print(type(my_string))"
   ]
  },
  {
   "cell_type": "code",
   "execution_count": 6,
   "id": "6e7f54f0-6961-4781-a401-011d637d4cbe",
   "metadata": {},
   "outputs": [],
   "source": [
    "cleaned_num = int(float(my_string))\n"
   ]
  },
  {
   "cell_type": "code",
   "execution_count": 7,
   "id": "71665893-5906-410f-97d3-7bdff9da951c",
   "metadata": {},
   "outputs": [
    {
     "name": "stdout",
     "output_type": "stream",
     "text": [
      "<class 'int'>\n"
     ]
    }
   ],
   "source": [
    "print(type(cleaned_num))"
   ]
  },
  {
   "cell_type": "code",
   "execution_count": null,
   "id": "75cadc79-de75-4c23-ac20-79a80c11f6c7",
   "metadata": {},
   "outputs": [],
   "source": []
  }
 ],
 "metadata": {
  "kernelspec": {
   "display_name": "Python 3 (ipykernel)",
   "language": "python",
   "name": "python3"
  },
  "language_info": {
   "codemirror_mode": {
    "name": "ipython",
    "version": 3
   },
   "file_extension": ".py",
   "mimetype": "text/x-python",
   "name": "python",
   "nbconvert_exporter": "python",
   "pygments_lexer": "ipython3",
   "version": "3.12.1"
  }
 },
 "nbformat": 4,
 "nbformat_minor": 5
}
