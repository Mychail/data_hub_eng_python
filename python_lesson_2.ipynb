{
 "cells": [
  {
   "cell_type": "markdown",
   "id": "93e536f2-4877-477e-a520-f94b92500b94",
   "metadata": {},
   "source": [
    "### PYTHON DATA STRUCTURES\n",
    "\n",
    "There are 4 distinct types of data structures in python :\n",
    "* List\n",
    "* Dictionary\n",
    "* Tuple\n",
    "* Set"
   ]
  },
  {
   "cell_type": "markdown",
   "id": "e6d0cdf9-9d20-4622-8b83-5761306c1e56",
   "metadata": {},
   "source": [
    "#### List"
   ]
  },
  {
   "cell_type": "code",
   "execution_count": 1,
   "id": "0686bef7-7e06-4c15-9311-d9647da145f9",
   "metadata": {},
   "outputs": [],
   "source": [
    "# An example of a list containing student names\n",
    "students = [\"chukwujekwu\", \"amanda\", \"elizabeth\", \"taylor\", \"jack\"]"
   ]
  },
  {
   "cell_type": "code",
   "execution_count": 2,
   "id": "f55fcdeb-52df-4fc5-a4a4-538203ec8d65",
   "metadata": {},
   "outputs": [
    {
     "name": "stdout",
     "output_type": "stream",
     "text": [
      "['chukwujekwu', 'amanda', 'elizabeth', 'taylor', 'jack']\n"
     ]
    }
   ],
   "source": [
    "print(students)"
   ]
  },
  {
   "cell_type": "code",
   "execution_count": 3,
   "id": "adec3257-2a11-4cfb-9daa-db7d2c97b2ca",
   "metadata": {},
   "outputs": [
    {
     "name": "stdout",
     "output_type": "stream",
     "text": [
      "<class 'list'>\n"
     ]
    }
   ],
   "source": [
    "print(type(students))"
   ]
  },
  {
   "cell_type": "code",
   "execution_count": 4,
   "id": "a435902d-eeac-45ac-a604-c167da67294c",
   "metadata": {},
   "outputs": [],
   "source": [
    "age = [26, 19, 50, 60, 35]"
   ]
  },
  {
   "cell_type": "code",
   "execution_count": 5,
   "id": "20e5694c-60b4-45f3-b561-9e49e2d703e2",
   "metadata": {},
   "outputs": [
    {
     "name": "stdout",
     "output_type": "stream",
     "text": [
      "[26, 19, 50, 60, 35]\n"
     ]
    }
   ],
   "source": [
    "print(age)"
   ]
  },
  {
   "cell_type": "code",
   "execution_count": 6,
   "id": "229d3e6a-873a-4546-bcdb-d5e445d24d56",
   "metadata": {},
   "outputs": [
    {
     "name": "stdout",
     "output_type": "stream",
     "text": [
      "<class 'list'>\n"
     ]
    }
   ],
   "source": [
    "print(type(age))"
   ]
  },
  {
   "cell_type": "code",
   "execution_count": 7,
   "id": "2d207129-71fa-4af1-abde-c03d9c06bf20",
   "metadata": {},
   "outputs": [],
   "source": [
    "rand_info = [\"rand\", \"19\", \"brown\", \"5.11\"]"
   ]
  },
  {
   "cell_type": "code",
   "execution_count": 8,
   "id": "33ac2c24-4e1a-41b0-b6e0-3eb5872cebfb",
   "metadata": {},
   "outputs": [
    {
     "name": "stdout",
     "output_type": "stream",
     "text": [
      "<class 'list'>\n"
     ]
    }
   ],
   "source": [
    "print(type(rand_info))"
   ]
  },
  {
   "cell_type": "markdown",
   "id": "5889c8cf-b390-4857-b151-e2365110c5ed",
   "metadata": {},
   "source": [
    "#### Indexing/Positioning"
   ]
  },
  {
   "cell_type": "raw",
   "id": "385cc868-5f39-4656-9964-de0820425f24",
   "metadata": {},
   "source": [
    "E M M A N U E L\n",
    "\n",
    "1 2 3 4 5 6 7 8         # Human numbering\n",
    "\n",
    "0 1 2 3 4 5 6 7         # python numbering"
   ]
  },
  {
   "cell_type": "code",
   "execution_count": 9,
   "id": "9d1fc69e-6d4b-4461-8e66-e69d3468ca43",
   "metadata": {},
   "outputs": [],
   "source": [
    "# Items in a list is called an element\n",
    "cars = [\"toyota\", \"porche\", \"tata\", \"volvo\", \"nord\"]"
   ]
  },
  {
   "cell_type": "code",
   "execution_count": 10,
   "id": "3f4ba652-f647-41f6-914c-0b48faf9223d",
   "metadata": {},
   "outputs": [
    {
     "name": "stdout",
     "output_type": "stream",
     "text": [
      "volvo\n"
     ]
    }
   ],
   "source": [
    "# retrieving the 4th element in the list\n",
    "print(cars[3])"
   ]
  },
  {
   "cell_type": "code",
   "execution_count": 11,
   "id": "eec81393-4a18-44b7-84f9-6d05457a8fb4",
   "metadata": {},
   "outputs": [
    {
     "name": "stdout",
     "output_type": "stream",
     "text": [
      "tata\n"
     ]
    }
   ],
   "source": [
    "# retrieving tata from the list\n",
    "print(cars[2])"
   ]
  },
  {
   "cell_type": "code",
   "execution_count": 12,
   "id": "3210bdbe-0586-4b72-bb64-64847929fc70",
   "metadata": {},
   "outputs": [
    {
     "name": "stdout",
     "output_type": "stream",
     "text": [
      "nord\n"
     ]
    }
   ],
   "source": [
    "# retrieving nord car from the list\n",
    "print(cars[-1]) # negative indexing is valid in python"
   ]
  },
  {
   "cell_type": "code",
   "execution_count": 13,
   "id": "78626756-1763-4f33-a61b-8f8a48d308f0",
   "metadata": {},
   "outputs": [
    {
     "name": "stdout",
     "output_type": "stream",
     "text": [
      "5\n"
     ]
    }
   ],
   "source": [
    "# counting the number of elements in a list\n",
    "print(len(cars))"
   ]
  },
  {
   "cell_type": "code",
   "execution_count": 14,
   "id": "8c27896e-e5b6-479b-8bf8-83345f34ceb2",
   "metadata": {},
   "outputs": [
    {
     "name": "stdout",
     "output_type": "stream",
     "text": [
      "Help on built-in function len in module builtins:\n",
      "\n",
      "len(obj, /)\n",
      "    Return the number of items in a container.\n",
      "\n"
     ]
    }
   ],
   "source": [
    "help(len)"
   ]
  },
  {
   "cell_type": "code",
   "execution_count": 15,
   "id": "f411da19-af9d-4b27-a371-b62d99c0754d",
   "metadata": {},
   "outputs": [
    {
     "name": "stdout",
     "output_type": "stream",
     "text": [
      "11\n"
     ]
    }
   ],
   "source": [
    "# len works on strings \n",
    "print(len(\"chukwujekwu\"))"
   ]
  },
  {
   "cell_type": "markdown",
   "id": "689ee015-ac20-4177-b3ec-a85d0c7f5424",
   "metadata": {},
   "source": [
    "**Slicing in lists**"
   ]
  },
  {
   "cell_type": "code",
   "execution_count": 16,
   "id": "0f5f0251-36af-4f3c-a4db-ffd173dd996d",
   "metadata": {},
   "outputs": [],
   "source": [
    "random_list = [1, 2, 5, 10, 2]"
   ]
  },
  {
   "cell_type": "code",
   "execution_count": 17,
   "id": "4f24bc20-e267-4026-8af7-c7f047b9642b",
   "metadata": {},
   "outputs": [
    {
     "name": "stdout",
     "output_type": "stream",
     "text": [
      "5\n"
     ]
    }
   ],
   "source": [
    "print(random_list[2])"
   ]
  },
  {
   "cell_type": "code",
   "execution_count": 18,
   "id": "e3a7f586-cf00-42b8-9810-af1eb71615ef",
   "metadata": {},
   "outputs": [
    {
     "name": "stdout",
     "output_type": "stream",
     "text": [
      "[1, 2, 5]\n"
     ]
    }
   ],
   "source": [
    "# fetching the first 3 numbers in the list using index slicing\n",
    "print(random_list[:3])"
   ]
  },
  {
   "cell_type": "markdown",
   "id": "a355cc1c-fe9e-4362-bb4c-8c483fe9de49",
   "metadata": {},
   "source": [
    "note : that Lists are mutable , can contain duplicates, and can have a variety of datatypes in a list"
   ]
  },
  {
   "cell_type": "code",
   "execution_count": 19,
   "id": "96484e9e-3414-40ba-9b21-fcc1b982111e",
   "metadata": {},
   "outputs": [
    {
     "name": "stdout",
     "output_type": "stream",
     "text": [
      "[1, 2, 5, 10, 2]\n"
     ]
    }
   ],
   "source": [
    "# to retrieve from start to end via index slicing\n",
    "print(random_list[:])"
   ]
  },
  {
   "cell_type": "code",
   "execution_count": 20,
   "id": "55c1511b-7529-430e-bad9-eec87c8e70cc",
   "metadata": {},
   "outputs": [
    {
     "name": "stdout",
     "output_type": "stream",
     "text": [
      "[2, 5, 10, 2]\n"
     ]
    }
   ],
   "source": [
    "# to retrieve from the second element to the end\n",
    "print(random_list[1:])"
   ]
  },
  {
   "cell_type": "code",
   "execution_count": 21,
   "id": "cf7b5755-6544-4cb2-a5d1-d167a49d858c",
   "metadata": {},
   "outputs": [],
   "source": [
    "name  = \"Chinyere is a lady boss\""
   ]
  },
  {
   "cell_type": "code",
   "execution_count": 22,
   "id": "f98e28bb-d969-44dc-98e9-bdc36d3fe16c",
   "metadata": {},
   "outputs": [
    {
     "name": "stdout",
     "output_type": "stream",
     "text": [
      "23\n"
     ]
    }
   ],
   "source": [
    "# checking the number of characters in the string\n",
    "print(len(name))"
   ]
  },
  {
   "cell_type": "code",
   "execution_count": 23,
   "id": "02319789-2287-4b93-8c9a-ff3cf0ce6717",
   "metadata": {},
   "outputs": [
    {
     "name": "stdout",
     "output_type": "stream",
     "text": [
      "Chinyere\n"
     ]
    }
   ],
   "source": [
    "# fetching chinyere from the string name\n",
    "print(name[:8])"
   ]
  },
  {
   "cell_type": "markdown",
   "id": "3da1daf8-7a52-4ecc-a57a-46d610d54970",
   "metadata": {},
   "source": [
    "### Element Changing"
   ]
  },
  {
   "cell_type": "code",
   "execution_count": 24,
   "id": "65bb4a02-be4a-4d3d-989b-620768d8b5f1",
   "metadata": {},
   "outputs": [],
   "source": [
    "num = [1, 4, 2]"
   ]
  },
  {
   "cell_type": "code",
   "execution_count": 25,
   "id": "2eeda21f-10a4-4e56-b471-06789385a074",
   "metadata": {},
   "outputs": [
    {
     "name": "stdout",
     "output_type": "stream",
     "text": [
      "2\n"
     ]
    }
   ],
   "source": [
    "# check for the index of the number 2\n",
    "print(num.index(2))"
   ]
  },
  {
   "cell_type": "code",
   "execution_count": 26,
   "id": "c73c9959-41ca-4570-9aaf-dc80ddc3f23f",
   "metadata": {},
   "outputs": [],
   "source": [
    "num[2] = 10"
   ]
  },
  {
   "cell_type": "code",
   "execution_count": 27,
   "id": "faa991e9-a7bb-4cad-ae73-e1ebead64d6a",
   "metadata": {},
   "outputs": [
    {
     "name": "stdout",
     "output_type": "stream",
     "text": [
      "[1, 4, 10]\n"
     ]
    }
   ],
   "source": [
    "print(num)"
   ]
  },
  {
   "cell_type": "markdown",
   "id": "f583edcc-890c-48b4-bfbe-c13bfc138192",
   "metadata": {},
   "source": [
    "***Adding Elements in Lists***"
   ]
  },
  {
   "cell_type": "code",
   "execution_count": 28,
   "id": "cae00ea7-6e02-431d-b5f9-8e1e1c38443d",
   "metadata": {},
   "outputs": [],
   "source": [
    "fruits = [\"pineapple\", \"apple\", \"banana\"]"
   ]
  },
  {
   "cell_type": "code",
   "execution_count": 29,
   "id": "20844df0-3caa-40ec-86ae-dec3e5d7c5a2",
   "metadata": {},
   "outputs": [],
   "source": [
    "# add a new fruit cherry into the list fruits using the append method \n",
    "fruits.append(\"cherry\")"
   ]
  },
  {
   "cell_type": "code",
   "execution_count": 30,
   "id": "9f96f978-c084-4655-b252-948321005eea",
   "metadata": {},
   "outputs": [
    {
     "name": "stdout",
     "output_type": "stream",
     "text": [
      "['pineapple', 'apple', 'banana', 'cherry']\n"
     ]
    }
   ],
   "source": [
    "print(fruits)"
   ]
  },
  {
   "cell_type": "code",
   "execution_count": 31,
   "id": "e5171e9a-f1d0-491b-b246-7f31cf12338c",
   "metadata": {},
   "outputs": [
    {
     "ename": "TypeError",
     "evalue": "list.append() takes exactly one argument (2 given)",
     "output_type": "error",
     "traceback": [
      "\u001b[1;31m---------------------------------------------------------------------------\u001b[0m",
      "\u001b[1;31mTypeError\u001b[0m                                 Traceback (most recent call last)",
      "Cell \u001b[1;32mIn[31], line 3\u001b[0m\n\u001b[0;32m      1\u001b[0m \u001b[38;5;66;03m# The append method accepts only one argument\u001b[39;00m\n\u001b[0;32m      2\u001b[0m cars \u001b[38;5;241m=\u001b[39m [\u001b[38;5;124m\"\u001b[39m\u001b[38;5;124mbenz\u001b[39m\u001b[38;5;124m\"\u001b[39m, \u001b[38;5;124m\"\u001b[39m\u001b[38;5;124mnord\u001b[39m\u001b[38;5;124m\"\u001b[39m, \u001b[38;5;124m\"\u001b[39m\u001b[38;5;124mlandrover\u001b[39m\u001b[38;5;124m\"\u001b[39m]\n\u001b[1;32m----> 3\u001b[0m \u001b[43mcars\u001b[49m\u001b[38;5;241;43m.\u001b[39;49m\u001b[43mappend\u001b[49m\u001b[43m(\u001b[49m\u001b[38;5;124;43m\"\u001b[39;49m\u001b[38;5;124;43mvolvo\u001b[39;49m\u001b[38;5;124;43m\"\u001b[39;49m\u001b[43m,\u001b[49m\u001b[43m \u001b[49m\u001b[38;5;124;43m\"\u001b[39;49m\u001b[38;5;124;43mporche\u001b[39;49m\u001b[38;5;124;43m\"\u001b[39;49m\u001b[43m)\u001b[49m\n",
      "\u001b[1;31mTypeError\u001b[0m: list.append() takes exactly one argument (2 given)"
     ]
    }
   ],
   "source": [
    "# The append method accepts only one argument\n",
    "cars = [\"benz\", \"nord\", \"landrover\"]\n",
    "cars.append(\"volvo\", \"porche\")"
   ]
  },
  {
   "cell_type": "code",
   "execution_count": 36,
   "id": "e92e2a04-858e-40e1-b360-6b98b32f66dd",
   "metadata": {},
   "outputs": [],
   "source": [
    "# removing elements in a list using the remove method\n",
    "cars.remove(\"nord\")"
   ]
  },
  {
   "cell_type": "code",
   "execution_count": 37,
   "id": "029ce27c-2647-43eb-8331-19d1fca3dec7",
   "metadata": {},
   "outputs": [
    {
     "name": "stdout",
     "output_type": "stream",
     "text": [
      "['benz', 'landrover']\n"
     ]
    }
   ],
   "source": [
    "# the nord element has been removed successfully\n",
    "print(cars)"
   ]
  },
  {
   "cell_type": "code",
   "execution_count": 38,
   "id": "3525b560-755c-44ba-9357-9f351ad752bf",
   "metadata": {},
   "outputs": [
    {
     "ename": "ValueError",
     "evalue": "list.remove(x): x not in list",
     "output_type": "error",
     "traceback": [
      "\u001b[1;31m---------------------------------------------------------------------------\u001b[0m",
      "\u001b[1;31mValueError\u001b[0m                                Traceback (most recent call last)",
      "Cell \u001b[1;32mIn[38], line 2\u001b[0m\n\u001b[0;32m      1\u001b[0m \u001b[38;5;66;03m# removing and element not in the list generates a value error\u001b[39;00m\n\u001b[1;32m----> 2\u001b[0m \u001b[43mcars\u001b[49m\u001b[38;5;241;43m.\u001b[39;49m\u001b[43mremove\u001b[49m\u001b[43m(\u001b[49m\u001b[38;5;124;43m\"\u001b[39;49m\u001b[38;5;124;43mporche\u001b[39;49m\u001b[38;5;124;43m\"\u001b[39;49m\u001b[43m)\u001b[49m\n",
      "\u001b[1;31mValueError\u001b[0m: list.remove(x): x not in list"
     ]
    }
   ],
   "source": [
    "# removing and element not in the list generates a value error\n",
    "cars.remove(\"porche\")"
   ]
  },
  {
   "cell_type": "markdown",
   "id": "44b5d82d-d6b8-4369-86e8-6faf95a80bb6",
   "metadata": {},
   "source": [
    "***Sorting Elements in Lists***"
   ]
  },
  {
   "cell_type": "code",
   "execution_count": 39,
   "id": "04fddbbe-427e-474a-85ca-f8b0af7675da",
   "metadata": {},
   "outputs": [],
   "source": [
    "alphabets = [\"e\", \"b\", \"a\", \"c\", \"d\"]"
   ]
  },
  {
   "cell_type": "code",
   "execution_count": 40,
   "id": "d00b0516-0c09-4d75-b1cc-9942ba6664ae",
   "metadata": {},
   "outputs": [],
   "source": [
    "# sorting the list using the sort method where it sorts ascending by default\n",
    "alphabets.sort()"
   ]
  },
  {
   "cell_type": "code",
   "execution_count": 41,
   "id": "4aeed3af-149d-4008-b80e-944ad1a69829",
   "metadata": {},
   "outputs": [
    {
     "name": "stdout",
     "output_type": "stream",
     "text": [
      "['a', 'b', 'c', 'd', 'e']\n"
     ]
    }
   ],
   "source": [
    "print(alphabets)"
   ]
  },
  {
   "cell_type": "code",
   "execution_count": 42,
   "id": "2bde1fef-01c2-450f-886a-7a5a0d043b53",
   "metadata": {},
   "outputs": [],
   "source": [
    "numbers = [1, 5, 2, 10, 4, 6]"
   ]
  },
  {
   "cell_type": "code",
   "execution_count": 43,
   "id": "077a59a6-417c-4d3a-91e7-c5396f19d3cc",
   "metadata": {},
   "outputs": [],
   "source": [
    "# sort the list in descending order\n",
    "numbers.sort(reverse = True)"
   ]
  },
  {
   "cell_type": "code",
   "execution_count": 44,
   "id": "88a64fa3-c551-45b9-8313-639fc3a6eef0",
   "metadata": {},
   "outputs": [
    {
     "name": "stdout",
     "output_type": "stream",
     "text": [
      "[10, 6, 5, 4, 2, 1]\n"
     ]
    }
   ],
   "source": [
    "print(numbers)"
   ]
  },
  {
   "cell_type": "code",
   "execution_count": 45,
   "id": "210bc2b2-5c7c-466c-9aa2-b10d7c06d8a3",
   "metadata": {},
   "outputs": [],
   "source": [
    "# sort in ascending order\n",
    "numbers.sort()"
   ]
  },
  {
   "cell_type": "code",
   "execution_count": 46,
   "id": "60d70a44-14d0-4d9d-8280-7eacf2d01cfe",
   "metadata": {},
   "outputs": [
    {
     "name": "stdout",
     "output_type": "stream",
     "text": [
      "[1, 2, 4, 5, 6, 10]\n"
     ]
    }
   ],
   "source": [
    "print(numbers)"
   ]
  },
  {
   "cell_type": "code",
   "execution_count": 47,
   "id": "38b9f1c0-3f68-4624-b8e5-d2f55c679270",
   "metadata": {},
   "outputs": [],
   "source": [
    "dates = [\"2023-12-04\", \"2023-12-01\", \"2023-12-03\", \"2023-12-02\", \"2023-12-10\"]"
   ]
  },
  {
   "cell_type": "code",
   "execution_count": 48,
   "id": "7c171276-a8cd-466a-a8f3-9461301db34e",
   "metadata": {},
   "outputs": [],
   "source": [
    "dates.sort(reverse=True)"
   ]
  },
  {
   "cell_type": "code",
   "execution_count": 49,
   "id": "986c2c80-acc8-41f3-89cf-59ea120e522b",
   "metadata": {},
   "outputs": [
    {
     "name": "stdout",
     "output_type": "stream",
     "text": [
      "['2023-12-10', '2023-12-04', '2023-12-03', '2023-12-02', '2023-12-01']\n"
     ]
    }
   ],
   "source": [
    "print(dates)"
   ]
  },
  {
   "cell_type": "markdown",
   "id": "4c2ed5e3-dff1-4d04-875f-bfcdec3220dd",
   "metadata": {},
   "source": [
    "***Range Function***"
   ]
  },
  {
   "cell_type": "code",
   "execution_count": 50,
   "id": "7e3cd5e4-8d06-4cbd-9d9b-60daff54ba75",
   "metadata": {},
   "outputs": [],
   "source": [
    "long_list = range(1, 100)"
   ]
  },
  {
   "cell_type": "code",
   "execution_count": 51,
   "id": "7cca30ee-d8cc-48b0-826e-b11aa0e0986a",
   "metadata": {},
   "outputs": [
    {
     "name": "stdout",
     "output_type": "stream",
     "text": [
      "range(1, 100)\n"
     ]
    }
   ],
   "source": [
    "# it does not output correctly without passing it into the list function \n",
    "print(long_list)"
   ]
  },
  {
   "cell_type": "code",
   "execution_count": 52,
   "id": "27e648b4-e0b8-4921-a485-1f6cc35f848e",
   "metadata": {},
   "outputs": [
    {
     "name": "stdout",
     "output_type": "stream",
     "text": [
      "[1, 2, 3, 4, 5, 6, 7, 8, 9, 10, 11, 12, 13, 14, 15, 16, 17, 18, 19, 20, 21, 22, 23, 24, 25, 26, 27, 28, 29, 30, 31, 32, 33, 34, 35, 36, 37, 38, 39, 40, 41, 42, 43, 44, 45, 46, 47, 48, 49, 50, 51, 52, 53, 54, 55, 56, 57, 58, 59, 60, 61, 62, 63, 64, 65, 66, 67, 68, 69, 70, 71, 72, 73, 74, 75, 76, 77, 78, 79, 80, 81, 82, 83, 84, 85, 86, 87, 88, 89, 90, 91, 92, 93, 94, 95, 96, 97, 98, 99]\n"
     ]
    }
   ],
   "source": [
    "# Now it outputs correctly and it does not include the last digit specified\n",
    "print(list(long_list))"
   ]
  },
  {
   "cell_type": "code",
   "execution_count": 53,
   "id": "c2cf9999-405d-45e3-af77-d1fcd45eb1a0",
   "metadata": {},
   "outputs": [],
   "source": [
    "# You can generate a list by an interval\n",
    "short_list = list(range(1, 20,2))"
   ]
  },
  {
   "cell_type": "code",
   "execution_count": 54,
   "id": "40ee0a44-855a-48fa-9e17-3f36b00d9df1",
   "metadata": {},
   "outputs": [
    {
     "name": "stdout",
     "output_type": "stream",
     "text": [
      "[1, 3, 5, 7, 9, 11, 13, 15, 17, 19]\n"
     ]
    }
   ],
   "source": [
    "print(short_list)"
   ]
  },
  {
   "cell_type": "markdown",
   "id": "19998a64-395d-47ec-b113-bab28afd0e24",
   "metadata": {},
   "source": [
    "### Defining Functions"
   ]
  },
  {
   "cell_type": "code",
   "execution_count": 55,
   "id": "1e0d87d8-ba80-4570-95ef-241733383e27",
   "metadata": {},
   "outputs": [],
   "source": [
    "def cube(num) :\n",
    "    return num * num * num"
   ]
  },
  {
   "cell_type": "code",
   "execution_count": 56,
   "id": "771f482f-29a9-4ca0-a6cc-ea6675aa6f75",
   "metadata": {},
   "outputs": [
    {
     "name": "stdout",
     "output_type": "stream",
     "text": [
      "64\n"
     ]
    }
   ],
   "source": [
    "print(cube(4))"
   ]
  },
  {
   "cell_type": "code",
   "execution_count": 57,
   "id": "cc572fb5-ed95-4d4c-b1c0-34223c166dcf",
   "metadata": {},
   "outputs": [
    {
     "name": "stdout",
     "output_type": "stream",
     "text": [
      "[1, 2, 4, 6, 8, 20, 40, 60, 80]\n"
     ]
    }
   ],
   "source": [
    "# define a function that appends to list together\n",
    "list1 = [1, 2, 4, 6, 8]\n",
    "list2 = [20, 40, 60 , 80]\n",
    "\n",
    "def fixer( i, j) :\n",
    "    return i + j\n",
    "\n",
    "print(fixer(list1, list2))"
   ]
  },
  {
   "cell_type": "code",
   "execution_count": 58,
   "id": "3ef6624e-a07c-4c69-bd6c-76e6901ac77f",
   "metadata": {},
   "outputs": [
    {
     "name": "stdout",
     "output_type": "stream",
     "text": [
      "a\n",
      "n\n",
      "i\n",
      "t\n",
      "a\n",
      "b\n",
      "o\n",
      "l\n",
      "a\n",
      "j\n",
      "i\n",
      "t\n",
      "a\n",
      "i\n",
      "w\n",
      "o\n",
      "a\n",
      "n\n",
      "d\n",
      "r\n",
      "e\n",
      "a\n",
      "s\n"
     ]
    }
   ],
   "source": [
    "# nested for loops example\n",
    "students = [\"anita\", \"bolaji\", \"taiwo\", \"andreas\"]\n",
    "for name in students:\n",
    "    for i in name:\n",
    "        print(i)"
   ]
  },
  {
   "cell_type": "markdown",
   "id": "2b236f59-95cf-4d71-8981-51bea3309598",
   "metadata": {},
   "source": [
    "### Dictionary"
   ]
  },
  {
   "cell_type": "code",
   "execution_count": 59,
   "id": "08b9c576-88a9-4160-98e5-f95bcb724534",
   "metadata": {},
   "outputs": [],
   "source": [
    "# basic dictionary\n",
    "detail_dict = {\"name\" : \"sunday\", \"age\": 30, \"job\": \"data engineer\", \"is_married\": False}"
   ]
  },
  {
   "cell_type": "code",
   "execution_count": 60,
   "id": "89990784-9c30-4c86-8cce-0e9b1d71f186",
   "metadata": {},
   "outputs": [
    {
     "name": "stdout",
     "output_type": "stream",
     "text": [
      "<class 'dict'>\n"
     ]
    }
   ],
   "source": [
    "print(type(detail_dict))"
   ]
  },
  {
   "cell_type": "markdown",
   "id": "59299ced-6cab-4b5c-8219-09861e1b68ed",
   "metadata": {},
   "source": [
    "### Retrieving Dictionary Values"
   ]
  },
  {
   "cell_type": "code",
   "execution_count": 61,
   "id": "bba99ff9-55bd-4c98-b2b3-152cde223ef7",
   "metadata": {},
   "outputs": [
    {
     "name": "stdout",
     "output_type": "stream",
     "text": [
      "30\n"
     ]
    }
   ],
   "source": [
    "print(detail_dict[\"age\"])"
   ]
  },
  {
   "cell_type": "code",
   "execution_count": 62,
   "id": "d8430887-d3e2-46df-bb4a-05f64e21bea0",
   "metadata": {},
   "outputs": [
    {
     "name": "stdout",
     "output_type": "stream",
     "text": [
      "data engineer\n"
     ]
    }
   ],
   "source": [
    "print(detail_dict[\"job\"])"
   ]
  },
  {
   "cell_type": "code",
   "execution_count": 63,
   "id": "0dafa570-17b6-4e17-a8ea-a5605431efe3",
   "metadata": {},
   "outputs": [
    {
     "name": "stdout",
     "output_type": "stream",
     "text": [
      "False\n"
     ]
    }
   ],
   "source": [
    "print(detail_dict[\"is_married\"])"
   ]
  },
  {
   "cell_type": "code",
   "execution_count": 64,
   "id": "f351b6fa-2203-409e-af86-2adcd9f137d8",
   "metadata": {},
   "outputs": [
    {
     "name": "stdout",
     "output_type": "stream",
     "text": [
      "<class 'int'>\n"
     ]
    }
   ],
   "source": [
    "print(type(detail_dict[\"age\"]))"
   ]
  },
  {
   "cell_type": "code",
   "execution_count": 65,
   "id": "aab6a242-3433-4bc0-8a69-7e1d3f259a2b",
   "metadata": {},
   "outputs": [
    {
     "name": "stdout",
     "output_type": "stream",
     "text": [
      "My name is sunday, I am 30 years old,\n",
      " it is False that I am married,\n",
      " and I work as a data engineer.\n"
     ]
    }
   ],
   "source": [
    "# using value retrieval in dictionary with string formatting\n",
    "print(f\"My name is {detail_dict[\"name\"]}, I am {detail_dict[\"age\"]} years old,\\n it is {detail_dict[\"is_married\"]} that I am married,\\n and I work as a {detail_dict[\"job\"]}.\")"
   ]
  },
  {
   "cell_type": "code",
   "execution_count": 66,
   "id": "fa20c0fb-157a-4621-90a2-0d2b3667cfd9",
   "metadata": {},
   "outputs": [],
   "source": [
    "score = { \"maths\": 24, \"english\": 40}"
   ]
  },
  {
   "cell_type": "code",
   "execution_count": 67,
   "id": "2f7c665f-c5ca-4f55-94a1-e71f466d2d5e",
   "metadata": {},
   "outputs": [
    {
     "name": "stdout",
     "output_type": "stream",
     "text": [
      "24\n"
     ]
    }
   ],
   "source": [
    "print(score.get(\"maths\"))"
   ]
  },
  {
   "cell_type": "raw",
   "id": "c48eee8d-c465-405e-917d-4808fe81a28f",
   "metadata": {},
   "source": [
    "the get method for dictionary allows the retrieval of values in python withput breaking the code when the key isnt in the dictionary."
   ]
  },
  {
   "cell_type": "code",
   "execution_count": 68,
   "id": "96ff1ebe-f09a-47f8-b90e-637e0fc1d9dc",
   "metadata": {},
   "outputs": [
    {
     "ename": "KeyError",
     "evalue": "'physics'",
     "output_type": "error",
     "traceback": [
      "\u001b[1;31m---------------------------------------------------------------------------\u001b[0m",
      "\u001b[1;31mKeyError\u001b[0m                                  Traceback (most recent call last)",
      "Cell \u001b[1;32mIn[68], line 2\u001b[0m\n\u001b[0;32m      1\u001b[0m \u001b[38;5;66;03m# we try to to retrieve the value of physics in the dictionary with out previous method\u001b[39;00m\n\u001b[1;32m----> 2\u001b[0m \u001b[38;5;28mprint\u001b[39m(\u001b[43mscore\u001b[49m\u001b[43m[\u001b[49m\u001b[38;5;124;43m\"\u001b[39;49m\u001b[38;5;124;43mphysics\u001b[39;49m\u001b[38;5;124;43m\"\u001b[39;49m\u001b[43m]\u001b[49m)\n",
      "\u001b[1;31mKeyError\u001b[0m: 'physics'"
     ]
    }
   ],
   "source": [
    "# we try to to retrieve the value of physics in the dictionary with out previous method\n",
    "print(score[\"physics\"])"
   ]
  },
  {
   "cell_type": "code",
   "execution_count": 69,
   "id": "4f1ebc00-f2a4-4116-9e04-737a91f9d58b",
   "metadata": {},
   "outputs": [
    {
     "name": "stdout",
     "output_type": "stream",
     "text": [
      "None\n"
     ]
    }
   ],
   "source": [
    "# when we use the get method it returns none nad has an argument that allows the specification of what should be returned\n",
    "print(score.get(\"physics\"))"
   ]
  },
  {
   "cell_type": "code",
   "execution_count": 70,
   "id": "c1ee040e-7b21-438f-aeec-da1ae8a2bd60",
   "metadata": {},
   "outputs": [
    {
     "name": "stdout",
     "output_type": "stream",
     "text": [
      "60\n"
     ]
    }
   ],
   "source": [
    "print(score.get(\"physics\", 60))"
   ]
  },
  {
   "cell_type": "code",
   "execution_count": 71,
   "id": "2db3384c-441f-4211-90b1-4defcbfbed70",
   "metadata": {},
   "outputs": [],
   "source": [
    "students = {\"jekwu\": 22, \"chichi\": 11, \"amanda\": 35}"
   ]
  },
  {
   "cell_type": "code",
   "execution_count": 72,
   "id": "f4450f65-ef8c-483d-a70c-c5752b5ccfc1",
   "metadata": {},
   "outputs": [
    {
     "name": "stdout",
     "output_type": "stream",
     "text": [
      "11\n"
     ]
    }
   ],
   "source": [
    "print(students.get(\"chichi\"))"
   ]
  },
  {
   "cell_type": "code",
   "execution_count": 73,
   "id": "b2592297-5f25-4299-85a2-ad8382f90557",
   "metadata": {},
   "outputs": [
    {
     "name": "stdout",
     "output_type": "stream",
     "text": [
      "3\n"
     ]
    }
   ],
   "source": [
    "# counting the number of items in a dictionary\n",
    "print(len(students))"
   ]
  },
  {
   "cell_type": "code",
   "execution_count": 76,
   "id": "3bfa5833-2cfa-44d9-8776-479e30be9339",
   "metadata": {},
   "outputs": [],
   "source": [
    "#changing the value of key in a dictionary\n",
    "students[\"jekwu\"] = 50"
   ]
  },
  {
   "cell_type": "code",
   "execution_count": 77,
   "id": "1ee0fa1e-ab61-47e1-9bc5-d88e0372aa6d",
   "metadata": {},
   "outputs": [
    {
     "name": "stdout",
     "output_type": "stream",
     "text": [
      "{'jekwu': 50, 'chichi': 11, 'amanda': 35}\n"
     ]
    }
   ],
   "source": [
    "print(students)"
   ]
  },
  {
   "cell_type": "code",
   "execution_count": 80,
   "id": "27fee4e6-6e48-4ebe-87d0-d7679eb9f7a5",
   "metadata": {},
   "outputs": [
    {
     "data": {
      "text/plain": [
       "dict_keys(['jekwu', 'chichi', 'amanda'])"
      ]
     },
     "execution_count": 80,
     "metadata": {},
     "output_type": "execute_result"
    }
   ],
   "source": [
    "# list the keys in a dictionary\n",
    "students.keys()"
   ]
  },
  {
   "cell_type": "code",
   "execution_count": 82,
   "id": "b7afe3bf-0095-4412-b494-b4c1f1738438",
   "metadata": {},
   "outputs": [
    {
     "name": "stdout",
     "output_type": "stream",
     "text": [
      "dict_values([50, 11, 35])\n"
     ]
    }
   ],
   "source": [
    "# print out the values in the dictionary\n",
    "print(students.values())"
   ]
  },
  {
   "cell_type": "code",
   "execution_count": 83,
   "id": "8d22e1dc-5d40-4499-9e19-b18da9a7ab51",
   "metadata": {},
   "outputs": [],
   "source": [
    "# update a dictionaary with new values\n",
    "students.update({\"rand\": 37})"
   ]
  },
  {
   "cell_type": "code",
   "execution_count": 84,
   "id": "33e90d8f-aefc-4463-97c8-0a2985112efa",
   "metadata": {},
   "outputs": [
    {
     "name": "stdout",
     "output_type": "stream",
     "text": [
      "{'jekwu': 50, 'chichi': 11, 'amanda': 35, 'rand': 37}\n"
     ]
    }
   ],
   "source": [
    "print(students)"
   ]
  },
  {
   "cell_type": "code",
   "execution_count": 85,
   "id": "61ec6b6b-7b88-4d51-b38c-8640d42c3313",
   "metadata": {},
   "outputs": [
    {
     "data": {
      "text/plain": [
       "37"
      ]
     },
     "execution_count": 85,
     "metadata": {},
     "output_type": "execute_result"
    }
   ],
   "source": [
    "# remove data from a dictionary by passing the key into the pop method\n",
    "students.pop(\"rand\")"
   ]
  },
  {
   "cell_type": "code",
   "execution_count": 86,
   "id": "4dc7c756-2b1b-4eec-86ff-bb5825ab5cc6",
   "metadata": {},
   "outputs": [
    {
     "name": "stdout",
     "output_type": "stream",
     "text": [
      "{'jekwu': 50, 'chichi': 11, 'amanda': 35}\n"
     ]
    }
   ],
   "source": [
    "print(students)"
   ]
  },
  {
   "cell_type": "markdown",
   "id": "240b173d-f99a-41ee-8a84-a1399612ba7e",
   "metadata": {},
   "source": [
    "## TUPLES"
   ]
  },
  {
   "cell_type": "code",
   "execution_count": 87,
   "id": "d2ca163f-d8da-493c-ad3f-42b75d1e929b",
   "metadata": {},
   "outputs": [],
   "source": [
    "my_tuple = (\"rand\", \"uju\", \"sanusi\", \"sheriff\", \"chika\")"
   ]
  },
  {
   "cell_type": "code",
   "execution_count": 88,
   "id": "5357b13c-e76f-4125-a250-9ca0d63cf708",
   "metadata": {},
   "outputs": [
    {
     "name": "stdout",
     "output_type": "stream",
     "text": [
      "<class 'tuple'>\n"
     ]
    }
   ],
   "source": [
    "print(type(my_tuple))"
   ]
  },
  {
   "cell_type": "code",
   "execution_count": 92,
   "id": "95c084f9-6a09-4c29-88c4-c283a509f9b5",
   "metadata": {},
   "outputs": [
    {
     "name": "stdout",
     "output_type": "stream",
     "text": [
      "1\n"
     ]
    }
   ],
   "source": [
    "# get the index of a value in a tuple\n",
    "print(my_tuple.index(\"uju\"))"
   ]
  },
  {
   "cell_type": "code",
   "execution_count": 94,
   "id": "c8b1c296-c08e-48a6-acf2-a69985f4aed2",
   "metadata": {},
   "outputs": [
    {
     "name": "stdout",
     "output_type": "stream",
     "text": [
      "5\n"
     ]
    }
   ],
   "source": [
    "print(len(my_tuple))"
   ]
  },
  {
   "cell_type": "code",
   "execution_count": 96,
   "id": "59166f27-f18d-43a4-98a8-f3ff8d3e8721",
   "metadata": {},
   "outputs": [],
   "source": [
    "# in order to make changes to a tuple, it is imperative to convert to list first\n",
    "converted_tuple = list(my_tuple)"
   ]
  },
  {
   "cell_type": "code",
   "execution_count": 97,
   "id": "99dcdab6-20df-4eb2-bd41-594de34d6f23",
   "metadata": {},
   "outputs": [
    {
     "name": "stdout",
     "output_type": "stream",
     "text": [
      "['rand', 'uju', 'sanusi', 'sheriff', 'chika']\n"
     ]
    }
   ],
   "source": [
    "print(converted_tuple)"
   ]
  },
  {
   "cell_type": "code",
   "execution_count": 98,
   "id": "f90b21a9-c32d-4ee4-a316-fe9a2464c278",
   "metadata": {},
   "outputs": [],
   "source": [
    "converted_tuple[3] = \"uche\""
   ]
  },
  {
   "cell_type": "code",
   "execution_count": 99,
   "id": "9e75e08f-f929-4d26-9b80-f7c17dda8b0b",
   "metadata": {},
   "outputs": [
    {
     "name": "stdout",
     "output_type": "stream",
     "text": [
      "['rand', 'uju', 'sanusi', 'uche', 'chika']\n"
     ]
    }
   ],
   "source": [
    "print(converted_tuple)"
   ]
  },
  {
   "cell_type": "code",
   "execution_count": 100,
   "id": "4e4e2d03-de70-4759-b506-fdf0e836cfa9",
   "metadata": {},
   "outputs": [],
   "source": [
    "new_tuple = tuple(converted_tuple)"
   ]
  },
  {
   "cell_type": "code",
   "execution_count": 101,
   "id": "b42bbc40-fec9-47e7-a809-80916105d8eb",
   "metadata": {},
   "outputs": [
    {
     "name": "stdout",
     "output_type": "stream",
     "text": [
      "<class 'tuple'>\n"
     ]
    }
   ],
   "source": [
    "print(type(new_tuple))"
   ]
  },
  {
   "cell_type": "code",
   "execution_count": 102,
   "id": "db5d15e0-2372-4bf6-a669-d12ea3388a8e",
   "metadata": {},
   "outputs": [
    {
     "name": "stdout",
     "output_type": "stream",
     "text": [
      "('rand', 'uju', 'sanusi', 'uche', 'chika')\n"
     ]
    }
   ],
   "source": [
    "print(new_tuple)"
   ]
  },
  {
   "cell_type": "markdown",
   "id": "c1f7e8a0-0346-45cd-8e65-ea6abcf605af",
   "metadata": {},
   "source": [
    "## Tuple Unpacking"
   ]
  },
  {
   "cell_type": "code",
   "execution_count": 103,
   "id": "e3a9dd17-403c-48a0-ac4d-4e0c7c4f5deb",
   "metadata": {},
   "outputs": [],
   "source": [
    "names = (\"uju\", \"sharon\", \"julz\", \"rand\", \"temitayo\")"
   ]
  },
  {
   "cell_type": "code",
   "execution_count": 104,
   "id": "f383fbae-0b51-428e-a289-984113a39e16",
   "metadata": {},
   "outputs": [],
   "source": [
    "(student1, student2, student3, student4, student5) = names"
   ]
  },
  {
   "cell_type": "code",
   "execution_count": 105,
   "id": "ef699942-f2ba-4cad-9b33-a2749771c1b9",
   "metadata": {},
   "outputs": [
    {
     "name": "stdout",
     "output_type": "stream",
     "text": [
      "rand\n"
     ]
    }
   ],
   "source": [
    "print(student4)"
   ]
  },
  {
   "cell_type": "markdown",
   "id": "2a5c56fb-384e-4f15-ad75-c29db8ca09b9",
   "metadata": {},
   "source": [
    "## SETS"
   ]
  },
  {
   "cell_type": "code",
   "execution_count": 106,
   "id": "980d5016-0122-433a-9b45-2d429c979c7f",
   "metadata": {},
   "outputs": [],
   "source": [
    "numbers = {2, 4, 5, 6, 7, 8}"
   ]
  },
  {
   "cell_type": "code",
   "execution_count": 113,
   "id": "0fa425f6-cde6-4698-b384-a33c766e65a3",
   "metadata": {},
   "outputs": [],
   "source": [
    "# sets only return unique values in the set\n",
    "test = {2, 3, 4, 4, 5, 7}"
   ]
  },
  {
   "cell_type": "code",
   "execution_count": 108,
   "id": "6867dcba-8eea-45f2-bbff-8a5c09bac55c",
   "metadata": {},
   "outputs": [
    {
     "name": "stdout",
     "output_type": "stream",
     "text": [
      "{2, 3, 4, 5, 7}\n"
     ]
    }
   ],
   "source": [
    "print(test)"
   ]
  },
  {
   "cell_type": "raw",
   "id": "bdaebdb8-fc07-46c9-b9b3-baecf1d70154",
   "metadata": {},
   "source": [
    "Irrespective of the number of duplicates, sets will only return unique values"
   ]
  },
  {
   "cell_type": "code",
   "execution_count": 110,
   "id": "bb4deb9b-8874-4dd0-ae2d-237e6c3c927c",
   "metadata": {},
   "outputs": [],
   "source": [
    "num = {30, 50, 24, 2, 3, 30}"
   ]
  },
  {
   "cell_type": "code",
   "execution_count": 112,
   "id": "89f5d46f-28b8-4c7b-9d69-57d6d5d76b92",
   "metadata": {},
   "outputs": [
    {
     "name": "stdout",
     "output_type": "stream",
     "text": [
      "<class 'set'>\n"
     ]
    }
   ],
   "source": [
    "print(type(num))"
   ]
  },
  {
   "cell_type": "code",
   "execution_count": 114,
   "id": "dec8a873-7e61-4e76-a0af-14f9a58e9a09",
   "metadata": {},
   "outputs": [],
   "source": [
    "# it can be used to remove duplicates from a given list\n",
    "lst = [\"jekwu\", \"chichi\", \"rand\", \"dennis\", \"rand\"]"
   ]
  },
  {
   "cell_type": "code",
   "execution_count": 115,
   "id": "b855df33-bca5-449c-aa78-1a178cb6f790",
   "metadata": {},
   "outputs": [
    {
     "data": {
      "text/plain": [
       "{'chichi', 'dennis', 'jekwu', 'rand'}"
      ]
     },
     "execution_count": 115,
     "metadata": {},
     "output_type": "execute_result"
    }
   ],
   "source": [
    "set(lst)"
   ]
  },
  {
   "cell_type": "code",
   "execution_count": 116,
   "id": "04e69a4a-3a2c-4950-a69a-49fd3cf04156",
   "metadata": {},
   "outputs": [],
   "source": [
    "de_duplicated = list(set(lst))"
   ]
  },
  {
   "cell_type": "code",
   "execution_count": 117,
   "id": "708b1270-dee7-4641-be37-b76794d900eb",
   "metadata": {},
   "outputs": [
    {
     "name": "stdout",
     "output_type": "stream",
     "text": [
      "['chichi', 'rand', 'jekwu', 'dennis']\n"
     ]
    }
   ],
   "source": [
    "print(de_duplicated)"
   ]
  },
  {
   "cell_type": "code",
   "execution_count": null,
   "id": "c9a04d26-4513-4c92-a084-1fcc7cb4f382",
   "metadata": {},
   "outputs": [],
   "source": []
  }
 ],
 "metadata": {
  "kernelspec": {
   "display_name": "Python 3 (ipykernel)",
   "language": "python",
   "name": "python3"
  },
  "language_info": {
   "codemirror_mode": {
    "name": "ipython",
    "version": 3
   },
   "file_extension": ".py",
   "mimetype": "text/x-python",
   "name": "python",
   "nbconvert_exporter": "python",
   "pygments_lexer": "ipython3",
   "version": "3.12.1"
  }
 },
 "nbformat": 4,
 "nbformat_minor": 5
}
