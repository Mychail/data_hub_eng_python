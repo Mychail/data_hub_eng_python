{
 "cells": [
  {
   "cell_type": "markdown",
   "id": "dd0c9e9b-99e9-4dce-8e7b-115ea38809a6",
   "metadata": {},
   "source": [
    "### CONTROL FLOW"
   ]
  },
  {
   "cell_type": "markdown",
   "id": "53355ff7-efb4-4f68-a8b3-d42b24513441",
   "metadata": {},
   "source": [
    "Conditional Statements"
   ]
  },
  {
   "cell_type": "code",
   "execution_count": 4,
   "id": "e8894f79-e27d-4ebd-ba92-c495ff73e74a",
   "metadata": {},
   "outputs": [
    {
     "name": "stdout",
     "output_type": "stream",
     "text": [
      "True\n"
     ]
    }
   ],
   "source": [
    "print(\"a\" == \"a\") # equality sign"
   ]
  },
  {
   "cell_type": "code",
   "execution_count": 5,
   "id": "9600a203-5e7d-416d-87fa-bc1aee1cb090",
   "metadata": {},
   "outputs": [
    {
     "name": "stdout",
     "output_type": "stream",
     "text": [
      "True\n"
     ]
    }
   ],
   "source": [
    "print(5 != 3) # not equal"
   ]
  },
  {
   "cell_type": "code",
   "execution_count": 3,
   "id": "872693bb-8003-4795-bb33-763dcb6b4d80",
   "metadata": {},
   "outputs": [
    {
     "name": "stdout",
     "output_type": "stream",
     "text": [
      "False\n"
     ]
    }
   ],
   "source": [
    "print(4 > 8) # greater than"
   ]
  },
  {
   "cell_type": "code",
   "execution_count": 6,
   "id": "a3665627-ab2b-4763-aeb0-f61d642212fa",
   "metadata": {},
   "outputs": [
    {
     "name": "stdout",
     "output_type": "stream",
     "text": [
      "True\n"
     ]
    }
   ],
   "source": [
    "print(20 <= 20) # less or equal to"
   ]
  },
  {
   "cell_type": "code",
   "execution_count": 7,
   "id": "4157f9ee-6dca-44bd-a95a-7eef62101a98",
   "metadata": {},
   "outputs": [
    {
     "name": "stdout",
     "output_type": "stream",
     "text": [
      "False\n"
     ]
    }
   ],
   "source": [
    "print(25 >= 100) # greater or equal to"
   ]
  },
  {
   "cell_type": "markdown",
   "id": "c4719eef-c6ab-45f9-bd51-94368f5ab9f5",
   "metadata": {},
   "source": [
    "Logical Operators\n",
    "* and\n",
    "* or"
   ]
  },
  {
   "cell_type": "code",
   "execution_count": 8,
   "id": "20752665-4603-4418-9df3-dc31089a610b",
   "metadata": {},
   "outputs": [
    {
     "name": "stdout",
     "output_type": "stream",
     "text": [
      "False\n"
     ]
    }
   ],
   "source": [
    "print(2 > 5 and 10 < 15)"
   ]
  },
  {
   "cell_type": "code",
   "execution_count": 9,
   "id": "c23303d8-5406-4903-bae1-6f26bb59c2e9",
   "metadata": {},
   "outputs": [
    {
     "name": "stdout",
     "output_type": "stream",
     "text": [
      "True\n"
     ]
    }
   ],
   "source": [
    "print(10 > 3 or 6 < 10)"
   ]
  },
  {
   "cell_type": "code",
   "execution_count": 10,
   "id": "53cd31d6-8e6d-40a2-b0cb-5ba1ea572b19",
   "metadata": {},
   "outputs": [
    {
     "name": "stdout",
     "output_type": "stream",
     "text": [
      "True\n"
     ]
    }
   ],
   "source": [
    "print(10 < 100 or 6 < 10)"
   ]
  },
  {
   "cell_type": "code",
   "execution_count": 11,
   "id": "38c0d360-6229-4514-81eb-3cee3dfbed78",
   "metadata": {},
   "outputs": [
    {
     "name": "stdout",
     "output_type": "stream",
     "text": [
      "True\n"
     ]
    }
   ],
   "source": [
    "print(10 >= 3 and 10 <= 10)"
   ]
  },
  {
   "cell_type": "markdown",
   "id": "ef232769-6737-43a7-ae6a-f098007d2f38",
   "metadata": {},
   "source": [
    "## IF AND ELSE STATEMENTS"
   ]
  },
  {
   "cell_type": "raw",
   "id": "b64e4f2a-2965-4784-95aa-5bc83c47261c",
   "metadata": {},
   "source": [
    "if # condition to check:\n",
    "    #action to perform"
   ]
  },
  {
   "cell_type": "code",
   "execution_count": 17,
   "id": "67cd42e0-2eda-4ccc-9a6d-9485582f881f",
   "metadata": {},
   "outputs": [
    {
     "name": "stdout",
     "output_type": "stream",
     "text": [
      "You are not eligible to be in the next class\n"
     ]
    }
   ],
   "source": [
    "is_completed = False\n",
    "\n",
    "# create the if statement\n",
    "if is_completed == True:\n",
    "    print(\"You are eligible to be in the next class\")\n",
    "else:\n",
    "    print(\"You are not eligible to be in the next class\")"
   ]
  },
  {
   "cell_type": "code",
   "execution_count": 18,
   "id": "cd5ae1e2-bd4b-405f-8226-db1b2d60a1d5",
   "metadata": {},
   "outputs": [
    {
     "name": "stdout",
     "output_type": "stream",
     "text": [
      "That's too expensive\n"
     ]
    }
   ],
   "source": [
    "number = 10\n",
    "if number >= 10:\n",
    "    print(\"That's too expensive\")\n",
    "else:\n",
    "    print(\"That's cheap\")"
   ]
  },
  {
   "cell_type": "code",
   "execution_count": 19,
   "id": "65c9a962-ac36-45fb-ae31-0a011fbe843c",
   "metadata": {},
   "outputs": [
    {
     "name": "stdout",
     "output_type": "stream",
     "text": [
      "yinka is older than amanda\n"
     ]
    }
   ],
   "source": [
    "amanda_age = 11\n",
    "yinka_age = 15\n",
    "\n",
    "if amanda_age > yinka_age:\n",
    "    print(\"amanda is older than yinka\")\n",
    "else:\n",
    "    print(\"yinka is older than amanda\")"
   ]
  },
  {
   "cell_type": "code",
   "execution_count": null,
   "id": "99c72835-eaab-4480-84f2-9f217c206af4",
   "metadata": {},
   "outputs": [],
   "source": []
  }
 ],
 "metadata": {
  "kernelspec": {
   "display_name": "Python 3 (ipykernel)",
   "language": "python",
   "name": "python3"
  },
  "language_info": {
   "codemirror_mode": {
    "name": "ipython",
    "version": 3
   },
   "file_extension": ".py",
   "mimetype": "text/x-python",
   "name": "python",
   "nbconvert_exporter": "python",
   "pygments_lexer": "ipython3",
   "version": "3.12.1"
  }
 },
 "nbformat": 4,
 "nbformat_minor": 5
}
