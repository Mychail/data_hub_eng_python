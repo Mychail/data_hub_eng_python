{
 "cells": [
  {
   "cell_type": "markdown",
   "id": "dd0c9e9b-99e9-4dce-8e7b-115ea38809a6",
   "metadata": {},
   "source": [
    "### CONTROL FLOW"
   ]
  },
  {
   "cell_type": "markdown",
   "id": "53355ff7-efb4-4f68-a8b3-d42b24513441",
   "metadata": {},
   "source": [
    "Conditional Statements"
   ]
  },
  {
   "cell_type": "code",
   "execution_count": 1,
   "id": "e8894f79-e27d-4ebd-ba92-c495ff73e74a",
   "metadata": {},
   "outputs": [
    {
     "name": "stdout",
     "output_type": "stream",
     "text": [
      "True\n"
     ]
    }
   ],
   "source": [
    "print(\"a\" == \"a\") # equality sign"
   ]
  },
  {
   "cell_type": "code",
   "execution_count": 2,
   "id": "9600a203-5e7d-416d-87fa-bc1aee1cb090",
   "metadata": {},
   "outputs": [
    {
     "name": "stdout",
     "output_type": "stream",
     "text": [
      "True\n"
     ]
    }
   ],
   "source": [
    "print(5 != 3) # not equal"
   ]
  },
  {
   "cell_type": "code",
   "execution_count": 3,
   "id": "872693bb-8003-4795-bb33-763dcb6b4d80",
   "metadata": {},
   "outputs": [
    {
     "name": "stdout",
     "output_type": "stream",
     "text": [
      "False\n"
     ]
    }
   ],
   "source": [
    "print(4 > 8) # greater than"
   ]
  },
  {
   "cell_type": "code",
   "execution_count": 4,
   "id": "a3665627-ab2b-4763-aeb0-f61d642212fa",
   "metadata": {},
   "outputs": [
    {
     "name": "stdout",
     "output_type": "stream",
     "text": [
      "True\n"
     ]
    }
   ],
   "source": [
    "print(20 <= 20) # less or equal to"
   ]
  },
  {
   "cell_type": "code",
   "execution_count": 5,
   "id": "4157f9ee-6dca-44bd-a95a-7eef62101a98",
   "metadata": {},
   "outputs": [
    {
     "name": "stdout",
     "output_type": "stream",
     "text": [
      "False\n"
     ]
    }
   ],
   "source": [
    "print(25 >= 100) # greater or equal to"
   ]
  },
  {
   "cell_type": "markdown",
   "id": "c4719eef-c6ab-45f9-bd51-94368f5ab9f5",
   "metadata": {},
   "source": [
    "Logical Operators\n",
    "* and\n",
    "* or"
   ]
  },
  {
   "cell_type": "code",
   "execution_count": 6,
   "id": "20752665-4603-4418-9df3-dc31089a610b",
   "metadata": {},
   "outputs": [
    {
     "name": "stdout",
     "output_type": "stream",
     "text": [
      "False\n"
     ]
    }
   ],
   "source": [
    "print(2 > 5 and 10 < 15)"
   ]
  },
  {
   "cell_type": "code",
   "execution_count": 7,
   "id": "c23303d8-5406-4903-bae1-6f26bb59c2e9",
   "metadata": {},
   "outputs": [
    {
     "name": "stdout",
     "output_type": "stream",
     "text": [
      "True\n"
     ]
    }
   ],
   "source": [
    "print(10 > 3 or 6 < 10)"
   ]
  },
  {
   "cell_type": "code",
   "execution_count": 8,
   "id": "53cd31d6-8e6d-40a2-b0cb-5ba1ea572b19",
   "metadata": {},
   "outputs": [
    {
     "name": "stdout",
     "output_type": "stream",
     "text": [
      "True\n"
     ]
    }
   ],
   "source": [
    "print(10 < 100 or 6 < 10)"
   ]
  },
  {
   "cell_type": "code",
   "execution_count": 9,
   "id": "38c0d360-6229-4514-81eb-3cee3dfbed78",
   "metadata": {},
   "outputs": [
    {
     "name": "stdout",
     "output_type": "stream",
     "text": [
      "True\n"
     ]
    }
   ],
   "source": [
    "print(10 >= 3 and 10 <= 10)"
   ]
  },
  {
   "cell_type": "markdown",
   "id": "ef232769-6737-43a7-ae6a-f098007d2f38",
   "metadata": {},
   "source": [
    "## IF AND ELSE STATEMENTS"
   ]
  },
  {
   "cell_type": "raw",
   "id": "b64e4f2a-2965-4784-95aa-5bc83c47261c",
   "metadata": {},
   "source": [
    "if # condition to check:\n",
    "    #action to perform"
   ]
  },
  {
   "cell_type": "code",
   "execution_count": 10,
   "id": "67cd42e0-2eda-4ccc-9a6d-9485582f881f",
   "metadata": {},
   "outputs": [
    {
     "name": "stdout",
     "output_type": "stream",
     "text": [
      "You are not eligible to be in the next class\n"
     ]
    }
   ],
   "source": [
    "is_completed = False\n",
    "\n",
    "# create the if statement\n",
    "if is_completed == True:\n",
    "    print(\"You are eligible to be in the next class\")\n",
    "else:\n",
    "    print(\"You are not eligible to be in the next class\")"
   ]
  },
  {
   "cell_type": "code",
   "execution_count": 11,
   "id": "cd5ae1e2-bd4b-405f-8226-db1b2d60a1d5",
   "metadata": {},
   "outputs": [
    {
     "name": "stdout",
     "output_type": "stream",
     "text": [
      "That's too expensive\n"
     ]
    }
   ],
   "source": [
    "number = 10\n",
    "if number >= 10:\n",
    "    print(\"That's too expensive\")\n",
    "else:\n",
    "    print(\"That's cheap\")"
   ]
  },
  {
   "cell_type": "code",
   "execution_count": 12,
   "id": "65c9a962-ac36-45fb-ae31-0a011fbe843c",
   "metadata": {},
   "outputs": [
    {
     "name": "stdout",
     "output_type": "stream",
     "text": [
      "yinka is older than amanda\n"
     ]
    }
   ],
   "source": [
    "amanda_age = 11\n",
    "yinka_age = 15\n",
    "\n",
    "if amanda_age > yinka_age:\n",
    "    print(\"amanda is older than yinka\")\n",
    "else:\n",
    "    print(\"yinka is older than amanda\")"
   ]
  },
  {
   "cell_type": "code",
   "execution_count": 13,
   "id": "99c72835-eaab-4480-84f2-9f217c206af4",
   "metadata": {},
   "outputs": [
    {
     "name": "stdout",
     "output_type": "stream",
     "text": [
      "amanda and yinka are of the same age\n"
     ]
    }
   ],
   "source": [
    "#introducing an elif statement\n",
    "amanda_age = 15\n",
    "yinka_age = 15\n",
    "if amanda_age > yinka_age:\n",
    "    print(\"amanda is older than yinka\")\n",
    "elif amanda_age == yinka_age:\n",
    "    print(\"amanda and yinka are of the same age\")\n",
    "else:\n",
    "    print(\"yinka is older than amanda\")"
   ]
  },
  {
   "cell_type": "code",
   "execution_count": 21,
   "id": "8e78edc7-eb7b-4faa-b0ef-ed61d4bd2f29",
   "metadata": {},
   "outputs": [
    {
     "name": "stdout",
     "output_type": "stream",
     "text": [
      "Welcome to prime video,\n",
      "please this movies contain some abusive language,\n",
      "You need to be older than 18, parental guidance advised.\n",
      "\n",
      "\n"
     ]
    },
    {
     "name": "stdin",
     "output_type": "stream",
     "text": [
      "How old are you:  24\n"
     ]
    },
    {
     "name": "stdout",
     "output_type": "stream",
     "text": [
      "\n",
      "\n",
      "checking customer age for eligibility, hold on a sec !!!\n",
      "\n",
      "\n",
      "Welcome, you are eligible to watch this movie\n"
     ]
    }
   ],
   "source": [
    "print(\"\"\"Welcome to prime video,\n",
    "please this movies contain some abusive language,\n",
    "You need to be older than 18, parental guidance advised.\n",
    "\n",
    "\"\"\")\n",
    "\n",
    "# request for user's age\n",
    "user_age = int(input(\"How old are you: \"))\n",
    "\n",
    "print(\"\"\"\n",
    "\n",
    "checking customer age for eligibility, hold on a sec !!!\n",
    "\n",
    "\"\"\")\n",
    "# write an ifstatement that checks if the user is older that 18\n",
    "\n",
    "if user_age >= 18:\n",
    "    print(\"Welcome, you are eligible to watch this movie\")\n",
    "else:\n",
    "    print(\"please, you are not eligible\")\n"
   ]
  },
  {
   "cell_type": "markdown",
   "id": "e3ff2ff5-f069-4917-8e7b-5cdfd853b155",
   "metadata": {},
   "source": [
    "## GUESSING GAME SYSTEM"
   ]
  },
  {
   "cell_type": "code",
   "execution_count": 13,
   "id": "08f3002e-2264-4acd-9400-6a3b3b79551f",
   "metadata": {},
   "outputs": [
    {
     "name": "stdin",
     "output_type": "stream",
     "text": [
      "Enter your name:  sire\n",
      "Please provide your magic number:  66\n"
     ]
    },
    {
     "name": "stdout",
     "output_type": "stream",
     "text": [
      "\n",
      "\n",
      "wait and see if you got it!!!\n",
      "\n",
      "\n",
      "you got it right!!! sire\n"
     ]
    }
   ],
   "source": [
    "# creating a game that allows users to guess the correct number\n",
    "magic_number = 66\n",
    "\n",
    "user_name = input(\"Enter your name: \")\n",
    "\n",
    "user_guess = int(input(\"Please provide your magic number: \"))\n",
    "\n",
    "print(\"\"\"\n",
    "\n",
    "wait and see if you got it!!!\n",
    "\n",
    "\"\"\")\n",
    "\n",
    "if user_guess == magic_number:\n",
    "    print(f\"you got it right!!! {user_name}\")\n",
    "else:\n",
    "    print(f\"Try again next time!!! {user_name}\")"
   ]
  },
  {
   "cell_type": "code",
   "execution_count": 15,
   "id": "3d3d8c8a-96bf-4d93-89c7-8ad4f6059ae5",
   "metadata": {},
   "outputs": [
    {
     "name": "stdin",
     "output_type": "stream",
     "text": [
      "Enter your name:  rand\n",
      "Please provide your magic number:  56\n"
     ]
    },
    {
     "name": "stdout",
     "output_type": "stream",
     "text": [
      "\n",
      "\n",
      "wait and see if you got it!!!\n",
      "\n",
      "\n",
      "Try again next time!!! rand\n"
     ]
    }
   ],
   "source": [
    "import time\n",
    "# creating a game that allows users to guess the correct number\n",
    "magic_number = 66\n",
    "\n",
    "user_name = input(\"Enter your name: \")\n",
    "\n",
    "user_guess = int(input(\"Please provide your magic number: \"))\n",
    "\n",
    "print(\"\"\"\n",
    "\n",
    "wait and see if you got it!!!\n",
    "\n",
    "\"\"\")\n",
    "#using the time module to pause the flow of the response\n",
    "time.sleep(3)\n",
    "\n",
    "if user_guess == magic_number:\n",
    "    print(f\"you got it right!!! {user_name}\")\n",
    "else:\n",
    "    print(f\"Try again next time!!! {user_name}\")"
   ]
  },
  {
   "cell_type": "code",
   "execution_count": 17,
   "id": "11a73869-98d1-4eb5-9e35-a1f8c0228bd1",
   "metadata": {},
   "outputs": [
    {
     "name": "stdin",
     "output_type": "stream",
     "text": [
      "Enter your name:  rand\n",
      "Please provide your magic number:  34\n"
     ]
    },
    {
     "name": "stdout",
     "output_type": "stream",
     "text": [
      "\n",
      "\n",
      "wait and see if you got it!!!\n",
      "\n",
      "\n",
      "Ooops, wrong magic number rand, the correct magic number is 31\n"
     ]
    }
   ],
   "source": [
    "# using the the random module to make the magic number generate automatically\n",
    "from random import randint\n",
    "import time\n",
    "# creating a game that allows users to guess the correct number\n",
    "magic_number = randint(1, 100)\n",
    "\n",
    "user_name = input(\"Enter your name: \")\n",
    "\n",
    "user_guess = int(input(\"Please provide your magic number: \"))\n",
    "\n",
    "print(\"\"\"\n",
    "\n",
    "wait and see if you got it!!!\n",
    "\n",
    "\"\"\")\n",
    "#using the time module to pause the flow of the response\n",
    "time.sleep(3)\n",
    "\n",
    "if user_guess == magic_number:\n",
    "    print(f\"Congrats {user_name}, the magic number is {magic_number}\")\n",
    "else:\n",
    "    print(f\"Ooops, wrong magic number {user_name}, the correct magic number is {magic_number}\")\n"
   ]
  },
  {
   "cell_type": "code",
   "execution_count": null,
   "id": "d9730ce4-bf7f-4c3e-b167-932b2c6712aa",
   "metadata": {},
   "outputs": [],
   "source": []
  }
 ],
 "metadata": {
  "kernelspec": {
   "display_name": "Python 3 (ipykernel)",
   "language": "python",
   "name": "python3"
  },
  "language_info": {
   "codemirror_mode": {
    "name": "ipython",
    "version": 3
   },
   "file_extension": ".py",
   "mimetype": "text/x-python",
   "name": "python",
   "nbconvert_exporter": "python",
   "pygments_lexer": "ipython3",
   "version": "3.12.1"
  }
 },
 "nbformat": 4,
 "nbformat_minor": 5
}
